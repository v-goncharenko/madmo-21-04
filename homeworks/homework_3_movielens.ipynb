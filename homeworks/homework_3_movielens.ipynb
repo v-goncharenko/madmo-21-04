{
 "cells": [
  {
   "cell_type": "markdown",
   "metadata": {
    "id": "aNefBwu1VA7M"
   },
   "source": [
    "# Рекомендательная система на базе датасета **movielens**"
   ]
  },
  {
   "cell_type": "markdown",
   "metadata": {
    "id": "59_iZqNkVA7S"
   },
   "source": [
    "Один из наиболее известных датасетов в мире рекомендательных систем - Movielens 25M, содержащий рейтинги к фильмам, оставленные различными пользователями на одноименном сайте https://movielens.org/.\n",
    "\n",
    "Мы будем использовать мини-версию датасета, содержащую 100 тысяч записей рейтингов фильмов."
   ]
  },
  {
   "cell_type": "markdown",
   "metadata": {
    "id": "7MTzoxulVA7V"
   },
   "source": [
    "## Загрузка данных"
   ]
  },
  {
   "cell_type": "markdown",
   "metadata": {
    "id": "I5fvYqJDVA7X"
   },
   "source": [
    "Для создания алгоритмов рекомендательной системы, будем использовать библиотеку **surprise**."
   ]
  },
  {
   "cell_type": "markdown",
   "metadata": {
    "id": "rt05w2p2VA7Z"
   },
   "source": [
    "Установим её, если она ещё не установлена на компьютер."
   ]
  },
  {
   "cell_type": "code",
   "execution_count": 1,
   "metadata": {
    "ExecuteTime": {
     "end_time": "2021-05-19T21:44:04.713021Z",
     "start_time": "2021-05-19T21:43:39.695307Z"
    },
    "colab": {
     "base_uri": "https://localhost:8080/",
     "height": 280
    },
    "id": "jZ0JToZrVA7c",
    "outputId": "9027a1af-a856-4797-98ce-2269ace66c21"
   },
   "outputs": [
    {
     "name": "stdout",
     "output_type": "stream",
     "text": [
      "Collecting scikit-surprise\n",
      "  Downloading scikit-surprise-1.1.1.tar.gz (11.8 MB)\n",
      "\u001b[K     |████████████████████████████████| 11.8 MB 781 kB/s eta 0:00:01\n",
      "\u001b[?25hRequirement already satisfied: joblib>=0.11 in /usr/local/Caskroom/miniconda/base/envs/ml-mipt/lib/python3.8/site-packages (from scikit-surprise) (1.0.1)\n",
      "Requirement already satisfied: numpy>=1.11.2 in /usr/local/Caskroom/miniconda/base/envs/ml-mipt/lib/python3.8/site-packages (from scikit-surprise) (1.20.1)\n",
      "Requirement already satisfied: scipy>=1.0.0 in /usr/local/Caskroom/miniconda/base/envs/ml-mipt/lib/python3.8/site-packages (from scikit-surprise) (1.6.1)\n",
      "Requirement already satisfied: six>=1.10.0 in /usr/local/Caskroom/miniconda/base/envs/ml-mipt/lib/python3.8/site-packages (from scikit-surprise) (1.15.0)\n",
      "Building wheels for collected packages: scikit-surprise\n",
      "  Building wheel for scikit-surprise (setup.py) ... \u001b[?25ldone\n",
      "\u001b[?25h  Created wheel for scikit-surprise: filename=scikit_surprise-1.1.1-cp38-cp38-macosx_10_9_x86_64.whl size=785461 sha256=f644a3b768a410eb8c52469801c88a199f32d594003012fa2d185db6cc0a7409\n",
      "  Stored in directory: /Users/pepper/Library/Caches/pip/wheels/20/91/57/2965d4cff1b8ac7ed1b6fa25741882af3974b54a31759e10b6\n",
      "Successfully built scikit-surprise\n",
      "Installing collected packages: scikit-surprise\n",
      "Successfully installed scikit-surprise-1.1.1\n"
     ]
    }
   ],
   "source": [
    "!pip install scikit-surprise"
   ]
  },
  {
   "cell_type": "code",
   "execution_count": 2,
   "metadata": {
    "ExecuteTime": {
     "end_time": "2021-05-19T21:44:06.029598Z",
     "start_time": "2021-05-19T21:44:04.717362Z"
    },
    "id": "jpq1v5WTVA7n"
   },
   "outputs": [],
   "source": [
    "from surprise import Dataset"
   ]
  },
  {
   "cell_type": "markdown",
   "metadata": {
    "id": "78r_pDDhVA7v"
   },
   "source": [
    "Загружаем датасет из **surprise**"
   ]
  },
  {
   "cell_type": "code",
   "execution_count": 4,
   "metadata": {
    "ExecuteTime": {
     "end_time": "2021-05-19T21:44:54.051477Z",
     "start_time": "2021-05-19T21:44:52.353186Z"
    },
    "id": "1eJDcXYDVA7x"
   },
   "outputs": [
    {
     "name": "stdout",
     "output_type": "stream",
     "text": [
      "Trying to download dataset from http://files.grouplens.org/datasets/movielens/ml-100k.zip...\n",
      "Done! Dataset ml-100k has been saved to /Users/pepper/.surprise_data/ml-100k\n"
     ]
    }
   ],
   "source": [
    "data = Dataset.load_builtin(\"ml-100k\", prompt=False)"
   ]
  },
  {
   "cell_type": "markdown",
   "metadata": {
    "ExecuteTime": {
     "end_time": "2021-05-19T22:12:49.230638Z",
     "start_time": "2021-05-19T22:12:49.225985Z"
    }
   },
   "source": [
    "**Замечание для любителей настоящих данных**\n",
    "\n",
    "Вы можете попробовать загрузить полную верисю датасета (`'ml-1m'`) и попробовать сделать задание на нём.\n",
    "\n",
    "Но вычисления будут занимать большее количество времени (и требовать некоторого железа).\n",
    "\n",
    "За использование расширенного датасета не будет бонусов в оценке (да и результатах по большей части тоже) - только ваш энтузиазм."
   ]
  },
  {
   "cell_type": "markdown",
   "metadata": {
    "id": "M7FSaRcPVA74"
   },
   "source": [
    "## Визуализация данных"
   ]
  },
  {
   "cell_type": "markdown",
   "metadata": {
    "id": "_xcR-N4kVA76"
   },
   "source": [
    "Для удобной работы с данными загрузим библиотеку **pandas**"
   ]
  },
  {
   "cell_type": "code",
   "execution_count": 5,
   "metadata": {
    "ExecuteTime": {
     "end_time": "2021-05-19T21:45:10.083388Z",
     "start_time": "2021-05-19T21:45:09.808012Z"
    },
    "id": "IbXPCvMzVA78"
   },
   "outputs": [],
   "source": [
    "import pandas as pd"
   ]
  },
  {
   "cell_type": "markdown",
   "metadata": {
    "id": "cBXvcnFRVA8J"
   },
   "source": [
    "Преобразуем данные к формату **pandas DataFrame**, для удобной работы с ними:"
   ]
  },
  {
   "cell_type": "code",
   "execution_count": 6,
   "metadata": {
    "ExecuteTime": {
     "end_time": "2021-05-19T21:45:10.722512Z",
     "start_time": "2021-05-19T21:45:10.679709Z"
    },
    "id": "4c78lO-xVA8L"
   },
   "outputs": [],
   "source": [
    "df = pd.DataFrame(data.raw_ratings, columns=[\"userId\", \"movieId\", \"rating\", \"timestamp\"])"
   ]
  },
  {
   "cell_type": "code",
   "execution_count": 7,
   "metadata": {
    "ExecuteTime": {
     "end_time": "2021-05-19T21:45:11.315222Z",
     "start_time": "2021-05-19T21:45:11.296874Z"
    },
    "colab": {
     "base_uri": "https://localhost:8080/",
     "height": 355
    },
    "id": "z8iZfdnZVA8S",
    "outputId": "c4d7f528-341a-4934-ef9c-df1e6bdeac41"
   },
   "outputs": [
    {
     "data": {
      "text/html": [
       "<div>\n",
       "<style scoped>\n",
       "    .dataframe tbody tr th:only-of-type {\n",
       "        vertical-align: middle;\n",
       "    }\n",
       "\n",
       "    .dataframe tbody tr th {\n",
       "        vertical-align: top;\n",
       "    }\n",
       "\n",
       "    .dataframe thead th {\n",
       "        text-align: right;\n",
       "    }\n",
       "</style>\n",
       "<table border=\"1\" class=\"dataframe\">\n",
       "  <thead>\n",
       "    <tr style=\"text-align: right;\">\n",
       "      <th></th>\n",
       "      <th>userId</th>\n",
       "      <th>movieId</th>\n",
       "      <th>rating</th>\n",
       "      <th>timestamp</th>\n",
       "    </tr>\n",
       "  </thead>\n",
       "  <tbody>\n",
       "    <tr>\n",
       "      <th>0</th>\n",
       "      <td>196</td>\n",
       "      <td>242</td>\n",
       "      <td>3.0</td>\n",
       "      <td>881250949</td>\n",
       "    </tr>\n",
       "    <tr>\n",
       "      <th>1</th>\n",
       "      <td>186</td>\n",
       "      <td>302</td>\n",
       "      <td>3.0</td>\n",
       "      <td>891717742</td>\n",
       "    </tr>\n",
       "    <tr>\n",
       "      <th>2</th>\n",
       "      <td>22</td>\n",
       "      <td>377</td>\n",
       "      <td>1.0</td>\n",
       "      <td>878887116</td>\n",
       "    </tr>\n",
       "    <tr>\n",
       "      <th>3</th>\n",
       "      <td>244</td>\n",
       "      <td>51</td>\n",
       "      <td>2.0</td>\n",
       "      <td>880606923</td>\n",
       "    </tr>\n",
       "    <tr>\n",
       "      <th>4</th>\n",
       "      <td>166</td>\n",
       "      <td>346</td>\n",
       "      <td>1.0</td>\n",
       "      <td>886397596</td>\n",
       "    </tr>\n",
       "    <tr>\n",
       "      <th>5</th>\n",
       "      <td>298</td>\n",
       "      <td>474</td>\n",
       "      <td>4.0</td>\n",
       "      <td>884182806</td>\n",
       "    </tr>\n",
       "    <tr>\n",
       "      <th>6</th>\n",
       "      <td>115</td>\n",
       "      <td>265</td>\n",
       "      <td>2.0</td>\n",
       "      <td>881171488</td>\n",
       "    </tr>\n",
       "    <tr>\n",
       "      <th>7</th>\n",
       "      <td>253</td>\n",
       "      <td>465</td>\n",
       "      <td>5.0</td>\n",
       "      <td>891628467</td>\n",
       "    </tr>\n",
       "    <tr>\n",
       "      <th>8</th>\n",
       "      <td>305</td>\n",
       "      <td>451</td>\n",
       "      <td>3.0</td>\n",
       "      <td>886324817</td>\n",
       "    </tr>\n",
       "    <tr>\n",
       "      <th>9</th>\n",
       "      <td>6</td>\n",
       "      <td>86</td>\n",
       "      <td>3.0</td>\n",
       "      <td>883603013</td>\n",
       "    </tr>\n",
       "  </tbody>\n",
       "</table>\n",
       "</div>"
      ],
      "text/plain": [
       "  userId movieId  rating  timestamp\n",
       "0    196     242     3.0  881250949\n",
       "1    186     302     3.0  891717742\n",
       "2     22     377     1.0  878887116\n",
       "3    244      51     2.0  880606923\n",
       "4    166     346     1.0  886397596\n",
       "5    298     474     4.0  884182806\n",
       "6    115     265     2.0  881171488\n",
       "7    253     465     5.0  891628467\n",
       "8    305     451     3.0  886324817\n",
       "9      6      86     3.0  883603013"
      ]
     },
     "execution_count": 7,
     "metadata": {},
     "output_type": "execute_result"
    }
   ],
   "source": [
    "df.head(10)"
   ]
  },
  {
   "cell_type": "markdown",
   "metadata": {
    "id": "8lk_aMC6VA8a"
   },
   "source": [
    "*  Колонка **userId** - идентификаторы пользователей сайта movielens;\n",
    "*  Колонка **movieId** - идентификаторы фильмов;\n",
    "*  Колонка **rating** - оценки фильмов пользователями по шкале от 1 до 5;\n",
    "*  Колонка **timestamp** - это время оценки фильма пользователем. Данный формат представления времени показывает, сколько секунд прошло с 1 января 1970 года."
   ]
  },
  {
   "cell_type": "markdown",
   "metadata": {
    "id": "cGXqlWpiVA8c"
   },
   "source": [
    "Мы можем посмотреть, сколько уникальных значений находится в каждой из колонок."
   ]
  },
  {
   "cell_type": "code",
   "execution_count": 9,
   "metadata": {
    "ExecuteTime": {
     "end_time": "2021-05-19T22:02:35.215890Z",
     "start_time": "2021-05-19T22:02:35.136012Z"
    },
    "colab": {
     "base_uri": "https://localhost:8080/",
     "height": 104
    },
    "id": "VwB6SrRHVA8e",
    "outputId": "00d2cdd5-e098-4283-f07c-4b1b4e928070"
   },
   "outputs": [
    {
     "data": {
      "text/plain": [
       "userId         943\n",
       "movieId       1682\n",
       "rating           5\n",
       "timestamp    49282\n",
       "dtype: int64"
      ]
     },
     "execution_count": 9,
     "metadata": {},
     "output_type": "execute_result"
    }
   ],
   "source": [
    "df.apply(\"nunique\")"
   ]
  },
  {
   "cell_type": "markdown",
   "metadata": {
    "id": "gdNUHvGaVA8l"
   },
   "source": [
    "Для корректной работы с графиками в python требуется загрузить специальную библиотеку\n",
    "**matplotlib**, программную библиотеку на языке python для визуализации данных двумерной и трехмерной графикой."
   ]
  },
  {
   "cell_type": "code",
   "execution_count": 10,
   "metadata": {
    "ExecuteTime": {
     "end_time": "2021-05-19T22:02:36.325431Z",
     "start_time": "2021-05-19T22:02:36.079842Z"
    },
    "id": "pLiOWELmVA8n"
   },
   "outputs": [],
   "source": [
    "# включим отрисовку графиков непосредственно в ячейках тетрадки\n",
    "%matplotlib inline"
   ]
  },
  {
   "cell_type": "markdown",
   "metadata": {
    "id": "Tmcpr7aiVA8r"
   },
   "source": [
    "Посмотрим наглядно, как часто в датасете встречаются разные оценки:"
   ]
  },
  {
   "cell_type": "code",
   "execution_count": 11,
   "metadata": {
    "ExecuteTime": {
     "end_time": "2021-05-19T22:02:37.345997Z",
     "start_time": "2021-05-19T22:02:37.184180Z"
    },
    "colab": {
     "base_uri": "https://localhost:8080/",
     "height": 281
    },
    "id": "3XYMil_AVA8s",
    "outputId": "6ac3930c-0a6b-41ca-ff59-3e2e96d62b34"
   },
   "outputs": [
    {
     "data": {
      "image/png": "[encoded data removed]",
      "text/plain": [
       "<Figure size 432x288 with 1 Axes>"
      ]
     },
     "metadata": {
      "needs_background": "light"
     },
     "output_type": "display_data"
    }
   ],
   "source": [
    "df[\"rating\"].value_counts().sort_index().plot.bar(title=\"Распределение рейтингов\", rot=0);"
   ]
  },
  {
   "cell_type": "markdown",
   "metadata": {
    "id": "sc4V13ojVA8x"
   },
   "source": [
    "## Разбиение выборки на обучающую и тестовую"
   ]
  },
  {
   "cell_type": "markdown",
   "metadata": {
    "id": "feldOglfVA8z"
   },
   "source": [
    "Библиотека **surprise** высокоуровневая, и позволяет нам разбить данные на обучающую и тестовую выборки всего одной функцией **train_test_split()**"
   ]
  },
  {
   "cell_type": "code",
   "execution_count": 12,
   "metadata": {
    "ExecuteTime": {
     "end_time": "2021-05-19T22:02:38.425837Z",
     "start_time": "2021-05-19T22:02:38.423431Z"
    },
    "id": "wj01SJESVA80"
   },
   "outputs": [],
   "source": [
    "from surprise.model_selection import train_test_split"
   ]
  },
  {
   "cell_type": "markdown",
   "metadata": {
    "id": "oapSXAZ2VA84"
   },
   "source": [
    "Функция **train_test_split()** принимает на вход два параметра:\n",
    "*  **data** - данные\n",
    "*  **test_size** - доля тестовой выборки. Укажем 0,25, чтобы тестовая выборка составляла 25% от всей выборки."
   ]
  },
  {
   "cell_type": "code",
   "execution_count": 13,
   "metadata": {
    "ExecuteTime": {
     "end_time": "2021-05-19T22:02:39.800246Z",
     "start_time": "2021-05-19T22:02:39.639654Z"
    },
    "id": "tL12glA_VA85"
   },
   "outputs": [],
   "source": [
    "trainset, testset = train_test_split(data, test_size=0.25)"
   ]
  },
  {
   "cell_type": "markdown",
   "metadata": {},
   "source": [
    "# Задание 1\n",
    "\n",
    "Проведите исследование данных (exploratory data analysis, EDA).\n",
    "\n",
    "Выясните:\n",
    "\n",
    "1. Сколько оценок в среднем поставил один человек (и какова выборочная дисперсия этой величины)\n",
    "2. Сколько оценок в среднем имеет один фильм (+дисперсия)\n",
    "\n",
    "Также для каждой из этих величин постройте гистограму (или violin plot) распределения чтобы увидеть картину целиком. Возможно вам понадобится использовать логарифмический масштаб осей (эту настройку можно передать в matplotlib)."
   ]
  },
  {
   "cell_type": "code",
   "execution_count": 14,
   "metadata": {
    "ExecuteTime": {
     "end_time": "2021-05-19T22:02:40.697202Z",
     "start_time": "2021-05-19T22:02:40.695626Z"
    }
   },
   "outputs": [],
   "source": [
    "# Ваш код тут"
   ]
  },
  {
   "cell_type": "markdown",
   "metadata": {
    "id": "Pjk90jTfVA89"
   },
   "source": [
    "## Построение простой модели"
   ]
  },
  {
   "cell_type": "code",
   "execution_count": 15,
   "metadata": {
    "ExecuteTime": {
     "end_time": "2021-05-19T22:02:41.561498Z",
     "start_time": "2021-05-19T22:02:41.559739Z"
    },
    "id": "R4bUU2_iVA8-"
   },
   "outputs": [],
   "source": [
    "from surprise import SVD, KNNBasic, accuracy"
   ]
  },
  {
   "cell_type": "markdown",
   "metadata": {
    "id": "wIrqEcYHVA9C"
   },
   "source": [
    "Инициализируем алгоритм. Алгоритм SVD - один из самых распространенных методов матричной факторизации (представления матрицы в виде произведения нескольких матриц). Такое представление позволяет анализировать похожие матрицы и раскладывать их на так называемые \"компоненты\". А так же, восстанавливая матрицы их этих компонент - заполнять недостающие значения (в нашем случае - оценки). Почитать можно здесь: http://www.albertauyeung.com/post/python-matrix-factorization/"
   ]
  },
  {
   "cell_type": "code",
   "execution_count": 16,
   "metadata": {
    "ExecuteTime": {
     "end_time": "2021-05-19T22:02:42.425602Z",
     "start_time": "2021-05-19T22:02:42.423778Z"
    },
    "id": "U-C8PSgmVA9D"
   },
   "outputs": [],
   "source": [
    "algo = SVD()"
   ]
  },
  {
   "cell_type": "markdown",
   "metadata": {
    "id": "T46Qt-efVA9G"
   },
   "source": [
    "Тренируем на тренировочной выборке алгоритм."
   ]
  },
  {
   "cell_type": "code",
   "execution_count": 17,
   "metadata": {
    "ExecuteTime": {
     "end_time": "2021-05-19T22:02:46.743669Z",
     "start_time": "2021-05-19T22:02:43.351791Z"
    },
    "id": "023_UmhzVA9I"
   },
   "outputs": [],
   "source": [
    "algo.fit(trainset);"
   ]
  },
  {
   "cell_type": "markdown",
   "metadata": {
    "id": "PLr4X8_3VA9M"
   },
   "source": [
    "Делаем предсказание на тестовой выборке."
   ]
  },
  {
   "cell_type": "code",
   "execution_count": 18,
   "metadata": {
    "ExecuteTime": {
     "end_time": "2021-05-19T22:02:46.889187Z",
     "start_time": "2021-05-19T22:02:46.745178Z"
    },
    "id": "bgtICWuYVA9N"
   },
   "outputs": [],
   "source": [
    "predictions = algo.test(testset)"
   ]
  },
  {
   "cell_type": "code",
   "execution_count": 19,
   "metadata": {
    "ExecuteTime": {
     "end_time": "2021-05-19T22:02:46.935936Z",
     "start_time": "2021-05-19T22:02:46.891085Z"
    },
    "colab": {
     "base_uri": "https://localhost:8080/",
     "height": 1000
    },
    "id": "Vl2LGS6R_w5Y",
    "outputId": "b51d53c7-4d16-46e8-c6d3-668f314aad33"
   },
   "outputs": [
    {
     "data": {
      "text/plain": [
       "[('388', '326', 5.0),\n",
       " ('74', '508', 4.0),\n",
       " ('269', '209', 4.0),\n",
       " ('112', '891', 3.0),\n",
       " ('222', '158', 3.0),\n",
       " ('2', '291', 3.0),\n",
       " ('664', '1', 4.0),\n",
       " ('932', '379', 2.0),\n",
       " ('389', '1444', 3.0),\n",
       " ('97', '193', 4.0),\n",
       " ('456', '12', 3.0),\n",
       " ('495', '416', 5.0),\n",
       " ('683', '325', 2.0),\n",
       " ('593', '974', 2.0),\n",
       " ('503', '482', 5.0),\n",
       " ('58', '709', 5.0),\n",
       " ('585', '30', 4.0),\n",
       " ('560', '483', 5.0),\n",
       " ('541', '1035', 3.0),\n",
       " ('566', '685', 3.0),\n",
       " ('804', '419', 3.0),\n",
       " ('827', '333', 3.0),\n",
       " ('389', '427', 5.0),\n",
       " ('862', '737', 4.0),\n",
       " ('478', '381', 5.0),\n",
       " ('543', '480', 4.0),\n",
       " ('105', '751', 2.0),\n",
       " ('293', '48', 5.0),\n",
       " ('848', '640', 1.0),\n",
       " ('823', '87', 5.0),\n",
       " ('393', '78', 2.0),\n",
       " ('483', '277', 3.0),\n",
       " ('437', '420', 3.0),\n",
       " ('468', '117', 2.0),\n",
       " ('452', '71', 3.0),\n",
       " ('707', '1068', 4.0),\n",
       " ('380', '1065', 4.0),\n",
       " ('130', '295', 3.0),\n",
       " ('415', '754', 4.0),\n",
       " ('846', '716', 3.0),\n",
       " ('927', '552', 4.0),\n",
       " ('250', '222', 4.0),\n",
       " ('399', '161', 3.0),\n",
       " ('720', '896', 5.0),\n",
       " ('313', '566', 4.0),\n",
       " ('624', '319', 3.0),\n",
       " ('85', '282', 3.0),\n",
       " ('529', '260', 4.0),\n",
       " ('748', '222', 4.0),\n",
       " ('380', '100', 4.0),\n",
       " ('363', '474', 5.0),\n",
       " ('859', '1095', 2.0),\n",
       " ('110', '905', 3.0),\n",
       " ('711', '214', 4.0),\n",
       " ('727', '148', 2.0),\n",
       " ('97', '228', 5.0),\n",
       " ('831', '326', 4.0),\n",
       " ('653', '213', 2.0),\n",
       " ('747', '79', 4.0),\n",
       " ('472', '1210', 3.0),\n",
       " ('782', '690', 4.0),\n",
       " ('44', '229', 3.0),\n",
       " ('809', '258', 3.0),\n",
       " ('262', '754', 3.0),\n",
       " ('703', '1012', 4.0),\n",
       " ('332', '156', 4.0),\n",
       " ('495', '176', 5.0),\n",
       " ('344', '176', 5.0),\n",
       " ('399', '560', 3.0),\n",
       " ('468', '462', 4.0),\n",
       " ('761', '678', 2.0),\n",
       " ('766', '837', 3.0),\n",
       " ('305', '160', 4.0),\n",
       " ('45', '15', 4.0),\n",
       " ('94', '191', 5.0),\n",
       " ('880', '54', 3.0),\n",
       " ('374', '845', 2.0),\n",
       " ('459', '19', 3.0),\n",
       " ('936', '294', 3.0),\n",
       " ('13', '48', 5.0),\n",
       " ('893', '96', 4.0),\n",
       " ('393', '12', 5.0),\n",
       " ('846', '585', 2.0),\n",
       " ('886', '94', 4.0),\n",
       " ('727', '576', 4.0),\n",
       " ('291', '769', 1.0),\n",
       " ('896', '91', 2.0),\n",
       " ('823', '101', 3.0),\n",
       " ('716', '227', 3.0),\n",
       " ('506', '333', 4.0),\n",
       " ('676', '257', 5.0),\n",
       " ('248', '168', 4.0),\n",
       " ('164', '825', 4.0),\n",
       " ('594', '319', 3.0),\n",
       " ('389', '153', 3.0),\n",
       " ('374', '89', 2.0),\n",
       " ('7', '441', 2.0),\n",
       " ('859', '955', 5.0),\n",
       " ('200', '50', 5.0),\n",
       " ('711', '588', 4.0),\n",
       " ('346', '1188', 1.0),\n",
       " ('840', '183', 5.0),\n",
       " ('233', '506', 5.0),\n",
       " ('864', '404', 4.0),\n",
       " ('932', '82', 3.0),\n",
       " ('178', '271', 4.0),\n",
       " ('214', '479', 4.0),\n",
       " ('700', '144', 4.0),\n",
       " ('933', '746', 4.0),\n",
       " ('361', '283', 4.0),\n",
       " ('922', '579', 3.0),\n",
       " ('653', '1012', 4.0),\n",
       " ('311', '198', 3.0),\n",
       " ('233', '504', 5.0),\n",
       " ('297', '257', 3.0),\n",
       " ('463', '930', 1.0),\n",
       " ('405', '372', 1.0),\n",
       " ('823', '709', 3.0),\n",
       " ('710', '192', 5.0),\n",
       " ('592', '297', 5.0),\n",
       " ('455', '279', 3.0),\n",
       " ('244', '1107', 2.0),\n",
       " ('336', '742', 3.0),\n",
       " ('667', '315', 4.0),\n",
       " ('396', '1', 4.0),\n",
       " ('773', '737', 3.0),\n",
       " ('221', '824', 3.0),\n",
       " ('864', '433', 3.0),\n",
       " ('493', '1016', 4.0),\n",
       " ('347', '158', 3.0),\n",
       " ('303', '1145', 2.0),\n",
       " ('561', '198', 3.0),\n",
       " ('16', '480', 5.0),\n",
       " ('61', '327', 2.0),\n",
       " ('716', '499', 4.0),\n",
       " ('435', '215', 2.0),\n",
       " ('689', '475', 4.0),\n",
       " ('332', '228', 5.0),\n",
       " ('127', '750', 1.0),\n",
       " ('130', '931', 2.0),\n",
       " ('62', '50', 5.0),\n",
       " ('239', '114', 3.0),\n",
       " ('446', '294', 1.0),\n",
       " ('665', '177', 3.0),\n",
       " ('524', '277', 3.0),\n",
       " ('238', '1190', 3.0),\n",
       " ('243', '191', 5.0),\n",
       " ('682', '328', 3.0),\n",
       " ('896', '33', 2.0),\n",
       " ('712', '402', 4.0),\n",
       " ('125', '134', 5.0),\n",
       " ('648', '199', 4.0),\n",
       " ('286', '127', 4.0),\n",
       " ('527', '855', 2.0),\n",
       " ('621', '1185', 3.0),\n",
       " ('499', '525', 4.0),\n",
       " ('667', '487', 5.0),\n",
       " ('450', '154', 3.0),\n",
       " ('207', '23', 4.0),\n",
       " ('864', '169', 5.0),\n",
       " ('563', '70', 4.0),\n",
       " ('655', '171', 2.0),\n",
       " ('133', '308', 4.0),\n",
       " ('53', '118', 4.0),\n",
       " ('346', '11', 4.0),\n",
       " ('490', '292', 3.0),\n",
       " ('92', '249', 3.0),\n",
       " ('890', '340', 4.0),\n",
       " ('749', '88', 4.0),\n",
       " ('394', '156', 4.0),\n",
       " ('881', '69', 3.0),\n",
       " ('421', '466', 4.0),\n",
       " ('863', '300', 5.0),\n",
       " ('342', '833', 3.0),\n",
       " ('825', '249', 3.0),\n",
       " ('1', '58', 4.0),\n",
       " ('583', '100', 5.0),\n",
       " ('503', '233', 5.0),\n",
       " ('814', '219', 4.0),\n",
       " ('910', '751', 3.0),\n",
       " ('227', '19', 4.0),\n",
       " ('198', '403', 4.0),\n",
       " ('146', '272', 5.0),\n",
       " ('727', '455', 3.0),\n",
       " ('716', '568', 4.0),\n",
       " ('744', '238', 4.0),\n",
       " ('586', '431', 3.0),\n",
       " ('178', '77', 4.0),\n",
       " ('92', '528', 4.0),\n",
       " ('344', '707', 4.0),\n",
       " ('270', '736', 5.0),\n",
       " ('244', '77', 4.0),\n",
       " ('244', '52', 4.0),\n",
       " ('325', '525', 5.0),\n",
       " ('61', '304', 4.0),\n",
       " ('354', '136', 5.0),\n",
       " ('906', '121', 4.0),\n",
       " ('178', '331', 4.0),\n",
       " ('476', '435', 3.0),\n",
       " ('94', '403', 3.0),\n",
       " ('393', '51', 4.0),\n",
       " ('167', '726', 1.0),\n",
       " ('328', '720', 3.0),\n",
       " ('82', '228', 3.0),\n",
       " ('834', '286', 4.0),\n",
       " ('537', '649', 3.0),\n",
       " ('269', '315', 4.0),\n",
       " ('711', '312', 5.0),\n",
       " ('430', '298', 3.0),\n",
       " ('246', '831', 1.0),\n",
       " ('429', '181', 5.0),\n",
       " ('344', '213', 4.0),\n",
       " ('94', '475', 5.0),\n",
       " ('18', '649', 3.0),\n",
       " ('409', '97', 5.0),\n",
       " ('307', '71', 5.0),\n",
       " ('201', '36', 1.0),\n",
       " ('782', '936', 3.0),\n",
       " ('830', '550', 5.0),\n",
       " ('244', '50', 5.0),\n",
       " ('438', '815', 5.0),\n",
       " ('641', '484', 5.0),\n",
       " ('472', '56', 5.0),\n",
       " ('749', '843', 3.0),\n",
       " ('44', '69', 4.0),\n",
       " ('344', '245', 3.0),\n",
       " ('223', '243', 3.0),\n",
       " ('314', '399', 3.0),\n",
       " ('627', '162', 3.0),\n",
       " ('414', '748', 3.0),\n",
       " ('336', '210', 5.0),\n",
       " ('42', '202', 5.0),\n",
       " ('782', '873', 4.0),\n",
       " ('292', '282', 4.0),\n",
       " ('642', '921', 5.0),\n",
       " ('222', '433', 4.0),\n",
       " ('222', '575', 3.0),\n",
       " ('694', '98', 5.0),\n",
       " ('693', '234', 2.0),\n",
       " ('6', '538', 2.0),\n",
       " ('655', '280', 2.0),\n",
       " ('535', '300', 3.0),\n",
       " ('399', '578', 2.0),\n",
       " ('655', '1265', 3.0),\n",
       " ('55', '597', 2.0),\n",
       " ('445', '742', 1.0),\n",
       " ('883', '52', 3.0),\n",
       " ('650', '559', 3.0),\n",
       " ('137', '476', 1.0),\n",
       " ('838', '56', 5.0),\n",
       " ('18', '486', 3.0),\n",
       " ('774', '238', 5.0),\n",
       " ('642', '385', 5.0),\n",
       " ('922', '250', 2.0),\n",
       " ('655', '1214', 2.0),\n",
       " ('127', '230', 5.0),\n",
       " ('624', '321', 4.0),\n",
       " ('696', '305', 4.0),\n",
       " ('806', '271', 3.0),\n",
       " ('927', '395', 3.0),\n",
       " ('713', '1176', 3.0),\n",
       " ('292', '343', 2.0),\n",
       " ('864', '569', 3.0),\n",
       " ('438', '284', 2.0),\n",
       " ('299', '58', 3.0),\n",
       " ('643', '521', 4.0),\n",
       " ('559', '261', 3.0),\n",
       " ('24', '286', 5.0),\n",
       " ('375', '234', 5.0),\n",
       " ('532', '523', 5.0),\n",
       " ('181', '146', 1.0),\n",
       " ('508', '174', 4.0),\n",
       " ('648', '692', 4.0),\n",
       " ('682', '154', 5.0),\n",
       " ('164', '100', 5.0),\n",
       " ('83', '407', 1.0),\n",
       " ('484', '699', 4.0),\n",
       " ('262', '55', 3.0),\n",
       " ('194', '655', 5.0),\n",
       " ('639', '178', 5.0),\n",
       " ('109', '975', 3.0),\n",
       " ('393', '367', 3.0),\n",
       " ('65', '1142', 4.0),\n",
       " ('288', '340', 5.0),\n",
       " ('696', '520', 5.0),\n",
       " ('363', '97', 2.0),\n",
       " ('299', '73', 2.0),\n",
       " ('473', '508', 2.0),\n",
       " ('727', '173', 5.0),\n",
       " ('94', '81', 4.0),\n",
       " ('7', '174', 5.0),\n",
       " ('60', '641', 5.0),\n",
       " ('194', '720', 2.0),\n",
       " ('930', '107', 3.0),\n",
       " ('54', '748', 5.0),\n",
       " ('405', '1210', 1.0),\n",
       " ('13', '720', 4.0),\n",
       " ('407', '28', 4.0),\n",
       " ('535', '166', 4.0),\n",
       " ('643', '156', 5.0),\n",
       " ('535', '50', 5.0),\n",
       " ('659', '127', 5.0),\n",
       " ('408', '242', 4.0),\n",
       " ('722', '928', 3.0),\n",
       " ('25', '208', 4.0),\n",
       " ('643', '153', 4.0),\n",
       " ('846', '183', 4.0),\n",
       " ('18', '23', 4.0),\n",
       " ('374', '4', 2.0),\n",
       " ('456', '919', 4.0),\n",
       " ('671', '201', 3.0),\n",
       " ('332', '295', 3.0),\n",
       " ('7', '89', 5.0),\n",
       " ('492', '923', 5.0),\n",
       " ('621', '825', 3.0),\n",
       " ('332', '53', 3.0),\n",
       " ('7', '482', 3.0),\n",
       " ('239', '701', 5.0),\n",
       " ('255', '455', 2.0),\n",
       " ('399', '230', 3.0),\n",
       " ('227', '823', 2.0),\n",
       " ('910', '597', 3.0),\n",
       " ('160', '195', 4.0),\n",
       " ('712', '215', 3.0),\n",
       " ('214', '276', 3.0),\n",
       " ('450', '729', 4.0),\n",
       " ('145', '896', 2.0),\n",
       " ('13', '687', 1.0),\n",
       " ('391', '276', 3.0),\n",
       " ('119', '322', 4.0),\n",
       " ('92', '370', 1.0),\n",
       " ('401', '371', 3.0),\n",
       " ('650', '969', 3.0),\n",
       " ('892', '649', 5.0),\n",
       " ('378', '179', 2.0),\n",
       " ('846', '1239', 2.0),\n",
       " ('878', '530', 5.0),\n",
       " ('152', '98', 2.0),\n",
       " ('405', '1006', 1.0),\n",
       " ('533', '13', 3.0),\n",
       " ('447', '91', 4.0),\n",
       " ('600', '210', 4.0),\n",
       " ('474', '448', 5.0),\n",
       " ('326', '505', 3.0),\n",
       " ('394', '391', 4.0),\n",
       " ('399', '284', 2.0),\n",
       " ('624', '455', 3.0),\n",
       " ('165', '651', 5.0),\n",
       " ('655', '942', 4.0),\n",
       " ('83', '609', 4.0),\n",
       " ('92', '663', 4.0),\n",
       " ('299', '503', 4.0),\n",
       " ('144', '56', 4.0),\n",
       " ('238', '476', 3.0),\n",
       " ('533', '823', 4.0),\n",
       " ('234', '751', 2.0),\n",
       " ('591', '48', 4.0),\n",
       " ('437', '1098', 3.0),\n",
       " ('460', '19', 5.0),\n",
       " ('734', '607', 5.0),\n",
       " ('594', '357', 4.0),\n",
       " ('85', '515', 5.0),\n",
       " ('747', '429', 4.0),\n",
       " ('504', '90', 3.0),\n",
       " ('426', '601', 3.0),\n",
       " ('707', '815', 2.0),\n",
       " ('936', '333', 3.0),\n",
       " ('522', '96', 3.0),\n",
       " ('648', '448', 3.0),\n",
       " ('393', '696', 4.0),\n",
       " ('27', '515', 4.0),\n",
       " ('591', '172', 3.0),\n",
       " ('437', '475', 3.0),\n",
       " ('908', '288', 4.0),\n",
       " ('105', '327', 4.0),\n",
       " ('622', '1207', 2.0),\n",
       " ('802', '234', 5.0),\n",
       " ('684', '66', 4.0),\n",
       " ('532', '215', 5.0),\n",
       " ('181', '358', 2.0),\n",
       " ('584', '109', 4.0),\n",
       " ('499', '474', 4.0),\n",
       " ('81', '79', 5.0),\n",
       " ('717', '280', 4.0),\n",
       " ('95', '498', 3.0),\n",
       " ('44', '496', 4.0),\n",
       " ('279', '64', 1.0),\n",
       " ('450', '1311', 4.0),\n",
       " ('457', '436', 4.0),\n",
       " ('181', '1084', 2.0),\n",
       " ('463', '813', 4.0),\n",
       " ('284', '289', 3.0),\n",
       " ('389', '521', 3.0),\n",
       " ('608', '655', 5.0),\n",
       " ('253', '746', 3.0),\n",
       " ('689', '260', 3.0),\n",
       " ('715', '71', 3.0),\n",
       " ('749', '404', 5.0),\n",
       " ('707', '251', 5.0),\n",
       " ('389', '579', 1.0),\n",
       " ('618', '1063', 3.0),\n",
       " ('95', '716', 3.0),\n",
       " ('578', '272', 2.0),\n",
       " ('924', '705', 5.0),\n",
       " ('802', '7', 5.0),\n",
       " ('345', '210', 4.0),\n",
       " ('902', '333', 3.0),\n",
       " ('60', '152', 4.0),\n",
       " ('38', '758', 1.0),\n",
       " ('640', '210', 5.0),\n",
       " ('655', '423', 3.0),\n",
       " ('160', '410', 4.0),\n",
       " ('100', '885', 2.0),\n",
       " ('594', '483', 3.0),\n",
       " ('355', '682', 4.0),\n",
       " ('28', '380', 4.0),\n",
       " ('473', '14', 4.0),\n",
       " ('15', '237', 3.0),\n",
       " ('274', '211', 5.0),\n",
       " ('573', '423', 3.0),\n",
       " ('890', '179', 5.0),\n",
       " ('848', '805', 5.0),\n",
       " ('425', '229', 3.0),\n",
       " ('405', '810', 1.0),\n",
       " ('195', '386', 2.0),\n",
       " ('611', '300', 5.0),\n",
       " ('586', '233', 4.0),\n",
       " ('712', '498', 3.0),\n",
       " ('463', '926', 1.0),\n",
       " ('210', '722', 4.0),\n",
       " ('184', '134', 5.0),\n",
       " ('245', '222', 4.0),\n",
       " ('38', '28', 4.0),\n",
       " ('773', '940', 2.0),\n",
       " ('287', '710', 4.0),\n",
       " ('24', '223', 5.0),\n",
       " ('532', '187', 4.0),\n",
       " ('758', '1074', 1.0),\n",
       " ('608', '673', 4.0),\n",
       " ('715', '789', 4.0),\n",
       " ('92', '640', 5.0),\n",
       " ('87', '393', 4.0),\n",
       " ('474', '92', 4.0),\n",
       " ('271', '338', 1.0),\n",
       " ('924', '200', 4.0),\n",
       " ('903', '120', 2.0),\n",
       " ('774', '834', 1.0),\n",
       " ('688', '682', 5.0),\n",
       " ('327', '874', 3.0),\n",
       " ('189', '166', 4.0),\n",
       " ('633', '289', 3.0),\n",
       " ('727', '507', 2.0),\n",
       " ('307', '145', 4.0),\n",
       " ('265', '7', 2.0),\n",
       " ('896', '952', 4.0),\n",
       " ('435', '603', 3.0),\n",
       " ('698', '663', 1.0),\n",
       " ('238', '286', 5.0),\n",
       " ('886', '160', 1.0),\n",
       " ('825', '284', 3.0),\n",
       " ('862', '11', 4.0),\n",
       " ('511', '343', 3.0),\n",
       " ('38', '445', 2.0),\n",
       " ('796', '709', 3.0),\n",
       " ('151', '372', 5.0),\n",
       " ('276', '185', 4.0),\n",
       " ('435', '385', 5.0),\n",
       " ('254', '15', 3.0),\n",
       " ('703', '458', 3.0),\n",
       " ('830', '648', 5.0),\n",
       " ('319', '340', 3.0),\n",
       " ('601', '443', 4.0),\n",
       " ('833', '168', 5.0),\n",
       " ('92', '771', 1.0),\n",
       " ('933', '934', 1.0),\n",
       " ('85', '9', 4.0),\n",
       " ('514', '7', 5.0),\n",
       " ('345', '518', 4.0),\n",
       " ('582', '676', 2.0),\n",
       " ('98', '502', 2.0),\n",
       " ('209', '242', 4.0),\n",
       " ('91', '614', 4.0),\n",
       " ('6', '268', 3.0),\n",
       " ('488', '223', 4.0),\n",
       " ('59', '15', 5.0),\n",
       " ('405', '229', 1.0),\n",
       " ('201', '129', 4.0),\n",
       " ('405', '397', 4.0),\n",
       " ('487', '70', 3.0),\n",
       " ('577', '87', 5.0),\n",
       " ('266', '272', 4.0),\n",
       " ('899', '231', 1.0),\n",
       " ('58', '151', 3.0),\n",
       " ('561', '960', 4.0),\n",
       " ('245', '411', 3.0),\n",
       " ('181', '681', 1.0),\n",
       " ('912', '648', 3.0),\n",
       " ('896', '284', 4.0),\n",
       " ('566', '1044', 3.0),\n",
       " ('533', '435', 4.0),\n",
       " ('655', '782', 3.0),\n",
       " ('87', '1079', 2.0),\n",
       " ('768', '763', 2.0),\n",
       " ('553', '434', 3.0),\n",
       " ('165', '332', 4.0),\n",
       " ('325', '208', 3.0),\n",
       " ('37', '831', 2.0),\n",
       " ('170', '245', 5.0),\n",
       " ('528', '239', 5.0),\n",
       " ('437', '401', 5.0),\n",
       " ('637', '124', 3.0),\n",
       " ('299', '715', 4.0),\n",
       " ('141', '181', 4.0),\n",
       " ('733', '293', 4.0),\n",
       " ('407', '675', 3.0),\n",
       " ('327', '382', 3.0),\n",
       " ('200', '241', 4.0),\n",
       " ('89', '321', 4.0),\n",
       " ('43', '127', 4.0),\n",
       " ('496', '469', 3.0),\n",
       " ('313', '1050', 4.0),\n",
       " ('883', '355', 5.0),\n",
       " ('864', '1446', 3.0),\n",
       " ('437', '211', 4.0),\n",
       " ('652', '125', 2.0),\n",
       " ('685', '319', 2.0),\n",
       " ('118', '32', 5.0),\n",
       " ('65', '50', 5.0),\n",
       " ('834', '50', 5.0),\n",
       " ('100', '881', 1.0),\n",
       " ('57', '1071', 3.0),\n",
       " ('618', '497', 2.0),\n",
       " ('518', '763', 1.0),\n",
       " ('330', '209', 3.0),\n",
       " ('523', '549', 4.0),\n",
       " ('663', '985', 3.0),\n",
       " ('650', '530', 4.0),\n",
       " ('894', '350', 3.0),\n",
       " ('495', '1135', 5.0),\n",
       " ('407', '186', 4.0),\n",
       " ('317', '328', 4.0),\n",
       " ('919', '222', 3.0),\n",
       " ('766', '448', 3.0),\n",
       " ('190', '974', 2.0),\n",
       " ('887', '368', 5.0),\n",
       " ('655', '205', 3.0),\n",
       " ('405', '624', 4.0),\n",
       " ('882', '86', 5.0),\n",
       " ('291', '1109', 4.0),\n",
       " ('764', '418', 4.0),\n",
       " ('286', '155', 4.0),\n",
       " ('399', '84', 2.0),\n",
       " ('227', '319', 4.0),\n",
       " ('301', '7', 4.0),\n",
       " ('7', '643', 4.0),\n",
       " ('864', '245', 4.0),\n",
       " ('84', '291', 3.0),\n",
       " ('717', '327', 3.0),\n",
       " ('138', '497', 5.0),\n",
       " ('436', '658', 5.0),\n",
       " ('688', '1234', 5.0),\n",
       " ('932', '489', 4.0),\n",
       " ('751', '117', 4.0),\n",
       " ('214', '427', 5.0),\n",
       " ('807', '831', 4.0),\n",
       " ('106', '12', 4.0),\n",
       " ('458', '199', 4.0),\n",
       " ('840', '212', 4.0),\n",
       " ('846', '12', 5.0),\n",
       " ('189', '255', 2.0),\n",
       " ('634', '93', 5.0),\n",
       " ('537', '638', 3.0),\n",
       " ('592', '182', 5.0),\n",
       " ('739', '22', 5.0),\n",
       " ('466', '226', 4.0),\n",
       " ('862', '479', 4.0),\n",
       " ('279', '131', 1.0),\n",
       " ('339', '159', 3.0),\n",
       " ('686', '208', 5.0),\n",
       " ('523', '155', 4.0),\n",
       " ('207', '1272', 3.0),\n",
       " ('416', '58', 5.0),\n",
       " ('882', '186', 5.0),\n",
       " ('145', '750', 4.0),\n",
       " ('302', '303', 2.0),\n",
       " ('262', '234', 3.0),\n",
       " ('32', '866', 3.0),\n",
       " ('42', '70', 3.0),\n",
       " ('398', '1126', 4.0),\n",
       " ('788', '483', 5.0),\n",
       " ('788', '684', 5.0),\n",
       " ('622', '380', 4.0),\n",
       " ('840', '303', 5.0),\n",
       " ('874', '285', 4.0),\n",
       " ('141', '274', 5.0),\n",
       " ('727', '993', 4.0),\n",
       " ('202', '423', 3.0),\n",
       " ('56', '1074', 3.0),\n",
       " ('747', '32', 5.0),\n",
       " ('308', '435', 4.0),\n",
       " ('233', '89', 3.0),\n",
       " ('830', '97', 4.0),\n",
       " ('853', '264', 3.0),\n",
       " ('370', '650', 5.0),\n",
       " ('666', '133', 3.0),\n",
       " ('399', '732', 2.0),\n",
       " ('85', '291', 3.0),\n",
       " ('591', '1099', 5.0),\n",
       " ('503', '70', 4.0),\n",
       " ('382', '546', 2.0),\n",
       " ('916', '17', 4.0),\n",
       " ('503', '443', 5.0),\n",
       " ('291', '122', 3.0),\n",
       " ('708', '9', 1.0),\n",
       " ('234', '505', 4.0),\n",
       " ('263', '432', 2.0),\n",
       " ('818', '328', 4.0),\n",
       " ('804', '128', 5.0),\n",
       " ('932', '968', 4.0),\n",
       " ('402', '455', 3.0),\n",
       " ('716', '144', 2.0),\n",
       " ('59', '489', 4.0),\n",
       " ('854', '286', 1.0),\n",
       " ('745', '603', 4.0),\n",
       " ('249', '156', 5.0),\n",
       " ('761', '1014', 1.0),\n",
       " ('892', '76', 4.0),\n",
       " ('301', '742', 4.0),\n",
       " ('392', '513', 5.0),\n",
       " ('766', '8', 5.0),\n",
       " ('128', '468', 1.0),\n",
       " ('57', '264', 2.0),\n",
       " ('664', '513', 4.0),\n",
       " ('773', '1188', 2.0),\n",
       " ('293', '715', 3.0),\n",
       " ('159', '358', 1.0),\n",
       " ('393', '411', 2.0),\n",
       " ('296', '258', 5.0),\n",
       " ('152', '367', 3.0),\n",
       " ('291', '975', 2.0),\n",
       " ('276', '222', 4.0),\n",
       " ('833', '174', 2.0),\n",
       " ('506', '261', 3.0),\n",
       " ('276', '397', 1.0),\n",
       " ('405', '205', 3.0),\n",
       " ('459', '472', 5.0),\n",
       " ('18', '386', 2.0),\n",
       " ('792', '15', 4.0),\n",
       " ('371', '210', 4.0),\n",
       " ('892', '131', 4.0),\n",
       " ('270', '794', 4.0),\n",
       " ('870', '88', 2.0),\n",
       " ('200', '118', 4.0),\n",
       " ('645', '98', 4.0),\n",
       " ('194', '22', 5.0),\n",
       " ('297', '984', 1.0),\n",
       " ('43', '301', 5.0),\n",
       " ('590', '150', 5.0),\n",
       " ('939', '931', 2.0),\n",
       " ('363', '231', 1.0),\n",
       " ('271', '1133', 3.0),\n",
       " ('495', '578', 3.0),\n",
       " ('246', '185', 5.0),\n",
       " ('195', '134', 5.0),\n",
       " ('929', '483', 4.0),\n",
       " ('374', '292', 4.0),\n",
       " ('655', '649', 3.0),\n",
       " ('501', '406', 3.0),\n",
       " ('292', '659', 5.0),\n",
       " ('828', '20', 2.0),\n",
       " ('542', '418', 4.0),\n",
       " ('87', '801', 3.0),\n",
       " ('409', '937', 2.0),\n",
       " ('344', '11', 3.0),\n",
       " ('268', '455', 3.0),\n",
       " ('883', '462', 5.0),\n",
       " ('934', '855', 4.0),\n",
       " ('271', '258', 3.0),\n",
       " ('301', '24', 4.0),\n",
       " ('471', '140', 5.0),\n",
       " ('312', '131', 5.0),\n",
       " ('767', '180', 5.0),\n",
       " ('317', '264', 4.0),\n",
       " ('429', '95', 3.0),\n",
       " ('291', '1229', 2.0),\n",
       " ('263', '31', 4.0),\n",
       " ('716', '609', 3.0),\n",
       " ('184', '1061', 3.0),\n",
       " ('13', '882', 3.0),\n",
       " ('13', '13', 5.0),\n",
       " ('405', '53', 2.0),\n",
       " ('434', '147', 3.0),\n",
       " ('649', '257', 5.0),\n",
       " ('30', '321', 4.0),\n",
       " ('160', '228', 2.0),\n",
       " ('117', '307', 5.0),\n",
       " ('263', '196', 4.0),\n",
       " ('95', '415', 3.0),\n",
       " ('731', '170', 5.0),\n",
       " ('269', '661', 4.0),\n",
       " ('222', '521', 5.0),\n",
       " ('321', '515', 5.0),\n",
       " ('205', '328', 3.0),\n",
       " ('821', '132', 5.0),\n",
       " ('216', '56', 5.0),\n",
       " ('838', '114', 4.0),\n",
       " ('582', '369', 1.0),\n",
       " ('709', '53', 3.0),\n",
       " ('625', '433', 3.0),\n",
       " ('389', '202', 5.0),\n",
       " ('752', '995', 4.0),\n",
       " ('275', '183', 3.0),\n",
       " ('207', '540', 3.0),\n",
       " ('751', '372', 3.0),\n",
       " ('753', '347', 2.0),\n",
       " ('450', '966', 4.0),\n",
       " ('473', '293', 4.0),\n",
       " ('460', '1115', 3.0),\n",
       " ('214', '7', 5.0),\n",
       " ('104', '456', 3.0),\n",
       " ('561', '109', 1.0),\n",
       " ('346', '395', 1.0),\n",
       " ('150', '293', 4.0),\n",
       " ('786', '318', 5.0),\n",
       " ('579', '65', 3.0),\n",
       " ('63', '251', 4.0),\n",
       " ('504', '386', 3.0),\n",
       " ('488', '98', 4.0),\n",
       " ('469', '705', 5.0),\n",
       " ('193', '763', 3.0),\n",
       " ('624', '323', 2.0),\n",
       " ('268', '201', 3.0),\n",
       " ('246', '174', 3.0),\n",
       " ('684', '411', 3.0),\n",
       " ('279', '1219', 3.0),\n",
       " ('937', '874', 3.0),\n",
       " ('865', '408', 5.0),\n",
       " ('293', '17', 2.0),\n",
       " ('534', '294', 5.0),\n",
       " ('305', '610', 3.0),\n",
       " ('383', '660', 4.0),\n",
       " ('751', '734', 1.0),\n",
       " ('328', '739', 3.0),\n",
       " ('269', '998', 5.0),\n",
       " ('296', '186', 3.0),\n",
       " ('138', '222', 4.0),\n",
       " ('184', '693', 3.0),\n",
       " ('158', '70', 4.0),\n",
       " ('416', '197', 5.0),\n",
       " ('897', '633', 5.0),\n",
       " ('429', '591', 3.0),\n",
       " ('919', '253', 3.0),\n",
       " ('145', '901', 1.0),\n",
       " ('936', '1315', 3.0),\n",
       " ('326', '64', 4.0),\n",
       " ('806', '343', 3.0),\n",
       " ('648', '23', 3.0),\n",
       " ('128', '531', 4.0),\n",
       " ('201', '47', 4.0),\n",
       " ('500', '304', 2.0),\n",
       " ('195', '61', 3.0),\n",
       " ('782', '1379', 3.0),\n",
       " ('871', '751', 4.0),\n",
       " ('553', '197', 5.0),\n",
       " ('62', '24', 4.0),\n",
       " ('883', '506', 5.0),\n",
       " ('918', '656', 4.0),\n",
       " ('321', '286', 4.0),\n",
       " ('735', '331', 3.0),\n",
       " ('20', '405', 3.0),\n",
       " ('690', '66', 3.0),\n",
       " ('121', '458', 1.0),\n",
       " ('81', '476', 2.0),\n",
       " ('827', '938', 3.0),\n",
       " ('59', '946', 1.0),\n",
       " ('825', '827', 4.0),\n",
       " ('282', '358', 3.0),\n",
       " ('138', '602', 4.0),\n",
       " ('735', '126', 3.0),\n",
       " ('592', '936', 4.0),\n",
       " ('246', '252', 1.0),\n",
       " ('131', '124', 5.0),\n",
       " ('537', '171', 3.0),\n",
       " ('500', '175', 5.0),\n",
       " ('19', '8', 5.0),\n",
       " ('851', '1287', 1.0),\n",
       " ('355', '329', 3.0),\n",
       " ('314', '66', 5.0),\n",
       " ('555', '120', 4.0),\n",
       " ('788', '211', 4.0),\n",
       " ('477', '778', 4.0),\n",
       " ('450', '482', 5.0),\n",
       " ('624', '260', 2.0),\n",
       " ('500', '1385', 4.0),\n",
       " ('442', '672', 3.0),\n",
       " ('774', '4', 2.0),\n",
       " ('406', '509', 3.0),\n",
       " ('880', '28', 5.0),\n",
       " ('296', '303', 4.0),\n",
       " ('88', '308', 4.0),\n",
       " ('332', '284', 5.0),\n",
       " ('115', '23', 5.0),\n",
       " ('618', '763', 2.0),\n",
       " ('267', '53', 4.0),\n",
       " ('741', '216', 4.0),\n",
       " ('269', '428', 5.0),\n",
       " ('644', '289', 1.0),\n",
       " ('506', '194', 5.0),\n",
       " ('418', '304', 4.0),\n",
       " ('398', '712', 2.0),\n",
       " ('812', '261', 1.0),\n",
       " ('320', '42', 4.0),\n",
       " ('45', '763', 2.0),\n",
       " ('698', '202', 3.0),\n",
       " ('495', '185', 5.0),\n",
       " ('606', '385', 4.0),\n",
       " ('178', '64', 5.0),\n",
       " ('125', '728', 3.0),\n",
       " ('268', '229', 2.0),\n",
       " ('405', '63', 3.0),\n",
       " ('882', '208', 5.0),\n",
       " ('841', '892', 3.0),\n",
       " ('639', '953', 2.0),\n",
       " ('712', '4', 4.0),\n",
       " ('500', '529', 4.0),\n",
       " ('22', '358', 5.0),\n",
       " ('524', '198', 4.0),\n",
       " ('582', '508', 4.0),\n",
       " ('130', '1142', 4.0),\n",
       " ('429', '603', 4.0),\n",
       " ('597', '323', 3.0),\n",
       " ('889', '749', 2.0),\n",
       " ('167', '237', 4.0),\n",
       " ('790', '1132', 2.0),\n",
       " ('751', '209', 4.0),\n",
       " ('325', '492', 4.0),\n",
       " ('843', '209', 3.0),\n",
       " ('189', '523', 4.0),\n",
       " ('268', '525', 4.0),\n",
       " ('710', '172', 4.0),\n",
       " ('863', '682', 3.0),\n",
       " ('189', '199', 5.0),\n",
       " ('52', '121', 4.0),\n",
       " ('42', '357', 5.0),\n",
       " ('135', '603', 4.0),\n",
       " ('299', '1068', 3.0),\n",
       " ('235', '652', 4.0),\n",
       " ('280', '1049', 2.0),\n",
       " ('142', '169', 5.0),\n",
       " ('18', '971', 4.0),\n",
       " ('758', '185', 4.0),\n",
       " ('167', '392', 1.0),\n",
       " ('561', '510', 3.0),\n",
       " ('112', '346', 5.0),\n",
       " ('85', '433', 3.0),\n",
       " ('453', '475', 5.0),\n",
       " ('825', '1049', 3.0),\n",
       " ('493', '50', 5.0),\n",
       " ('653', '234', 3.0),\n",
       " ('645', '656', 4.0),\n",
       " ('323', '762', 4.0),\n",
       " ('379', '202', 5.0),\n",
       " ('492', '212', 3.0),\n",
       " ('766', '22', 3.0),\n",
       " ('450', '1140', 2.0),\n",
       " ('268', '156', 3.0),\n",
       " ('113', '326', 5.0),\n",
       " ('298', '651', 5.0),\n",
       " ('13', '659', 3.0),\n",
       " ('606', '827', 3.0),\n",
       " ('589', '286', 3.0),\n",
       " ('54', '100', 5.0),\n",
       " ('95', '366', 4.0),\n",
       " ('535', '39', 4.0),\n",
       " ('566', '462', 4.0),\n",
       " ('628', '242', 5.0),\n",
       " ('583', '425', 5.0),\n",
       " ('379', '398', 1.0),\n",
       " ('305', '48', 5.0),\n",
       " ('721', '329', 3.0),\n",
       " ('41', '751', 4.0),\n",
       " ('727', '125', 4.0),\n",
       " ('224', '582', 4.0),\n",
       " ('754', '937', 4.0),\n",
       " ('5', '101', 5.0),\n",
       " ('592', '222', 1.0),\n",
       " ('375', '300', 4.0),\n",
       " ('826', '210', 5.0),\n",
       " ('303', '251', 4.0),\n",
       " ('803', '300', 3.0),\n",
       " ('890', '121', 2.0),\n",
       " ('92', '702', 3.0),\n",
       " ('889', '575', 3.0),\n",
       " ('277', '137', 3.0),\n",
       " ('505', '614', 3.0),\n",
       " ('879', '121', 4.0),\n",
       " ('500', '611', 5.0),\n",
       " ('7', '561', 4.0),\n",
       " ('323', '289', 2.0),\n",
       " ('230', '28', 5.0),\n",
       " ('344', '291', 3.0),\n",
       " ('251', '281', 4.0),\n",
       " ('160', '15', 2.0),\n",
       " ('747', '1067', 2.0),\n",
       " ('448', '874', 3.0),\n",
       " ('577', '202', 4.0),\n",
       " ('757', '328', 3.0),\n",
       " ('716', '209', 3.0),\n",
       " ('354', '664', 5.0),\n",
       " ('600', '1419', 3.0),\n",
       " ('201', '46', 4.0),\n",
       " ('805', '428', 5.0),\n",
       " ('740', '319', 3.0),\n",
       " ('158', '118', 5.0),\n",
       " ('797', '1023', 3.0),\n",
       " ('374', '123', 2.0),\n",
       " ('151', '506', 4.0),\n",
       " ('795', '568', 3.0),\n",
       " ('694', '300', 4.0),\n",
       " ('85', '654', 4.0),\n",
       " ('655', '378', 1.0),\n",
       " ('262', '509', 3.0),\n",
       " ('378', '66', 3.0),\n",
       " ('49', '4', 2.0),\n",
       " ('521', '144', 3.0),\n",
       " ('922', '432', 5.0),\n",
       " ('615', '428', 5.0),\n",
       " ('458', '591', 3.0),\n",
       " ('615', '666', 2.0),\n",
       " ('532', '419', 5.0),\n",
       " ('606', '1055', 4.0),\n",
       " ('90', '170', 5.0),\n",
       " ('291', '417', 4.0),\n",
       " ('894', '109', 1.0),\n",
       " ('721', '938', 3.0),\n",
       " ('698', '513', 2.0),\n",
       " ('798', '692', 4.0),\n",
       " ('749', '1228', 4.0),\n",
       " ('197', '435', 5.0),\n",
       " ('524', '227', 2.0),\n",
       " ('287', '56', 5.0),\n",
       " ('889', '550', 3.0),\n",
       " ('497', '645', 3.0),\n",
       " ('608', '480', 3.0),\n",
       " ('290', '89', 3.0),\n",
       " ('497', '780', 2.0),\n",
       " ('279', '789', 4.0),\n",
       " ('471', '1', 4.0),\n",
       " ('537', '95', 1.0),\n",
       " ('741', '7', 3.0),\n",
       " ('76', '182', 4.0),\n",
       " ('254', '432', 2.0),\n",
       " ('711', '185', 4.0),\n",
       " ('135', '56', 4.0),\n",
       " ('659', '498', 3.0),\n",
       " ('1', '12', 5.0),\n",
       " ('829', '86', 4.0),\n",
       " ('223', '1284', 1.0),\n",
       " ('852', '1', 4.0),\n",
       " ('293', '559', 2.0),\n",
       " ('883', '195', 5.0),\n",
       " ('854', '260', 3.0),\n",
       " ('262', '432', 3.0),\n",
       " ('200', '43', 3.0),\n",
       " ('343', '778', 5.0),\n",
       " ('919', '168', 1.0),\n",
       " ('474', '211', 5.0),\n",
       " ('312', '205', 5.0),\n",
       " ('332', '125', 5.0),\n",
       " ('486', '331', 2.0),\n",
       " ('233', '177', 4.0),\n",
       " ('880', '72', 3.0),\n",
       " ('399', '237', 3.0),\n",
       " ('303', '187', 5.0),\n",
       " ('303', '783', 2.0),\n",
       " ('280', '40', 5.0),\n",
       " ('249', '13', 4.0),\n",
       " ('537', '975', 3.0),\n",
       " ('780', '97', 5.0),\n",
       " ('587', '288', 4.0),\n",
       " ('379', '631', 5.0),\n",
       " ('85', '527', 4.0),\n",
       " ('555', '1054', 3.0),\n",
       " ('472', '1079', 4.0),\n",
       " ('111', '326', 3.0),\n",
       " ('712', '785', 5.0),\n",
       " ('454', '875', 1.0),\n",
       " ('868', '191', 3.0),\n",
       " ('853', '330', 1.0),\n",
       " ('264', '637', 4.0),\n",
       " ('13', '652', 5.0),\n",
       " ('141', '50', 4.0),\n",
       " ('468', '71', 5.0),\n",
       " ('892', '150', 5.0),\n",
       " ('751', '83', 5.0),\n",
       " ('372', '674', 5.0),\n",
       " ('749', '1013', 1.0),\n",
       " ('443', '313', 4.0),\n",
       " ('548', '591', 3.0),\n",
       " ('595', '1047', 2.0),\n",
       " ...]"
      ]
     },
     "execution_count": 19,
     "metadata": {},
     "output_type": "execute_result"
    }
   ],
   "source": [
    "testset"
   ]
  },
  {
   "cell_type": "code",
   "execution_count": 20,
   "metadata": {
    "ExecuteTime": {
     "end_time": "2021-05-19T22:02:47.649261Z",
     "start_time": "2021-05-19T22:02:47.631815Z"
    },
    "colab": {
     "base_uri": "https://localhost:8080/",
     "height": 35
    },
    "id": "rvvw4w3aVA9R",
    "outputId": "d3dc8ae1-4b3f-4caf-ae3f-cc3daa0c1e36"
   },
   "outputs": [
    {
     "name": "stdout",
     "output_type": "stream",
     "text": [
      "RMSE: 0.9380\n"
     ]
    }
   ],
   "source": [
    "accuracy.rmse(predictions);"
   ]
  },
  {
   "cell_type": "markdown",
   "metadata": {
    "id": "gxA9DhnrVA9W"
   },
   "source": [
    "## Кросс-валидация"
   ]
  },
  {
   "cell_type": "markdown",
   "metadata": {
    "id": "3nfQSI8gVA9X"
   },
   "source": [
    "Обучая любой алгоритм машинного обучения мы, фактически, \"подгоняем\" модель под данные, которые ей подаём. Но, если подгонять слишком сильно, то модель переобучится. То есть модель начнёт запоминать ответы вместо того, чтобы выявлять закономерности. \n",
    "\n",
    "На графиках ниже точки тренировочной выборки:\n",
    "*  слева - недообученная модель (большая ошибка на тренировочной выборке; большая ошибка на тестовой выборке)\n",
    "*  посередине - хорошо обученная модель (маленькая ошибка на тренировочной выборке; маленькая ошибка на тестовой выборке)\n",
    "*  справа - переобученная модель (очень маленькая или нулевая ошибка на тренировочной выборке; большая ошибка на тестовой выборке)"
   ]
  },
  {
   "cell_type": "markdown",
   "metadata": {
    "id": "7sdQG7kTVA9Y"
   },
   "source": [
    "<p align=\"center\">\n",
    "  <img src=\"https://drive.google.com/uc?id=1Eg4Xg4o-lhzrgqNNmNQCtB1RxNJmnmWx\" alt=\"Drawing\" style=\"width: 700px;\" width=\"700\"/>\n",
    "</p>"
   ]
  },
  {
   "cell_type": "markdown",
   "metadata": {
    "id": "mYNhrqsNVA9Z"
   },
   "source": [
    "Таким образом, обучая модель, мы всегда уменьшаем ошибку на тренировочной выборке. Вместе с ошибкой на тренировочной выборке, падает и ошибка на тестовой. Но после какого-то момента, модель начинает переобучатся, и ошибка на тестовой выборке начинает расти, в то время, как ошибка на тренировочной выборке продолжает падать. "
   ]
  },
  {
   "cell_type": "markdown",
   "metadata": {
    "id": "Xmuhn5RUVA9Z"
   },
   "source": [
    "<p align=\"center\">\n",
    "  <img src=\"https://drive.google.com/uc?id=1mvU_jJIe07tAoX82qODcpmTBctx0ReuT\" alt=\"Drawing\" style=\"width: 700px;\" width=\"700\"/>\n",
    "</p>"
   ]
  },
  {
   "cell_type": "markdown",
   "metadata": {
    "id": "k-m8IjEkVA9a"
   },
   "source": [
    "Может получится ситуация, когда мы видим маленькую ошибку нашей модели, и думаем, что она хорошая, но на самом деле она просто переобучилась, и на новых данных покажет плохой результат.\n",
    "\n",
    "Чтобы избежать такой ситуации можно использовать отложенную выборку. То есть мы разбиваем наши данные на **тренировочную** выборку, **тестовую** выборку и **отложенную** выборку. Соответственно, обучаем модель на тренировочной, в ходе обучения проверяем результат на тестовой выборке, а в конце обучения, чтобы оценить качество модели, ошибку считаем на отложенной выборке."
   ]
  },
  {
   "cell_type": "markdown",
   "metadata": {
    "id": "6qQjDxYpVA9c"
   },
   "source": [
    "При таком подходе в обучении модели участвует только тренировочная выборка. Тестовую и отложенную мы используем только для проверки. Если у нас мало данных, отложенная выборка - непозволительная роскошь. \n",
    "\n",
    "Другой популярный подход это **кросс-валидация** или скользящий контроль. Суть метода заключается в том, что мы дераем не одно разбиение датесета, а несколько разбиений таким образом, чтобы все данные использовались и в обучении и для проверки. Такие разбиения называются **фолдами**. \n",
    "\n",
    "Преимущества такого подхожа в том, что мы используем все данные для обучения. Также это позволяет оценить устойчивость модели. Если ошибки полученные на разных фолдах сильно отличаются, что модель неустойчива.\n",
    "Недостаток метода в том, что нам нужно обучать не одну модель, а несколько (столько, сколько мы выбрали фолдов).\n",
    "\n",
    "На практике часто выбирают 5 фолдов."
   ]
  },
  {
   "cell_type": "markdown",
   "metadata": {
    "id": "ZrMKa--nVA9d"
   },
   "source": [
    "<p align=\"center\">\n",
    "  <img src=\"https://drive.google.com/uc?id=1C9eHgCi30X08XaSScmjqIOT3ayBtBiFw\" alt=\"Drawing\" style=\"width: 500px;\" width=\"300\"/>\n",
    "</p>"
   ]
  },
  {
   "cell_type": "code",
   "execution_count": null,
   "metadata": {
    "id": "3Nm_zw-BVA9e"
   },
   "outputs": [],
   "source": [
    "from surprise.model_selection import cross_validate"
   ]
  },
  {
   "cell_type": "markdown",
   "metadata": {
    "id": "VEPy4jGKVA9h"
   },
   "source": [
    "Используем функцию **cross_validate** из модуля **model_selection** библиотеки **surprise**.\n",
    "\n",
    "Функция принимает на вход:\n",
    "*  algo - алгоритм, который будем обучать.\n",
    "*  data - исходные данные. Обратите внимание, что данные передаём не разбитые на выборки.\n",
    "*  measures - метрики ошибок по которым мы хотим сравнивать модели. Мы передаём среднеквадратичную ошибку и среднюю ошибку.\n",
    "* cv - количество фолдов.\n",
    "*  verbose - параметр указывающий хотим ли мы увидеть подробный результат выполнения функции."
   ]
  },
  {
   "cell_type": "code",
   "execution_count": null,
   "metadata": {
    "colab": {
     "base_uri": "https://localhost:8080/",
     "height": 347
    },
    "id": "0dzKI1AmVA9i",
    "outputId": "79cc3db4-a76d-4811-de07-8051ee21a408"
   },
   "outputs": [
    {
     "name": "stdout",
     "output_type": "stream",
     "text": [
      "Evaluating RMSE, MAE of algorithm SVD on 5 split(s).\n",
      "\n",
      "                  Fold 1  Fold 2  Fold 3  Fold 4  Fold 5  Mean    Std     \n",
      "RMSE (testset)    0.9325  0.9459  0.9356  0.9277  0.9441  0.9372  0.0069  \n",
      "MAE (testset)     0.7369  0.7458  0.7341  0.7342  0.7431  0.7388  0.0048  \n",
      "Fit time          4.96    5.00    5.00    4.98    5.05    5.00    0.03    \n",
      "Test time         0.25    0.15    0.23    0.15    0.15    0.19    0.04    \n"
     ]
    },
    {
     "data": {
      "text/plain": [
       "{'fit_time': (4.963961601257324,\n",
       "  4.995179176330566,\n",
       "  4.998899936676025,\n",
       "  4.979224681854248,\n",
       "  5.050524473190308),\n",
       " 'test_mae': array([0.73690612, 0.74582138, 0.73413367, 0.73419083, 0.74306129]),\n",
       " 'test_rmse': array([0.93252748, 0.94587306, 0.93563697, 0.92773549, 0.94408864]),\n",
       " 'test_time': (0.24881505966186523,\n",
       "  0.15138912200927734,\n",
       "  0.232283353805542,\n",
       "  0.15073108673095703,\n",
       "  0.15281438827514648)}"
      ]
     },
     "execution_count": 21,
     "metadata": {
      "tags": []
     },
     "output_type": "execute_result"
    }
   ],
   "source": [
    "algo = SVD()\n",
    "cross_validate(algo, data, measures=[\"RMSE\", \"MAE\"], cv=5, verbose=True)"
   ]
  },
  {
   "cell_type": "markdown",
   "metadata": {
    "id": "D1ICfHrkVA9l"
   },
   "source": [
    "В результате получаем значения ошибок на каждом из фолдов, а также их среднее и стандартное отклонение (СО). Маленькое СО, как в нашем случае, говорит об устойчивости модели.\n",
    "\n",
    "Дополнительно мы видим время тренировки и время предсказания модели на каждом из фолдов."
   ]
  },
  {
   "cell_type": "markdown",
   "metadata": {
    "id": "qgBGv8BZVA9m"
   },
   "source": [
    "## Поиск по сетке (Grid search)"
   ]
  },
  {
   "cell_type": "markdown",
   "metadata": {
    "id": "j4L5ffx8VA9n"
   },
   "source": [
    "Теперь, когда у нас есть надёжный способ оценивать качество модели, мы можем перейти к подбору гиперпараметров модели, т.е. параметров, которые нужно указывать вручную, потому что нельзя обучить во время тренировки модели.\n",
    "\n",
    "Метод поиска по сетке очень прост. Мы передаём варианты каждого из параметров, который мы хотим перебрать, а функция перебирает все возможные варианты переданных параметров. Например, на картинке ниже перебираются параметры \"регуляризация\" и \"скорость обучения\"."
   ]
  },
  {
   "cell_type": "markdown",
   "metadata": {
    "id": "NfWrGyLhVA9s"
   },
   "source": [
    "<p align=\"center\">\n",
    "  <img src=\"https://drive.google.com/uc?id=1xs9z_Zo1A2QinErKYEB-bp6eGnLWodbO\" alt=\"Drawing\" style=\"width: 700px;\" width=\"700\"/>\n",
    "</p>"
   ]
  },
  {
   "cell_type": "markdown",
   "metadata": {},
   "source": [
    "# Задание 2\n",
    "\n",
    "## Часть 1\n",
    "\n",
    "Оптимизируйте следующие параметры алгоритма SVD:\n",
    "\n",
    "* n_epochs - количество эпох обучения\n",
    "* lr_all - скорость обучения\n",
    "* reg_all - регуляризация\n",
    "\n",
    "Более детальное описание алгоритма смотри в [документации](https://surprise.readthedocs.io/en/stable/matrix_factorization.html#surprise.prediction_algorithms.matrix_factorization.SVD)\n",
    "\n",
    "P.S. не нужно делать слишком большую сетку перебора - если время расчёта отнимает больше 10 мин, то это уже очень много (для базового датасета)."
   ]
  },
  {
   "cell_type": "code",
   "execution_count": null,
   "metadata": {
    "id": "7g8NQTNrVA9t"
   },
   "outputs": [],
   "source": [
    "from surprise.model_selection import GridSearchCV"
   ]
  },
  {
   "cell_type": "markdown",
   "metadata": {
    "id": "hvEIIGGeVA92"
   },
   "source": [
    "Для перебора по сетке используем функцию **GridSearchCV**. \n",
    "На вход подаём:\n",
    "* алгоритм.\n",
    "* параметры, которые хотим перебрать.\n",
    "* метрики ошибок.\n",
    "* количество фолдов для кросс-валидации.\n",
    "\n",
    "Обратите внимание, что функция выполняет кросс-валидация автоматически."
   ]
  },
  {
   "cell_type": "code",
   "execution_count": null,
   "metadata": {
    "id": "tUo_Y70UVA-B"
   },
   "outputs": [],
   "source": [
    "# Ваш код тут"
   ]
  },
  {
   "cell_type": "markdown",
   "metadata": {},
   "source": [
    "## Часть 2\n",
    "\n",
    "Выберите другую модель из scikit surprise для предсказания рекомендаций (полный список смотри в [документации](https://surprise.readthedocs.io/en/stable/prediction_algorithms_package.html)).\\\n",
    "И настройте её параметры с помощью поиска по сетке.\n",
    "\n",
    "Сравните результаты с предыдущей моделью."
   ]
  },
  {
   "cell_type": "code",
   "execution_count": 21,
   "metadata": {
    "ExecuteTime": {
     "end_time": "2021-05-19T22:04:44.054734Z",
     "start_time": "2021-05-19T22:04:44.053080Z"
    }
   },
   "outputs": [],
   "source": [
    "# Ваш код тут"
   ]
  },
  {
   "cell_type": "markdown",
   "metadata": {},
   "source": [
    "# Задание 3\n",
    "\n",
    "В оригинальных данных есть поле `timestamp` (см. момент загрузки данных).\n",
    "\n",
    "Используя оптимальный вариант модели (и её гиперпараметров), найденный выше, проведите кросс-валидацию в стиле временного ряда (см. [документацию sklearn](https://scikit-learn.org/stable/modules/cross_validation.html#time-series-split)). Достаточно использовать 5 частей.\n",
    "\n",
    "Нашли ли вы отличия с предыдущей валидацией?"
   ]
  },
  {
   "cell_type": "code",
   "execution_count": null,
   "metadata": {},
   "outputs": [],
   "source": [
    "# Ваш код тут"
   ]
  }
 ],
 "metadata": {
  "colab": {
   "collapsed_sections": [
    "sc4V13ojVA8x",
    "gxA9DhnrVA9W",
    "qgBGv8BZVA9m"
   ],
   "name": "level2_seminar3_recommender_systems_advanced.ipynb",
   "provenance": []
  },
  "kernelspec": {
   "display_name": "Python [conda env:ml-mipt]",
   "language": "python",
   "name": "conda-env-ml-mipt-py"
  },
  "language_info": {
   "codemirror_mode": {
    "name": "ipython",
    "version": 3
   },
   "file_extension": ".py",
   "mimetype": "text/x-python",
   "name": "python",
   "nbconvert_exporter": "python",
   "pygments_lexer": "ipython3",
   "version": "3.8.5"
  },
  "toc": {
   "base_numbering": 1,
   "nav_menu": {},
   "number_sections": true,
   "sideBar": true,
   "skip_h1_title": false,
   "title_cell": "Table of Contents",
   "title_sidebar": "Contents",
   "toc_cell": false,
   "toc_position": {},
   "toc_section_display": true,
   "toc_window_display": true
  }
 },
 "nbformat": 4,
 "nbformat_minor": 1
}
