{
 "cells": [
  {
   "cell_type": "markdown",
   "metadata": {
    "colab_type": "text",
    "id": "EcbBUBSSZzN4",
    "nbgrader": {
     "grade": false,
     "grade_id": "cell-86e0de040aac317a",
     "locked": true,
     "schema_version": 2,
     "solution": false
    }
   },
   "source": [
    "## week01: Intro, Linear models recap, simple ensembles."
   ]
  },
  {
   "cell_type": "markdown",
   "metadata": {
    "colab_type": "text",
    "id": "xRAzNZ0OZzN5",
    "nbgrader": {
     "grade": false,
     "grade_id": "cell-512ba712fc0fc065",
     "locked": true,
     "schema_version": 2,
     "solution": false
    }
   },
   "source": [
    "## Часть 1. Работа с моделями и ансамблями моделей в задачи классификации."
   ]
  },
  {
   "cell_type": "markdown",
   "metadata": {
    "colab_type": "text",
    "id": "j6Nzgp6iZzN6",
    "nbgrader": {
     "grade": false,
     "grade_id": "cell-b656a4266174b009",
     "locked": true,
     "schema_version": 2,
     "solution": false
    }
   },
   "source": [
    "### 1. Чтение данных.\n",
    "Воспользуемся [датасетом](https://archive.ics.uci.edu/ml/datasets/Statlog+%28Vehicle+Silhouettes%29), в котором описываются различные автомобили. Будем решать задачу многоклассовой ($k=4$) классификации.\n",
    "Для удобства, датасет уже преобразован в удобный формат."
   ]
  },
  {
   "cell_type": "code",
   "execution_count": null,
   "metadata": {},
   "outputs": [],
   "source": [
    "# ! pip install scikit-plot\n",
    "# ! pip install joblib\n",
    "# ! wget https://raw.githubusercontent.com/neychev/fall19_madmo_adv/master/week01_Intro_Ensembles/car_data.csv"
   ]
  },
  {
   "cell_type": "code",
   "execution_count": null,
   "metadata": {
    "ExecuteTime": {
     "end_time": "2019-04-01T20:09:38.616222Z",
     "start_time": "2019-04-01T20:09:38.599234Z"
    },
    "colab": {},
    "colab_type": "code",
    "id": "U7IVSKkWZzN7",
    "nbgrader": {
     "grade": false,
     "grade_id": "cell-eebac6bfdf73d0bc",
     "locked": true,
     "schema_version": 2,
     "solution": false
    }
   },
   "outputs": [],
   "source": [
    "from collections import defaultdict\n",
    "from joblib import Parallel, delayed\n",
    "import matplotlib.gridspec as gridspec\n",
    "import matplotlib.pyplot as plt\n",
    "import numpy as np\n",
    "import pandas as pd\n",
    "import scipy.stats as sps\n",
    "import seaborn as sns\n",
    "import scikitplot\n",
    "from sklearn.metrics import accuracy_score, f1_score, roc_curve\n",
    "from sklearn.model_selection import train_test_split\n",
    "from sklearn.exceptions import DataConversionWarning\n",
    "from tqdm import tqdm_notebook\n",
    "import warnings\n",
    "\n",
    "%matplotlib inline"
   ]
  },
  {
   "cell_type": "code",
   "execution_count": null,
   "metadata": {
    "ExecuteTime": {
     "end_time": "2019-04-01T20:09:39.167469Z",
     "start_time": "2019-04-01T20:09:39.155972Z"
    },
    "colab": {},
    "colab_type": "code",
    "id": "wZY9PDOQZzN-",
    "nbgrader": {
     "grade": false,
     "grade_id": "cell-eebac6bfdf73d0bc",
     "locked": true,
     "schema_version": 2,
     "solution": false
    },
    "outputId": "e1c41012-4f14-4355-fdf6-e4eb956685f8"
   },
   "outputs": [],
   "source": [
    "dataset = pd.read_csv('car_data.csv', delimiter=',', header=None).values\n",
    "data = dataset[:, :-1].astype(int)\n",
    "target = dataset[:, -1]\n",
    "\n",
    "print(data.shape, target.shape)\n",
    "\n",
    "X_train, X_test, y_train, y_test = train_test_split(data, target, test_size=0.35, random_state=57)\n",
    "print(X_train.shape, y_train.shape, X_test.shape, y_test.shape)"
   ]
  },
  {
   "cell_type": "markdown",
   "metadata": {
    "colab_type": "text",
    "id": "GE_h8xaXZzOC",
    "nbgrader": {
     "grade": false,
     "grade_id": "cell-88b1a0f688568f2c",
     "locked": true,
     "schema_version": 2,
     "solution": false
    }
   },
   "source": [
    "Для первичного анализа может быть полезна библиотека `pandas`. Преобразуем `train` выборку в `pd.DataFrame`."
   ]
  },
  {
   "cell_type": "code",
   "execution_count": null,
   "metadata": {
    "ExecuteTime": {
     "end_time": "2019-04-01T20:09:41.075988Z",
     "start_time": "2019-04-01T20:09:39.641603Z"
    },
    "colab": {},
    "colab_type": "code",
    "id": "3Ggk5kcVZzOC",
    "outputId": "4ba4e095-3444-45a1-eef1-9b8ed9b64b01"
   },
   "outputs": [],
   "source": [
    "X_train_pd = pd.DataFrame(X_train)\n",
    "\n",
    "# First 15 rows of our dataset.\n",
    "X_train_pd.head(15)"
   ]
  },
  {
   "cell_type": "markdown",
   "metadata": {
    "colab_type": "text",
    "id": "ADigpnGCZzOF",
    "nbgrader": {
     "grade": false,
     "grade_id": "cell-98e7d91d77d65fcf",
     "locked": true,
     "schema_version": 2,
     "solution": false
    }
   },
   "source": [
    "Воспользовавшись методами `describe` и `info` можно получить полезную информацию о датасете."
   ]
  },
  {
   "cell_type": "code",
   "execution_count": null,
   "metadata": {
    "ExecuteTime": {
     "end_time": "2019-04-01T20:09:41.601344Z",
     "start_time": "2019-04-01T20:09:41.538300Z"
    },
    "colab": {},
    "colab_type": "code",
    "id": "RuftsqHXZzOG",
    "outputId": "a501d550-b7e8-4e3b-a12f-ebd893739f0f"
   },
   "outputs": [],
   "source": [
    "X_train_pd.describe()"
   ]
  },
  {
   "cell_type": "code",
   "execution_count": null,
   "metadata": {
    "ExecuteTime": {
     "end_time": "2019-04-01T20:09:42.071254Z",
     "start_time": "2019-04-01T20:09:42.064008Z"
    },
    "colab": {},
    "colab_type": "code",
    "id": "JCrtOMMBZzOI",
    "outputId": "2f9d000a-5654-4558-9b28-f850cb1b26fc"
   },
   "outputs": [],
   "source": [
    "X_train_pd.info()"
   ]
  },
  {
   "cell_type": "code",
   "execution_count": null,
   "metadata": {
    "ExecuteTime": {
     "end_time": "2019-04-01T20:09:42.541001Z",
     "start_time": "2019-04-01T20:09:42.536746Z"
    },
    "colab": {},
    "colab_type": "code",
    "id": "_QxIw9Z2ZzOK",
    "outputId": "275f94c9-9c33-43c5-a557-8054feec574c"
   },
   "outputs": [],
   "source": [
    "# Рассмотрим значения целевой переменной\n",
    "np.unique(target)"
   ]
  },
  {
   "cell_type": "markdown",
   "metadata": {
    "colab_type": "text",
    "id": "q8odmDOyZzON",
    "nbgrader": {
     "grade": false,
     "grade_id": "cell-be844269be69c387",
     "locked": true,
     "schema_version": 2,
     "solution": false
    }
   },
   "source": [
    "### 2. Работа с данными, построение модели, анализ ошибки.\n",
    "Выполним основные манипуляции с данными:"
   ]
  },
  {
   "cell_type": "markdown",
   "metadata": {
    "colab_type": "text",
    "id": "vWOioFEaZzON"
   },
   "source": [
    "#### 2.0. Предобработка данных.\n",
    "* Какие манипуляции с данными необходимы по вашему мнению?"
   ]
  },
  {
   "cell_type": "code",
   "execution_count": null,
   "metadata": {
    "ExecuteTime": {
     "end_time": "2019-04-01T20:09:43.011390Z",
     "start_time": "2019-04-01T20:09:43.008058Z"
    },
    "colab": {},
    "colab_type": "code",
    "id": "58cbc6ppZzOO",
    "nbgrader": {
     "grade": true,
     "grade_id": "cell-a1514aa189a49fca",
     "locked": false,
     "points": 15,
     "schema_version": 2,
     "solution": true
    }
   },
   "outputs": [],
   "source": [
    "from sklearn.preprocessing import LabelEncoder, MinMaxScaler, StandardScaler\n",
    "\n",
    "# Например, в датасете присутствуют категориальные признаки, различные признаки в различных шкалах и пр.\n",
    "\n",
    "# YOUR CODE HERE"
   ]
  },
  {
   "cell_type": "markdown",
   "metadata": {
    "colab_type": "text",
    "id": "oV7Us8dDZzOR"
   },
   "source": [
    "#### 2.1. Базовая логистическая регрессия.\n",
    "* Подберем оптимальные параметры логистической регресии с помощью кросс-валидации на train-датасете. Небольшого grid/random search'а хватит.\n",
    "\n",
    "* Построим график ROC-кривой для данного классификатора и оценим точность классификации и f1-score. "
   ]
  },
  {
   "cell_type": "code",
   "execution_count": null,
   "metadata": {
    "ExecuteTime": {
     "end_time": "2019-04-01T20:10:05.418005Z",
     "start_time": "2019-04-01T20:09:43.475809Z"
    },
    "colab": {},
    "colab_type": "code",
    "id": "WiOXsT1RZzOR",
    "nbgrader": {
     "grade": true,
     "grade_id": "cell-1dd5ad5d0845cbbb",
     "locked": false,
     "points": 5,
     "schema_version": 2,
     "solution": true
    },
    "outputId": "03cd4fea-f2bf-4d06-d102-d9403ad48153"
   },
   "outputs": [],
   "source": [
    "from sklearn.linear_model import LogisticRegression\n",
    "from sklearn.model_selection import GridSearchCV, StratifiedKFold\n",
    "from sklearn.pipeline import Pipeline\n",
    "\n",
    "\n",
    "# YOUR CODE HERE\n",
    "pipeline = ..."
   ]
  },
  {
   "cell_type": "code",
   "execution_count": null,
   "metadata": {
    "ExecuteTime": {
     "end_time": "2019-04-01T20:10:05.887891Z",
     "start_time": "2019-04-01T20:10:05.884478Z"
    },
    "colab": {},
    "colab_type": "code",
    "id": "y6OOQutGZzOU",
    "outputId": "b60becb2-2680-4982-d5de-1a33f809d146",
    "scrolled": true
   },
   "outputs": [],
   "source": [
    "print(\"Accuracy score: \", lr_cv.best_score_)"
   ]
  },
  {
   "cell_type": "code",
   "execution_count": null,
   "metadata": {
    "ExecuteTime": {
     "end_time": "2019-04-01T20:10:06.358209Z",
     "start_time": "2019-04-01T20:10:06.354984Z"
    },
    "colab": {},
    "colab_type": "code",
    "id": "ZRphmfNPZzOX",
    "outputId": "538b198e-c7a1-4f1d-e936-49908f4c2151"
   },
   "outputs": [],
   "source": [
    "print(\"Best model params: \", lr_cv.best_estimator_)"
   ]
  },
  {
   "cell_type": "markdown",
   "metadata": {
    "colab_type": "text",
    "id": "uUwIYg5KZzOZ"
   },
   "source": [
    "Пакет `scikitplot` позволяет строить красивые `ROC`-кривые (и по-умолчанию удобнее, чем `sklearn.metrics.roc_curve`)."
   ]
  },
  {
   "cell_type": "code",
   "execution_count": null,
   "metadata": {
    "ExecuteTime": {
     "end_time": "2019-04-01T20:10:07.286973Z",
     "start_time": "2019-04-01T20:10:06.824823Z"
    },
    "colab": {},
    "colab_type": "code",
    "id": "J6-uLDEpZzOa",
    "outputId": "83bac6c2-7b04-4683-d3f5-8272c569cb72"
   },
   "outputs": [],
   "source": [
    "scikitplot.metrics.plot_roc(y_test, lr_cv.predict_proba(X_test), \n",
    "                            figsize=(14, 10))\n",
    "        \n",
    "\n",
    "# def plot_roc_auc_curve_multiclass(y_true, y_pred, y_pred_proba, suptitle):\n",
    "#     sns.set(style=\"whitegrid\", font_scale=1.3)\n",
    "#     print(\"- accuracy: {:.3f}\\n- f1: {:.3f}\".format(\n",
    "#         accuracy_score(y_test, y_pred),\n",
    "#         f1_score(y_test, y_pred, average=\"weighted\")\n",
    "#     ))\n",
    "\n",
    "# plot_roc_auc_curve_multiclass(y_test, \n",
    "#                               lr_cv.predict(X_test), \n",
    "#                               lr_cv.predict_proba(X_test), \n",
    "#                               \"Logistic Regression\")"
   ]
  },
  {
   "cell_type": "markdown",
   "metadata": {
    "colab_type": "text",
    "id": "MDBTy-kiZzOc"
   },
   "source": [
    "#### 2.2. Зависимость объясненной дисперсии от числа главных компонент.\n",
    "Воспользуемся методом главных компонент (PCA). \n",
    "\n",
    "Применим его к train-части данных.\n",
    "Затем построим график зависимости объясненной дисперсии (explained variance ratio) от количества главных компонент."
   ]
  },
  {
   "cell_type": "code",
   "execution_count": null,
   "metadata": {
    "ExecuteTime": {
     "end_time": "2019-04-01T20:10:08.086861Z",
     "start_time": "2019-04-01T20:10:07.749397Z"
    },
    "colab": {},
    "colab_type": "code",
    "id": "CRU32wapZzOd",
    "nbgrader": {
     "grade": true,
     "grade_id": "cell-c6c614740bce090e",
     "locked": false,
     "points": 10,
     "schema_version": 2,
     "solution": true
    },
    "outputId": "4c36ae17-6daf-4338-b903-1c1ed309aa52"
   },
   "outputs": [],
   "source": [
    "from sklearn.decomposition import PCA\n",
    "\n",
    "pca = PCA()\n",
    "\n",
    "# YOUR CODE HERE"
   ]
  },
  {
   "cell_type": "markdown",
   "metadata": {
    "colab_type": "text",
    "id": "LexO7_4hZzOf",
    "nbgrader": {
     "grade": false,
     "grade_id": "cell-0c1fe666f52fe53c",
     "locked": true,
     "schema_version": 2,
     "solution": false
    }
   },
   "source": [
    "#### 2.3. Преобразование с помощью PCA.\n",
    "Выберем оптимальное число компонент. Чем должен быть обусловлен наш выбор?\n",
    "\n",
    "Используя эти главные компоненты, преобразуем train и test выборки (используя методы `fit` и `transform`)."
   ]
  },
  {
   "cell_type": "code",
   "execution_count": null,
   "metadata": {
    "ExecuteTime": {
     "end_time": "2019-04-01T20:19:45.886921Z",
     "start_time": "2019-04-01T20:19:45.875309Z"
    },
    "colab": {},
    "colab_type": "code",
    "id": "PQ96dn8xZzOg",
    "nbgrader": {
     "grade": true,
     "grade_id": "cell-96ab18d96473ef71",
     "locked": false,
     "points": 5,
     "schema_version": 2,
     "solution": true
    }
   },
   "outputs": [],
   "source": [
    "pca = PCA(n_components=<N BEST COMPONENTS>)\n",
    "\n",
    "X_train_proj = # YOUR CODE HERE pca.fit_transform(X_train)\n",
    "X_test_proj = # YOUR CODE HEREpca.transform(X_test)"
   ]
  },
  {
   "cell_type": "markdown",
   "metadata": {
    "colab_type": "text",
    "id": "1LVtewTRZzOj",
    "nbgrader": {
     "grade": false,
     "grade_id": "cell-d28b58a35c94e988",
     "locked": true,
     "schema_version": 2,
     "solution": false
    }
   },
   "source": [
    "#### 2.4. Логистическая регрессия над преобразованными данными.\n",
    "* Подберем оптимальные параметры логистической регресии с помощью кросс-валидации на преобразованном train-датасете.\n",
    "\n",
    "* Снова построим график ROC-кривой для полученных классификаторов, оценим точность классификации и f1-score. "
   ]
  },
  {
   "cell_type": "code",
   "execution_count": null,
   "metadata": {
    "ExecuteTime": {
     "end_time": "2019-04-01T20:19:50.578879Z",
     "start_time": "2019-04-01T20:19:47.459056Z"
    },
    "colab": {},
    "colab_type": "code",
    "id": "2WhzfIQrZzOk",
    "nbgrader": {
     "grade": true,
     "grade_id": "cell-12d53ea45258fa82",
     "locked": false,
     "points": 5,
     "schema_version": 2,
     "solution": true
    },
    "outputId": "ab5272bb-a04a-491e-8ea3-fae6ad3ab7fe",
    "scrolled": false
   },
   "outputs": [],
   "source": [
    "# YOUR CODE HERE"
   ]
  },
  {
   "cell_type": "markdown",
   "metadata": {
    "colab_type": "text",
    "id": "nH03DKb-ZzOn",
    "nbgrader": {
     "grade": false,
     "grade_id": "cell-4fbf16c64076e139",
     "locked": true,
     "schema_version": 2,
     "solution": false
    }
   },
   "source": [
    "#### 2.5. Решающее дерево.\n",
    "Рассмотрим поведение решающего дерева на исходных и преобразованных данных. Будем варьировать лишь один параметр - максимальную глубину дерева. \n",
    "\n",
    "* С помощью кросс-валидации подберем оптимальный параметр `max_depth` и оцените на исходных и преобразованных данных те же метрики, что и выше."
   ]
  },
  {
   "cell_type": "code",
   "execution_count": null,
   "metadata": {
    "ExecuteTime": {
     "end_time": "2019-04-01T20:21:12.517343Z",
     "start_time": "2019-04-01T20:21:11.172851Z"
    },
    "colab": {},
    "colab_type": "code",
    "id": "5gcBI3NEZzOo",
    "nbgrader": {
     "grade": true,
     "grade_id": "cell-748ed20b51c67fab",
     "locked": false,
     "points": 15,
     "schema_version": 2,
     "solution": true
    },
    "outputId": "4674de5e-a7a0-4cb9-f3e4-407dae3bcb06"
   },
   "outputs": [],
   "source": [
    "from sklearn.tree import DecisionTreeClassifier\n",
    "\n",
    "# YOUR CODE HERE"
   ]
  },
  {
   "cell_type": "code",
   "execution_count": null,
   "metadata": {
    "ExecuteTime": {
     "end_time": "2019-04-01T20:21:20.467036Z",
     "start_time": "2019-04-01T20:21:20.458064Z"
    },
    "colab": {},
    "colab_type": "code",
    "id": "jlXXpxohZzOs",
    "outputId": "209aa07c-598f-4d25-9ebd-c0d7b9c66f89"
   },
   "outputs": [],
   "source": [
    "print(accuracy_score(dt_cv.predict(X_train), y_train))"
   ]
  },
  {
   "cell_type": "markdown",
   "metadata": {
    "colab_type": "text",
    "id": "5yX3225hZzOx"
   },
   "source": [
    "Судя по `accuracy` на обучающей выборке, дерево могло переобучиться. Рассмотрим данные после применения PCA."
   ]
  },
  {
   "cell_type": "code",
   "execution_count": null,
   "metadata": {
    "ExecuteTime": {
     "end_time": "2019-04-01T20:21:39.515084Z",
     "start_time": "2019-04-01T20:21:38.425015Z"
    },
    "colab": {},
    "colab_type": "code",
    "id": "BpHGmh6LZzOy",
    "outputId": "3a4883ad-8e26-4d5a-ca3a-56d607eee665"
   },
   "outputs": [],
   "source": [
    "# YOUR CODE HERE"
   ]
  },
  {
   "cell_type": "markdown",
   "metadata": {
    "colab_type": "text",
    "id": "Ybm6o6RiZzO1",
    "nbgrader": {
     "grade": false,
     "grade_id": "cell-9eadd4d8a03ae67a",
     "locked": true,
     "schema_version": 2,
     "solution": false
    }
   },
   "source": [
    "#### 2.6. Bagging.\n",
    "Перейдем к ансамблям. \n",
    "\n",
    "Для построения ансамбля воспользуемся Bagging'ом с числом алгоритмов от 2 до 50. В качестве первого семейства базовых алгоримтов будем использовать линейные модели (т.е. логистическую регрессию), в качестве второго - решающие деревья. \n",
    "\n",
    "*Пояснение: Будем строить ансамбль только из моделей из одного семейства, т.е. логистическая регрессия не смешивается с решающими деревьями.*\n",
    "\n",
    "Для этого можно сгенерировать с помощью метода bootstrap 50 подвыборок из `train` выборки (того же размера, что и исходная), обучить логистическую регрессию и решающее дерево с оптимальными параметрами из предыдущего пункта на каждой из подвыборок и затем усреднить предсказания k моделей.\n",
    "\n",
    "*Hint: в sklearn может найтись подходящая функция, которая облегчит вам реализацию данного пункта.*\n",
    "\n",
    "* Построим график качества классификации и f1-score на `train` и `test` датасетах в зависимости от числа алгоритмов, вошедших в ансамбль.\n",
    "\n",
    "* Проанализируем график. Какое количество моделей стоит использовать? Как вы думаете, являются ли параметры решающего дерева, подобранные в предыдущем пункте оптимальными в данном случае?"
   ]
  },
  {
   "cell_type": "code",
   "execution_count": null,
   "metadata": {
    "ExecuteTime": {
     "end_time": "2019-04-01T20:21:39.974478Z",
     "start_time": "2019-04-01T20:21:39.965231Z"
    },
    "colab": {},
    "colab_type": "code",
    "id": "YJYfvv5IZzO2",
    "nbgrader": {
     "grade": true,
     "grade_id": "cell-8fc95a2b206bdae1",
     "locked": false,
     "points": 35,
     "schema_version": 2,
     "solution": true
    }
   },
   "outputs": [],
   "source": [
    "from sklearn.ensemble import BaggingClassifier\n",
    "\n",
    "# YOUR CODE HERE"
   ]
  },
  {
   "cell_type": "code",
   "execution_count": null,
   "metadata": {
    "ExecuteTime": {
     "end_time": "2019-04-01T20:21:52.600025Z",
     "start_time": "2019-04-01T20:21:40.413241Z"
    },
    "code_folding": [],
    "colab": {},
    "colab_type": "code",
    "id": "2mTOc9UpZzO4",
    "nbgrader": {
     "grade": true,
     "grade_id": "cell-8fc95a2b206bdae1",
     "locked": false,
     "points": 35,
     "schema_version": 2,
     "solution": true
    }
   },
   "outputs": [],
   "source": [
    "# YOUR CODE HERE"
   ]
  },
  {
   "cell_type": "code",
   "execution_count": null,
   "metadata": {
    "ExecuteTime": {
     "end_time": "2019-04-01T20:21:53.571398Z",
     "start_time": "2019-04-01T20:21:53.060364Z"
    },
    "colab": {},
    "colab_type": "code",
    "id": "uA3pGSyiZzO6",
    "outputId": "46bc7e1d-333c-4fca-80e9-1051ca05c30e"
   },
   "outputs": [],
   "source": [
    "# YOUR CODE HERE"
   ]
  },
  {
   "cell_type": "markdown",
   "metadata": {},
   "source": [
    "А теперь построим ансамбль решающих деревьев."
   ]
  },
  {
   "cell_type": "code",
   "execution_count": null,
   "metadata": {
    "ExecuteTime": {
     "end_time": "2019-04-01T20:21:54.210257Z",
     "start_time": "2019-04-01T20:21:54.028456Z"
    },
    "colab": {},
    "colab_type": "code",
    "id": "yaL-cnxRZzO8"
   },
   "outputs": [],
   "source": [
    "# YOUR CODE HERE"
   ]
  },
  {
   "cell_type": "code",
   "execution_count": null,
   "metadata": {
    "ExecuteTime": {
     "end_time": "2019-04-01T20:21:55.130071Z",
     "start_time": "2019-04-01T20:21:54.654862Z"
    },
    "colab": {},
    "colab_type": "code",
    "id": "M_124XF_ZzO-",
    "outputId": "57d40427-8794-4dbd-ccd9-5d470356014b"
   },
   "outputs": [],
   "source": [
    "# YOUR CODE HERE"
   ]
  },
  {
   "cell_type": "markdown",
   "metadata": {
    "colab_type": "text",
    "id": "yVk1WzLaZzPB",
    "nbgrader": {
     "grade": false,
     "grade_id": "cell-241b7691ab44cbfb",
     "locked": true,
     "schema_version": 2,
     "solution": false
    }
   },
   "source": [
    "#### 2.7. Random Forest.\n",
    "Теперь воспользуемся `sklearn`-реализацией алгоритма Random Forest. \n",
    "\n",
    "* Построим аналогичные графики для него (изменяя число деревьев от 1 до 50). Остальные параметры можно оставить по умолчанию.\n",
    "\n",
    "* Проанализируем полученные результаты. Каким получилось оптимальное число деревьев. Как оно соотносится с оптимальным числом деревьев и линейных моделей в bagging'е из предыдущего пункта?"
   ]
  },
  {
   "cell_type": "code",
   "execution_count": null,
   "metadata": {
    "ExecuteTime": {
     "end_time": "2019-04-01T20:21:56.404000Z",
     "start_time": "2019-04-01T20:21:55.569578Z"
    },
    "colab": {},
    "colab_type": "code",
    "id": "HuQh5LfXZzPB",
    "nbgrader": {
     "grade": true,
     "grade_id": "cell-888755d0f3d91620",
     "locked": false,
     "points": 15,
     "schema_version": 2,
     "solution": true
    }
   },
   "outputs": [],
   "source": [
    "from sklearn.ensemble import RandomForestClassifier\n",
    "\n",
    "# YOUR CODE HERE\n"
   ]
  },
  {
   "cell_type": "code",
   "execution_count": null,
   "metadata": {
    "ExecuteTime": {
     "end_time": "2019-04-01T20:21:57.144340Z",
     "start_time": "2019-04-01T20:21:56.845044Z"
    },
    "colab": {},
    "colab_type": "code",
    "id": "StrHhn6lZzPE",
    "nbgrader": {
     "grade": true,
     "grade_id": "cell-888755d0f3d91620",
     "locked": false,
     "points": 15,
     "schema_version": 2,
     "solution": true
    },
    "outputId": "b3a4c976-f4bb-48e2-a290-e26e0cb6d9fa"
   },
   "outputs": [],
   "source": [
    "# YOUR CODE HERE"
   ]
  }
 ],
 "metadata": {
  "celltoolbar": "Create Assignment",
  "colab": {
   "name": "week01_Intro",
   "provenance": []
  },
  "kernelspec": {
   "display_name": "Py3 research env",
   "language": "python",
   "name": "py3_research"
  },
  "language_info": {
   "codemirror_mode": {
    "name": "ipython",
    "version": 3
   },
   "file_extension": ".py",
   "mimetype": "text/x-python",
   "name": "python",
   "nbconvert_exporter": "python",
   "pygments_lexer": "ipython3",
   "version": "3.6.7"
  },
  "toc": {
   "base_numbering": 1,
   "nav_menu": {},
   "number_sections": false,
   "sideBar": true,
   "skip_h1_title": false,
   "title_cell": "Table of Contents",
   "title_sidebar": "Contents",
   "toc_cell": false,
   "toc_position": {},
   "toc_section_display": true,
   "toc_window_display": false
  },
  "varInspector": {
   "cols": {
    "lenName": 16,
    "lenType": 16,
    "lenVar": 40
   },
   "kernels_config": {
    "python": {
     "delete_cmd_postfix": "",
     "delete_cmd_prefix": "del ",
     "library": "var_list.py",
     "varRefreshCmd": "print(var_dic_list())"
    },
    "r": {
     "delete_cmd_postfix": ") ",
     "delete_cmd_prefix": "rm(",
     "library": "var_list.r",
     "varRefreshCmd": "cat(var_dic_list()) "
    }
   },
   "types_to_exclude": [
    "module",
    "function",
    "builtin_function_or_method",
    "instance",
    "_Feature"
   ],
   "window_display": false
  }
 },
 "nbformat": 4,
 "nbformat_minor": 1
}
