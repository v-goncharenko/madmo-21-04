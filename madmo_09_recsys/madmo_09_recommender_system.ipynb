{
 "cells": [
  {
   "cell_type": "markdown",
   "metadata": {
    "collapsed": true,
    "id": "rDkF84U7_UNb"
   },
   "source": [
    "# Рекомендательные системы"
   ]
  },
  {
   "cell_type": "markdown",
   "metadata": {
    "id": "PKItoQsm_UNf"
   },
   "source": [
    "Идея рекомендательных систем на основе ближайшего соседа – использовать предпочтения некоторой группы людей, похожих на данного пользователя, чтобы рекомендовать ему что-либо.\n",
    "\n",
    "У такой модели много применений:\n",
    "    \n",
    "   * рекомендация товаров интернет-магазинов\n",
    "   * рекомендация музыки или фильмов\n",
    "   * рекомендация людей/контента в социальных сетях"
   ]
  },
  {
   "cell_type": "markdown",
   "metadata": {
    "collapsed": true,
    "id": "9_LdEcqH_UNh"
   },
   "source": [
    "<p align=\"center\">\n",
    "  <img align = \"center\" src=\"https://drive.google.com/uc?id=1FxsDOGrMp-t-AvsF6a88qQyMKLMAtF6s\" alt=\"Drawing\" style=\"width: 600px;\" width=\"600\"/>\n",
    "</p>"
   ]
  },
  {
   "cell_type": "markdown",
   "metadata": {
    "id": "OA-cybas_UNj"
   },
   "source": [
    "Пример рекомендательной системы Amazon.com"
   ]
  },
  {
   "cell_type": "markdown",
   "metadata": {
    "id": "B-UJ4ZTM_UNl"
   },
   "source": [
    "<p align=\"center\">\n",
    "  <img src=\"https://drive.google.com/uc?id=1kTvHiFbcmNdWJstcyX4SnplRkZfHbqwL\" alt=\"Drawing\" style=\"width: 600px;\" width=\"600\"/>\n",
    "</p>"
   ]
  },
  {
   "cell_type": "markdown",
   "metadata": {
    "id": "I5NhSEL6_UNq"
   },
   "source": [
    "Рекомендация фильмов от IMDb. "
   ]
  },
  {
   "cell_type": "markdown",
   "metadata": {
    "id": "AOz1Xl7y_UNs"
   },
   "source": [
    "Естественный способ получить рекомендацию о чем-либо - спросить мнение об этом у друзей или любых людей, которым нравится то же, что и вам. Эту идею можно использовать и для машины: для каждого человека алгоритм просматривает большую группу людей и ищет в ней подгруппу с похожим на данного человека вкусом. Далее создается список того, что еще нравится этим людям, а затем человеку рекомендуются предложения из этого списка. Такой алгоритм называется алгоритмом **коллаборативной фильтрации**. "
   ]
  },
  {
   "cell_type": "markdown",
   "metadata": {
    "id": "_zVtNfQU_UNu"
   },
   "source": [
    "**Отключаем предупреждения**\n",
    "\n",
    "Библиотека **warnings** отвечает за то, какие предупреждения (warnings) о работе будут выводиться пользователю. \n",
    "FutureWarning - предупреждения о том, как изменится работа библиотек в будущих версиях. Такие предупреждения мы будем игнорировать.\n",
    "Чтобы включить режим игнорирования, мы отбираем все предупреждения из категории FutureWarning и выбираем для них действия 'ignore'.\n",
    "Это делается вызовом функции simplefilter c задание двух атрибутов: действия action и категории предупреждений category.\n",
    "\n",
    "**Code 0:**"
   ]
  },
  {
   "cell_type": "code",
   "execution_count": 1,
   "metadata": {
    "ExecuteTime": {
     "end_time": "2021-05-17T17:39:23.061887Z",
     "start_time": "2021-05-17T17:39:23.054840Z"
    },
    "id": "anmzqpIU_UNx"
   },
   "outputs": [],
   "source": [
    "import warnings\n",
    "warnings.filterwarnings(\"ignore\")"
   ]
  },
  {
   "cell_type": "markdown",
   "metadata": {
    "id": "FuAk6cNb_UN3"
   },
   "source": [
    "Для красивого вывода на экран сложных объектов будем использовать **pprint**"
   ]
  },
  {
   "cell_type": "code",
   "execution_count": 2,
   "metadata": {
    "ExecuteTime": {
     "end_time": "2021-05-17T17:39:23.872692Z",
     "start_time": "2021-05-17T17:39:23.870523Z"
    },
    "id": "PHSLMDPN_UN4"
   },
   "outputs": [],
   "source": [
    "import pprint\n",
    "pp = pprint.PrettyPrinter(indent=4)"
   ]
  },
  {
   "cell_type": "markdown",
   "metadata": {
    "id": "cPGF-dVQ_UOA"
   },
   "source": [
    "### Подготовка данных"
   ]
  },
  {
   "cell_type": "markdown",
   "metadata": {
    "id": "J5e2O7ha_UOB"
   },
   "source": [
    "Чтобы хранить сразу много предпочтений для каждого человека, удобнее всего воспользоваться **вложенным словарем**. \n",
    "\n",
    "Самый простой способ создать словарь в python - использовать фигурные скобки {}. Данные в словаре хранятся в формате ключ – значение, разделенные двоеточием:\n",
    "\n",
    "```python\n",
    "dict = {'key': 'value'}\n",
    "```\n",
    "\n",
    "Мы будем работать с *вложенным словарем* кинокритиков и выставленных ими оценок для небольшого набора данных о фильмах. Построим его следующим образом:\n",
    "\n",
    "1) для каждого кинокритика создаем словарь оценок фильмов в формате\n",
    "   ```python\n",
    "    scores_dict = {\n",
    "        'film_1': 'score_1', \n",
    "        'film_2': 'score_2', \n",
    "        ...\n",
    "    }\n",
    "   ```\n",
    "   \n",
    "2) создаем словарь кинокритиков, где в качестве значений будет соответствующий ему словарь оценок\n",
    "   ```python\n",
    "     critics = {\n",
    "         'name_1': 'scores_dict_1', \n",
    "         'name_2': 'scores_dict_2',\n",
    "         ...\n",
    "     }\n",
    "   ```\n",
    "   \n",
    "**Code 1:**"
   ]
  },
  {
   "cell_type": "code",
   "execution_count": 3,
   "metadata": {
    "ExecuteTime": {
     "end_time": "2021-05-17T17:39:31.220165Z",
     "start_time": "2021-05-17T17:39:31.215500Z"
    },
    "id": "GgmLknLa_UOC"
   },
   "outputs": [],
   "source": [
    "# Словарь кинокритиков и выставленных ими оценок\n",
    "critics={'Lisa Rose': {'Lady in the Water': 2.5, 'Snakes on a Plane': 3.5,\n",
    " 'Just My Luck': 3.0, 'Superman Returns': 3.5, 'You, Me and Dupree': 2.5, \n",
    " 'The Night Listener': 3.0},\n",
    "'Gene Seymour': {'Lady in the Water': 3.0, 'Snakes on a Plane': 3.5, \n",
    " 'Just My Luck': 1.5, 'Superman Returns': 5.0, 'The Night Listener': 3.0, \n",
    " 'You, Me and Dupree': 3.5}, \n",
    "'Michael Phillips': {'Lady in the Water': 2.5, 'Snakes on a Plane': 3.0,\n",
    " 'Superman Returns': 3.5, 'The Night Listener': 4.0},\n",
    "'Claudia Puig': {'Snakes on a Plane': 3.5, 'Just My Luck': 3.0,\n",
    " 'The Night Listener': 4.5, 'Superman Returns': 4.0, \n",
    " 'You, Me and Dupree': 2.5},\n",
    "'Mick LaSalle': {'Lady in the Water': 3.0, 'Snakes on a Plane': 4.0, \n",
    " 'Just My Luck': 2.0, 'Superman Returns': 3.0, 'The Night Listener': 3.0,\n",
    " 'You, Me and Dupree': 2.0}, \n",
    "'Jack Matthews': {'Lady in the Water': 3.0, 'Snakes on a Plane': 4.0,\n",
    " 'The Night Listener': 3.0, 'Superman Returns': 5.0, 'You, Me and Dupree': 3.5},\n",
    "'Toby': {'Snakes on a Plane':4.5,'You, Me and Dupree':1.0,'Superman Returns':4.0}}"
   ]
  },
  {
   "cell_type": "code",
   "execution_count": 4,
   "metadata": {
    "ExecuteTime": {
     "end_time": "2021-05-17T17:39:31.624938Z",
     "start_time": "2021-05-17T17:39:31.620767Z"
    },
    "colab": {
     "base_uri": "https://localhost:8080/",
     "height": 612
    },
    "id": "X_xFpj1J_UOH",
    "outputId": "77311d9b-c0c0-4c09-8e91-a1a289c6bf5f"
   },
   "outputs": [
    {
     "name": "stdout",
     "output_type": "stream",
     "text": [
      "{   'Claudia Puig': {   'Just My Luck': 3.0,\n",
      "                        'Snakes on a Plane': 3.5,\n",
      "                        'Superman Returns': 4.0,\n",
      "                        'The Night Listener': 4.5,\n",
      "                        'You, Me and Dupree': 2.5},\n",
      "    'Gene Seymour': {   'Just My Luck': 1.5,\n",
      "                        'Lady in the Water': 3.0,\n",
      "                        'Snakes on a Plane': 3.5,\n",
      "                        'Superman Returns': 5.0,\n",
      "                        'The Night Listener': 3.0,\n",
      "                        'You, Me and Dupree': 3.5},\n",
      "    'Jack Matthews': {   'Lady in the Water': 3.0,\n",
      "                         'Snakes on a Plane': 4.0,\n",
      "                         'Superman Returns': 5.0,\n",
      "                         'The Night Listener': 3.0,\n",
      "                         'You, Me and Dupree': 3.5},\n",
      "    'Lisa Rose': {   'Just My Luck': 3.0,\n",
      "                     'Lady in the Water': 2.5,\n",
      "                     'Snakes on a Plane': 3.5,\n",
      "                     'Superman Returns': 3.5,\n",
      "                     'The Night Listener': 3.0,\n",
      "                     'You, Me and Dupree': 2.5},\n",
      "    'Michael Phillips': {   'Lady in the Water': 2.5,\n",
      "                            'Snakes on a Plane': 3.0,\n",
      "                            'Superman Returns': 3.5,\n",
      "                            'The Night Listener': 4.0},\n",
      "    'Mick LaSalle': {   'Just My Luck': 2.0,\n",
      "                        'Lady in the Water': 3.0,\n",
      "                        'Snakes on a Plane': 4.0,\n",
      "                        'Superman Returns': 3.0,\n",
      "                        'The Night Listener': 3.0,\n",
      "                        'You, Me and Dupree': 2.0},\n",
      "    'Toby': {   'Snakes on a Plane': 4.5,\n",
      "                'Superman Returns': 4.0,\n",
      "                'You, Me and Dupree': 1.0}}\n"
     ]
    }
   ],
   "source": [
    "pp.pprint(critics)"
   ]
  },
  {
   "cell_type": "markdown",
   "metadata": {
    "id": "AnDCWG4r_UON"
   },
   "source": [
    "Можно посмотреть, какие оценки выставил критик, выполнив \n",
    "```python\n",
    "critics['имя критика']\n",
    "```\n",
    "\n",
    "**Code 2:**"
   ]
  },
  {
   "cell_type": "code",
   "execution_count": 5,
   "metadata": {
    "ExecuteTime": {
     "end_time": "2021-05-17T17:39:34.417401Z",
     "start_time": "2021-05-17T17:39:34.409347Z"
    },
    "colab": {
     "base_uri": "https://localhost:8080/",
     "height": 34
    },
    "id": "wgTxg3nM_UOP",
    "outputId": "5b14bfde-d380-41ab-c0e6-95754a84122d"
   },
   "outputs": [
    {
     "data": {
      "text/plain": [
       "{'Snakes on a Plane': 4.5, 'You, Me and Dupree': 1.0, 'Superman Returns': 4.0}"
      ]
     },
     "execution_count": 5,
     "metadata": {},
     "output_type": "execute_result"
    }
   ],
   "source": [
    "critics['Toby']"
   ]
  },
  {
   "cell_type": "markdown",
   "metadata": {
    "id": "ih53VneH_UOU"
   },
   "source": [
    "Чтобы посмотреть, какие оценки выставил критик определенному фильму, надо добавить еще название фильма:\n",
    "```python\n",
    "critics['имя критика']['название фильма']\n",
    "```\n",
    "\n",
    "**Code 3:**"
   ]
  },
  {
   "cell_type": "code",
   "execution_count": 6,
   "metadata": {
    "ExecuteTime": {
     "end_time": "2021-05-17T17:39:35.322490Z",
     "start_time": "2021-05-17T17:39:35.319853Z"
    },
    "colab": {
     "base_uri": "https://localhost:8080/",
     "height": 34
    },
    "id": "82_jNAPK_UOV",
    "outputId": "d47330e4-f929-4965-9f5f-40af1cc6ce98"
   },
   "outputs": [
    {
     "data": {
      "text/plain": [
       "2.5"
      ]
     },
     "execution_count": 6,
     "metadata": {},
     "output_type": "execute_result"
    }
   ],
   "source": [
    "critics['Lisa Rose']['Lady in the Water']"
   ]
  },
  {
   "cell_type": "markdown",
   "metadata": {
    "id": "AWuJJu46_UOa"
   },
   "source": [
    "### Критерий похожести"
   ]
  },
  {
   "cell_type": "markdown",
   "metadata": {
    "id": "rHHHHV7s_UOd"
   },
   "source": [
    "Как мы уже говорили, чтобы выделить подгруппу людей с похожим вкусом, необходимо как-то определить, насколько люди похожи. В нашем случае мы будем сравнивать оценки людей у одинаковых фильмов. Мы рассмотрим два способа сравнения. С помощью \n",
    "- расстояния Евклида \n",
    "- корреляции Пирсона"
   ]
  },
  {
   "cell_type": "markdown",
   "metadata": {
    "id": "ICDJF5u4_UOe"
   },
   "source": [
    "**Оценка по евклидову расстоянию**"
   ]
  },
  {
   "cell_type": "markdown",
   "metadata": {
    "id": "3lNrRZ9L_UOg"
   },
   "source": [
    "Евклидово расстояние для точек $x = (x_1, x_2, ... , x_n)$ и $y = (y_1, y_2, ... , y_n)$ определяется следующим образом:\n",
    "\n",
    "\\begin{equation}\n",
    "d(x, y) = \\sqrt{\\sum_{i = 1}^n (x_i - y_i)^2}\n",
    "\\end{equation}"
   ]
  },
  {
   "cell_type": "markdown",
   "metadata": {
    "id": "v38Epqwq_UOh"
   },
   "source": [
    "Для вычисления квадратного корня можно воспользоваться готовой функцией **sqrt()** из библиотеки для работы с числами **math**:\n",
    "\n",
    "**Code 4:**"
   ]
  },
  {
   "cell_type": "code",
   "execution_count": 7,
   "metadata": {
    "ExecuteTime": {
     "end_time": "2021-05-17T17:39:36.982814Z",
     "start_time": "2021-05-17T17:39:36.980759Z"
    },
    "id": "QRL9xHpD_UOi"
   },
   "outputs": [],
   "source": [
    "from math import sqrt"
   ]
  },
  {
   "cell_type": "markdown",
   "metadata": {
    "id": "dh44bqPR_UOl"
   },
   "source": [
    "Для понимания расстояния Евклида рассмотрим случай, когда *n = 2*. То есть каждый объект выборки (точка) описывается двумя параметрами (координатами). $x = (x_1, x_2)$ и $y = (y_1, y_2)$. Тогда Евклидово расстояние равно расстоянию между точками на плоскости.\n",
    "\n",
    "\\begin{equation}\n",
    "d(x, y) = \\sqrt{\\sum_{i = 1}^n (x_i - y_i)^2} = \\sqrt{(x_2 - x_1)^2 + (y_2 - y_1)^2}\n",
    "\\end{equation}\n",
    "\n",
    "Или, если представить задачу геометрически:\n",
    "\n",
    "<p align=\"center\">\n",
    "  <img src=\"https://drive.google.com/uc?id=1qdcKXap7BMwwk_DOv48UBRXCyvb2Z-oA\" alt=\"Drawing\" style=\"width: 100px;\" width=\"200\"/>\n",
    "</p>"
   ]
  },
  {
   "cell_type": "markdown",
   "metadata": {
    "id": "GbG9JJaI_UOn"
   },
   "source": [
    "Для примера вычислим расстояния Евклида для близких точек с координатам (1, 1) и (2, 3):\n",
    "\n",
    "**Code 5:**"
   ]
  },
  {
   "cell_type": "code",
   "execution_count": 8,
   "metadata": {
    "ExecuteTime": {
     "end_time": "2021-05-17T17:39:38.158421Z",
     "start_time": "2021-05-17T17:39:38.155205Z"
    },
    "colab": {
     "base_uri": "https://localhost:8080/",
     "height": 34
    },
    "id": "FPi8cSZg_UOo",
    "outputId": "91a93a3b-1208-482f-bed8-62efad075434"
   },
   "outputs": [
    {
     "data": {
      "text/plain": [
       "2.23606797749979"
      ]
     },
     "execution_count": 8,
     "metadata": {},
     "output_type": "execute_result"
    }
   ],
   "source": [
    "sqrt(pow(2-1, 2) + pow(3-1, 2))"
   ]
  },
  {
   "cell_type": "markdown",
   "metadata": {
    "id": "8mNl75u2_UOs"
   },
   "source": [
    "Теперь вычислим расстояния Евклида для точек, которые находятся далеко (1, 1) и (8, 10):\n",
    "\n",
    "**Code 6:**"
   ]
  },
  {
   "cell_type": "code",
   "execution_count": 9,
   "metadata": {
    "ExecuteTime": {
     "end_time": "2021-05-17T17:39:39.215827Z",
     "start_time": "2021-05-17T17:39:39.212710Z"
    },
    "colab": {
     "base_uri": "https://localhost:8080/",
     "height": 34
    },
    "id": "v-uToPKM_UOw",
    "outputId": "e9c32fe4-1268-4847-b8ea-546a6ac31821"
   },
   "outputs": [
    {
     "data": {
      "text/plain": [
       "12.206555615733702"
      ]
     },
     "execution_count": 9,
     "metadata": {},
     "output_type": "execute_result"
    }
   ],
   "source": [
    "sqrt(pow(8-1, 2) + pow(10-0, 2))"
   ]
  },
  {
   "cell_type": "markdown",
   "metadata": {
    "id": "Zd_WOtl5_UO0"
   },
   "source": [
    "Расстояние, вычисленное по этой формуле, будет тем меньше, чем больше сходство людей (чем ближе точки). Нам же нужна функция, значение которой будет, наоборот, большое, если люди сильно похожи друг на друга. То есть схожесть больше (от 0 до 1), если точки ближе друг другу\n",
    "\n",
    "\n",
    "Для этого будем использовать функцию \"похожести\" в таком виде:\n",
    "\n",
    "\\begin{equation}\n",
    "\\text{similarity }(x, y) = \\dfrac{1}{1 + d(x, y)},\n",
    "\\end{equation}\n",
    "\n",
    "где $d(x, y)$ - расстояние Евклида. "
   ]
  },
  {
   "cell_type": "markdown",
   "metadata": {
    "id": "nVUpZsk2_UO1"
   },
   "source": [
    "Пример вычисления сходства по новой функции для точек с координатами (1, 1) и (2, 3):\n",
    "\n",
    "**Code 7:**"
   ]
  },
  {
   "cell_type": "code",
   "execution_count": 10,
   "metadata": {
    "ExecuteTime": {
     "end_time": "2021-05-17T17:39:40.583757Z",
     "start_time": "2021-05-17T17:39:40.580402Z"
    },
    "colab": {
     "base_uri": "https://localhost:8080/",
     "height": 34
    },
    "id": "h-_1Qjny_UO3",
    "outputId": "e4706d26-d086-494b-f1ae-e30d598bbacf"
   },
   "outputs": [
    {
     "data": {
      "text/plain": [
       "0.3090169943749474"
      ]
     },
     "execution_count": 10,
     "metadata": {},
     "output_type": "execute_result"
    }
   ],
   "source": [
    "1 / (1 + sqrt(pow(2-1, 2) + pow(3-1, 2)))"
   ]
  },
  {
   "cell_type": "markdown",
   "metadata": {
    "id": "gFXNPs3-_UO7"
   },
   "source": [
    "Пример вычисления сходства по новой функции для точек с координатами (1, 1) и (8, 10):\n",
    "\n",
    "**Code 8:**"
   ]
  },
  {
   "cell_type": "code",
   "execution_count": 11,
   "metadata": {
    "ExecuteTime": {
     "end_time": "2021-05-17T17:39:41.326660Z",
     "start_time": "2021-05-17T17:39:41.323336Z"
    },
    "colab": {
     "base_uri": "https://localhost:8080/",
     "height": 34
    },
    "id": "tnfEapUX_UO8",
    "outputId": "745ec5bc-d737-462c-9da9-5de53b6264a1"
   },
   "outputs": [
    {
     "data": {
      "text/plain": [
       "0.08063375388365411"
      ]
     },
     "execution_count": 11,
     "metadata": {},
     "output_type": "execute_result"
    }
   ],
   "source": [
    "1 / (1+sqrt(pow(8-1, 2) + pow(10-1, 2)))"
   ]
  },
  {
   "cell_type": "markdown",
   "metadata": {
    "id": "IVGqtEyS_UPB"
   },
   "source": [
    "Далее реализуем несколько простых функций для коллаборативной фильтрации на основе ближайшего соседа. Чтобы воспользоваться ими, необходимо их импортировать из модуля **recommendations**. Так как мы работаем в онлайн-среде colab, необходимо сначала загрузить модуль из внешнего источника с помощью **wget**. \n",
    "\n",
    "**Code 9:**"
   ]
  },
  {
   "cell_type": "code",
   "execution_count": 12,
   "metadata": {
    "ExecuteTime": {
     "end_time": "2021-05-17T17:39:57.480255Z",
     "start_time": "2021-05-17T17:39:44.130700Z"
    },
    "colab": {
     "base_uri": "https://localhost:8080/",
     "height": 377
    },
    "id": "ULMMqy7K_UPC",
    "outputId": "93a7354d-43e2-45e8-9f04-d6bef88acbae",
    "scrolled": true
   },
   "outputs": [
    {
     "name": "stdout",
     "output_type": "stream",
     "text": [
      "--2021-05-17 20:39:44--  https://www.dropbox.com/s/3z19s9r61zyh37n/recommendations.py\n",
      "Resolving www.dropbox.com (www.dropbox.com)... 162.125.71.18\n",
      "Connecting to www.dropbox.com (www.dropbox.com)|162.125.71.18|:443... connected.\n",
      "HTTP request sent, awaiting response... 301 Moved Permanently\n",
      "Location: /s/raw/3z19s9r61zyh37n/recommendations.py [following]\n",
      "--2021-05-17 20:39:44--  https://www.dropbox.com/s/raw/3z19s9r61zyh37n/recommendations.py\n",
      "Reusing existing connection to www.dropbox.com:443.\n",
      "HTTP request sent, awaiting response... 302 Found\n",
      "Location: https://uc7ec57575c5c7c10bf74e569481.dl.dropboxusercontent.com/cd/0/inline/BOobRVCybCwEMroWXMJKhE1GAzxqt3x3qo37WmId74mo9Dh68PmpKGSAHrtDCjfC3C3_J7D-mz7TRQW9SDvi3PUK_TaGOIUCIrkiTNn3K3C6FzZvcP8dfcboLu-zL3NHnW3hQ7ngRcpqY-Yjt6WJKEQ5/file# [following]\n",
      "--2021-05-17 20:39:44--  https://uc7ec57575c5c7c10bf74e569481.dl.dropboxusercontent.com/cd/0/inline/BOobRVCybCwEMroWXMJKhE1GAzxqt3x3qo37WmId74mo9Dh68PmpKGSAHrtDCjfC3C3_J7D-mz7TRQW9SDvi3PUK_TaGOIUCIrkiTNn3K3C6FzZvcP8dfcboLu-zL3NHnW3hQ7ngRcpqY-Yjt6WJKEQ5/file\n",
      "Resolving uc7ec57575c5c7c10bf74e569481.dl.dropboxusercontent.com (uc7ec57575c5c7c10bf74e569481.dl.dropboxusercontent.com)... 162.125.71.15\n",
      "Connecting to uc7ec57575c5c7c10bf74e569481.dl.dropboxusercontent.com (uc7ec57575c5c7c10bf74e569481.dl.dropboxusercontent.com)|162.125.71.15|:443... connected.\n",
      "HTTP request sent, awaiting response... 200 OK\n",
      "Length: 9624 (9.4K) [text/plain]\n",
      "Saving to: ‘recommendations.py’\n",
      "\n",
      "recommendations.py  100%[===================>]   9.40K  --.-KB/s    in 0s      \n",
      "\n",
      "2021-05-17 20:39:46 (105 MB/s) - ‘recommendations.py’ saved [9624/9624]\n",
      "\n"
     ]
    }
   ],
   "source": [
    "!wget https://www.dropbox.com/s/3z19s9r61zyh37n/recommendations.py\n",
    "from recommendations import *"
   ]
  },
  {
   "cell_type": "markdown",
   "metadata": {
    "id": "laKWmvSq_UPP"
   },
   "source": [
    "Функцию для подсчета сходства двух критиков на основе расстояния Евклида реализована в модуле **recommendations** и называется **sim_distance()**. Функция принимает на вход три аргумента:\n",
    "* словарь критиков\n",
    "* имя первого критика для сравнения\n",
    "* имя второго критика для сравнения"
   ]
  },
  {
   "cell_type": "markdown",
   "metadata": {
    "id": "shNGro9G_UPP"
   },
   "source": [
    "Посмотрим, как работает эта функция для двух критиков Lisa Rose и Toby:\n",
    "\n",
    "**Code 10:**"
   ]
  },
  {
   "cell_type": "code",
   "execution_count": 13,
   "metadata": {
    "ExecuteTime": {
     "end_time": "2021-05-17T17:39:57.485100Z",
     "start_time": "2021-05-17T17:39:57.482187Z"
    },
    "colab": {
     "base_uri": "https://localhost:8080/",
     "height": 34
    },
    "id": "VFRi1-pO_UPS",
    "outputId": "013a1199-0d03-4631-99d8-03ea0e36fb4f"
   },
   "outputs": [
    {
     "data": {
      "text/plain": [
       "0.2222222222222222"
      ]
     },
     "execution_count": 13,
     "metadata": {},
     "output_type": "execute_result"
    }
   ],
   "source": [
    "sim_distance(critics, 'Lisa Rose','Toby')"
   ]
  },
  {
   "cell_type": "code",
   "execution_count": 24,
   "metadata": {
    "ExecuteTime": {
     "end_time": "2021-05-17T17:59:37.720279Z",
     "start_time": "2021-05-17T17:59:37.718560Z"
    }
   },
   "outputs": [],
   "source": [
    "import numpy as np"
   ]
  },
  {
   "cell_type": "code",
   "execution_count": 38,
   "metadata": {
    "ExecuteTime": {
     "end_time": "2021-05-17T18:04:59.906761Z",
     "start_time": "2021-05-17T18:04:59.900707Z"
    }
   },
   "outputs": [],
   "source": [
    "vals = []\n",
    "\n",
    "for source in critics:\n",
    "    for referer in critics:\n",
    "        \n",
    "        vals.append(sim_pearson(critics, source, referer))\n",
    "\n",
    "vals_arr = np.array(vals)"
   ]
  },
  {
   "cell_type": "code",
   "execution_count": 39,
   "metadata": {
    "ExecuteTime": {
     "end_time": "2021-05-17T18:05:00.333226Z",
     "start_time": "2021-05-17T18:05:00.329917Z"
    }
   },
   "outputs": [
    {
     "data": {
      "text/plain": [
       "array([ 1.        ,  0.39605902,  0.40451992,  0.56694671,  0.59408853,\n",
       "        0.74701788,  0.99124071,  0.39605902,  1.        ,  0.2045983 ,\n",
       "        0.31497039,  0.41176471,  0.96379568,  0.38124643,  0.40451992,\n",
       "        0.2045983 ,  1.        ,  1.        , -0.25819889,  0.13483997,\n",
       "       -1.        ,  0.56694671,  0.31497039,  1.        ,  1.        ,\n",
       "        0.56694671,  0.02857143,  0.89340515,  0.59408853,  0.41176471,\n",
       "       -0.25819889,  0.56694671,  1.        ,  0.21128856,  0.92447345,\n",
       "        0.74701788,  0.96379568,  0.13483997,  0.02857143,  0.21128856,\n",
       "        1.        ,  0.66284898,  0.99124071,  0.38124643, -1.        ,\n",
       "        0.89340515,  0.92447345,  0.66284898,  1.        ])"
      ]
     },
     "execution_count": 39,
     "metadata": {},
     "output_type": "execute_result"
    }
   ],
   "source": [
    "vals_arr"
   ]
  },
  {
   "cell_type": "code",
   "execution_count": 40,
   "metadata": {
    "ExecuteTime": {
     "end_time": "2021-05-17T18:05:00.741905Z",
     "start_time": "2021-05-17T18:05:00.738898Z"
    }
   },
   "outputs": [
    {
     "data": {
      "text/plain": [
       "(0.5159356584296166, 0.4713252827635987)"
      ]
     },
     "execution_count": 40,
     "metadata": {},
     "output_type": "execute_result"
    }
   ],
   "source": [
    "vals_arr.mean(), vals_arr.std()"
   ]
  },
  {
   "cell_type": "code",
   "execution_count": 41,
   "metadata": {
    "ExecuteTime": {
     "end_time": "2021-05-17T18:05:01.079908Z",
     "start_time": "2021-05-17T18:05:01.078014Z"
    }
   },
   "outputs": [],
   "source": [
    "norm_vals_arr = vals_arr - np.eye(len(vals_arr))"
   ]
  },
  {
   "cell_type": "code",
   "execution_count": 42,
   "metadata": {
    "ExecuteTime": {
     "end_time": "2021-05-17T18:05:01.511145Z",
     "start_time": "2021-05-17T18:05:01.507425Z"
    }
   },
   "outputs": [
    {
     "data": {
      "text/plain": [
       "(0.49552749516431055, 0.49207640901553995)"
      ]
     },
     "execution_count": 42,
     "metadata": {},
     "output_type": "execute_result"
    }
   ],
   "source": [
    "norm_vals_arr.mean(), norm_vals_arr.std()"
   ]
  },
  {
   "cell_type": "code",
   "execution_count": 43,
   "metadata": {
    "ExecuteTime": {
     "end_time": "2021-05-17T18:05:01.940822Z",
     "start_time": "2021-05-17T18:05:01.939048Z"
    }
   },
   "outputs": [],
   "source": [
    "import matplotlib.pyplot as plt"
   ]
  },
  {
   "cell_type": "code",
   "execution_count": 44,
   "metadata": {
    "ExecuteTime": {
     "end_time": "2021-05-17T18:05:10.546213Z",
     "start_time": "2021-05-17T18:05:10.414579Z"
    }
   },
   "outputs": [
    {
     "data": {
      "text/plain": [
       "{'bodies': [<matplotlib.collections.PolyCollection at 0x7f959d80aa00>],\n",
       " 'cmaxes': <matplotlib.collections.LineCollection at 0x7f959d80a850>,\n",
       " 'cmins': <matplotlib.collections.LineCollection at 0x7f959d80a820>,\n",
       " 'cbars': <matplotlib.collections.LineCollection at 0x7f959d80d1f0>,\n",
       " 'cmedians': <matplotlib.collections.LineCollection at 0x7f959d80d4f0>}"
      ]
     },
     "execution_count": 44,
     "metadata": {},
     "output_type": "execute_result"
    },
    {
     "data": {
      "image/png": "[encoded data removed]",
      "text/plain": [
       "<Figure size 432x288 with 1 Axes>"
      ]
     },
     "metadata": {
      "needs_background": "light"
     },
     "output_type": "display_data"
    }
   ],
   "source": [
    "plt.violinplot(vals_arr.flatten(), vert=False, showmedians=True)"
   ]
  },
  {
   "cell_type": "code",
   "execution_count": 14,
   "metadata": {
    "ExecuteTime": {
     "end_time": "2021-05-17T17:39:57.489999Z",
     "start_time": "2021-05-17T17:39:57.487153Z"
    },
    "colab": {
     "base_uri": "https://localhost:8080/",
     "height": 119
    },
    "id": "XHARbsMynSYL",
    "outputId": "23815c92-fa79-473c-d5d0-3217064a2c69"
   },
   "outputs": [
    {
     "data": {
      "text/plain": [
       "{'Lady in the Water': 2.5,\n",
       " 'Snakes on a Plane': 3.5,\n",
       " 'Just My Luck': 3.0,\n",
       " 'Superman Returns': 3.5,\n",
       " 'You, Me and Dupree': 2.5,\n",
       " 'The Night Listener': 3.0}"
      ]
     },
     "execution_count": 14,
     "metadata": {},
     "output_type": "execute_result"
    }
   ],
   "source": [
    "critics['Lisa Rose']"
   ]
  },
  {
   "cell_type": "code",
   "execution_count": 15,
   "metadata": {
    "ExecuteTime": {
     "end_time": "2021-05-17T17:39:57.494097Z",
     "start_time": "2021-05-17T17:39:57.491452Z"
    },
    "colab": {
     "base_uri": "https://localhost:8080/",
     "height": 34
    },
    "id": "j_WeYOdLnYIM",
    "outputId": "7e3ab669-08a3-45cd-f6b9-4cbfc355becd"
   },
   "outputs": [
    {
     "data": {
      "text/plain": [
       "{'Snakes on a Plane': 4.5, 'You, Me and Dupree': 1.0, 'Superman Returns': 4.0}"
      ]
     },
     "execution_count": 15,
     "metadata": {},
     "output_type": "execute_result"
    }
   ],
   "source": [
    "critics['Toby']"
   ]
  },
  {
   "cell_type": "markdown",
   "metadata": {
    "id": "4xSa0SN2_UPU"
   },
   "source": [
    "Эта функция работает также как:\n",
    "\n",
    "\\begin{equation}\n",
    "\\text{similarity }(x, y) = \\dfrac{1}{1 + d(x, y)},\n",
    "\\end{equation}\n",
    "\n",
    "где $d(x, y)$ - расстояние Евклида. \n",
    "\n",
    "Однако, по осям будет фильмы и оценки от критиков. Если у критиков нет одинаковых фильмов, то мы этих критиков не рассматриваем"
   ]
  },
  {
   "cell_type": "markdown",
   "metadata": {
    "id": "e7RF8iYA_UPV"
   },
   "source": [
    "**Коэффициент корреляции Пирсона** "
   ]
  },
  {
   "cell_type": "markdown",
   "metadata": {
    "id": "IVQTKsFm_UPX"
   },
   "source": [
    "Другой способ определять степень схожести - использовать коэффициент корреляции Пирсона. Этот коэффициент показывает, насколько два набора данных хорошо ложатся на прямую. "
   ]
  },
  {
   "cell_type": "markdown",
   "metadata": {
    "id": "WAR6cl4o_UPY"
   },
   "source": [
    "<p align=\"center\">\n",
    "  <img src=\"https://drive.google.com/uc?id=1hVf1ALcMkF3FowoKPMSQhIJkluTVPjlu\" alt=\"Drawing\" style=\"width: 700px;\" width=\"700\"/>\n",
    "</p>"
   ]
  },
  {
   "cell_type": "markdown",
   "metadata": {
    "id": "GC6fs7X__UPa"
   },
   "source": [
    "Два кинокритика со средним значением корреляции 0.41 (слева) и два кинокритика с высоким значением корреляции 0.75 (справа).  "
   ]
  },
  {
   "cell_type": "markdown",
   "metadata": {
    "id": "UpKoUUMb_UPb"
   },
   "source": [
    "Корреляция Пирсона считается по формуле: \n",
    "    \n",
    "\\begin{equation}\n",
    "    \\text{corr}(x, y) = \\dfrac{\\sum_{i = 1}^n (x_i - \\frac{\\sum_{j = 1}^n x_j}{n}) (y_i - \\frac{\\sum_{j = 1}^n y_j}{n})}{\\sqrt{\\sum_{i = 1}^n (x_i - \\frac{\\sum_{j = 1}^n x_j}{n})^2 \\sum_{i = 1}^n (y_i - \\frac{\\sum_{j = 1}^n y_j}{n})^2}}\n",
    "\\end{equation}"
   ]
  },
  {
   "cell_type": "markdown",
   "metadata": {
    "id": "YuwEP5n4_UPb"
   },
   "source": [
    "По аналогии с функцией **sim_distance()** в модуле **recommendations** реализована функция для подсчета сходства двух критиков на основе корреляции Пирсона. Она называется **sim_pearson()**. Функция принимает на вход те же самые аргументы, что и **sim_distance()**:\n",
    "* словарь критиков\n",
    "* имя первого критика для сравнения\n",
    "* имя второго критика для сравнения"
   ]
  },
  {
   "cell_type": "markdown",
   "metadata": {
    "collapsed": true,
    "id": "e0fzL1qn_UPe"
   },
   "source": [
    "Посмотрим, как работает эта функция для двух критиков Lisa Rose и Gene Seymour:\n",
    "\n",
    "**Code 11:**"
   ]
  },
  {
   "cell_type": "code",
   "execution_count": 35,
   "metadata": {
    "ExecuteTime": {
     "end_time": "2021-05-17T18:04:41.680789Z",
     "start_time": "2021-05-17T18:04:41.677608Z"
    },
    "colab": {
     "base_uri": "https://localhost:8080/",
     "height": 34
    },
    "id": "6vn27sKY_UPf",
    "outputId": "8a81ef74-987a-457a-912b-d9869a968fe0"
   },
   "outputs": [
    {
     "data": {
      "text/plain": [
       "0.3960590171906697"
      ]
     },
     "execution_count": 35,
     "metadata": {},
     "output_type": "execute_result"
    }
   ],
   "source": [
    "sim_pearson(critics,'Lisa Rose','Gene Seymour')"
   ]
  },
  {
   "cell_type": "code",
   "execution_count": 36,
   "metadata": {
    "ExecuteTime": {
     "end_time": "2021-05-17T18:04:42.209764Z",
     "start_time": "2021-05-17T18:04:42.206036Z"
    },
    "colab": {
     "base_uri": "https://localhost:8080/",
     "height": 34
    },
    "id": "njCgnzbCAzrp",
    "outputId": "07d43b87-8ac3-4457-b8dc-a26739c2b209"
   },
   "outputs": [
    {
     "data": {
      "text/plain": [
       "(0.4950737714883372, 0.3180601480969472)"
      ]
     },
     "execution_count": 36,
     "metadata": {},
     "output_type": "execute_result"
    }
   ],
   "source": [
    "from scipy.stats import pearsonr\n",
    "pearsonr(list(critics['Lisa Rose'].values()), list(critics['Gene Seymour'].values()))"
   ]
  },
  {
   "cell_type": "code",
   "execution_count": 37,
   "metadata": {
    "ExecuteTime": {
     "end_time": "2021-05-17T18:04:43.227158Z",
     "start_time": "2021-05-17T18:04:43.224214Z"
    },
    "colab": {
     "base_uri": "https://localhost:8080/",
     "height": 34
    },
    "id": "awFSPFFXB2U2",
    "outputId": "4273df85-b854-4058-974b-b4cc79a7d450"
   },
   "outputs": [
    {
     "data": {
      "text/plain": [
       "0.3960590171906697"
      ]
     },
     "execution_count": 37,
     "metadata": {},
     "output_type": "execute_result"
    }
   ],
   "source": [
    "sim_pearson(critics,'Lisa Rose','Gene Seymour')"
   ]
  },
  {
   "cell_type": "code",
   "execution_count": 45,
   "metadata": {
    "ExecuteTime": {
     "end_time": "2021-05-17T18:06:06.687139Z",
     "start_time": "2021-05-17T18:06:06.684084Z"
    }
   },
   "outputs": [
    {
     "data": {
      "text/plain": [
       "0.9912407071619302"
      ]
     },
     "execution_count": 45,
     "metadata": {},
     "output_type": "execute_result"
    }
   ],
   "source": [
    "sim_pearson(critics, 'Lisa Rose', 'Toby')"
   ]
  },
  {
   "cell_type": "markdown",
   "metadata": {
    "id": "nHdaw1RB_UPi"
   },
   "source": [
    "### Ранжирование критиков"
   ]
  },
  {
   "cell_type": "markdown",
   "metadata": {
    "id": "xlFS82dj_UPi"
   },
   "source": [
    "После того как мы выбрали критерий для сравнения двух людей, можно начать искать для каждого человека подгруппу других людей с наиболее похожими вкусами. \n",
    "\n",
    "Для этого в модуле **recommendations** реализована функция **topMatches()**. Функция возвращает список n наилучших соответствий для человека из словаря critics. \n",
    "\n",
    "Соответственно, аргументы у функции: \n",
    "* словарь критиков *critics\\_dict*\n",
    "* имя персоны *person*, для которой подбираем соответствия \n",
    "* число *n* наилучших соответствий \n",
    "\n",
    "Кроме этого, так как мы хотим использовать различные расстояния, то в качестве аргумента мы будем также передавать имя функции-расстояния (*similarity*).  "
   ]
  },
  {
   "cell_type": "markdown",
   "metadata": {
    "id": "8rIwr1LP_UPk"
   },
   "source": [
    "Пример вычисления топ-3 критиков похожих на Toby по корреляции Пирсона:\n",
    "\n",
    "**Code 12:**"
   ]
  },
  {
   "cell_type": "code",
   "execution_count": 46,
   "metadata": {
    "ExecuteTime": {
     "end_time": "2021-05-17T18:10:28.217177Z",
     "start_time": "2021-05-17T18:10:28.213823Z"
    },
    "colab": {
     "base_uri": "https://localhost:8080/",
     "height": 68
    },
    "id": "3dRiz0NF_UPk",
    "outputId": "e151d4f9-7b71-46c8-bcc9-f428b47e8404"
   },
   "outputs": [
    {
     "data": {
      "text/plain": [
       "[(0.9912407071619302, 'Lisa Rose'),\n",
       " (0.9244734516419049, 'Mick LaSalle'),\n",
       " (0.8934051474415642, 'Claudia Puig')]"
      ]
     },
     "execution_count": 46,
     "metadata": {},
     "output_type": "execute_result"
    }
   ],
   "source": [
    "topMatches(critics, 'Toby', n=3, similarity=sim_pearson)"
   ]
  },
  {
   "cell_type": "markdown",
   "metadata": {
    "id": "Ab2yEqVL_UPm"
   },
   "source": [
    "Как работает эта функция: \n",
    "*  считаем схожесть интересующего нас критика с каждым другим критиком используя функцию **similarity**\n",
    "*  сортируем результаты\n",
    "*  возвращаем топ **n** результатов"
   ]
  },
  {
   "cell_type": "markdown",
   "metadata": {
    "id": "DrWsdPl5_UPo"
   },
   "source": [
    "Пример вычисления топ-3 критиков похожих на Toby по евклидову расстоянию:\n",
    "\n",
    "**Code 13:**"
   ]
  },
  {
   "cell_type": "code",
   "execution_count": 51,
   "metadata": {
    "ExecuteTime": {
     "end_time": "2021-05-17T18:13:40.100237Z",
     "start_time": "2021-05-17T18:13:40.096879Z"
    }
   },
   "outputs": [
    {
     "name": "stdout",
     "output_type": "stream",
     "text": [
      "{   'Lisa Rose': {   'Just My Luck': 3.0,\n",
      "                     'Lady in the Water': 2.5,\n",
      "                     'Snakes on a Plane': 3.5,\n",
      "                     'Superman Returns': 3.5,\n",
      "                     'The Night Listener': 3.0,\n",
      "                     'You, Me and Dupree': 2.5},\n",
      "    'Mick LaSalle': {   'Just My Luck': 2.0,\n",
      "                        'Lady in the Water': 3.0,\n",
      "                        'Snakes on a Plane': 4.0,\n",
      "                        'Superman Returns': 3.0,\n",
      "                        'The Night Listener': 3.0,\n",
      "                        'You, Me and Dupree': 2.0},\n",
      "    'Toby': {   'Snakes on a Plane': 4.5,\n",
      "                'Superman Returns': 4.0,\n",
      "                'You, Me and Dupree': 1.0}}\n"
     ]
    }
   ],
   "source": [
    "pp.pprint({\n",
    "    k: v\n",
    "    for k, v in critics.items()\n",
    "    if k in ('Toby', 'Mick LaSalle', 'Lisa Rose')\n",
    "})"
   ]
  },
  {
   "cell_type": "code",
   "execution_count": 47,
   "metadata": {
    "ExecuteTime": {
     "end_time": "2021-05-17T18:11:01.042672Z",
     "start_time": "2021-05-17T18:11:01.039545Z"
    },
    "colab": {
     "base_uri": "https://localhost:8080/",
     "height": 68
    },
    "id": "brjogX-B_UPp",
    "outputId": "1ea13b5f-2981-4aef-e958-74e57e6ccdb5"
   },
   "outputs": [
    {
     "data": {
      "text/plain": [
       "[(0.3076923076923077, 'Mick LaSalle'),\n",
       " (0.2857142857142857, 'Michael Phillips'),\n",
       " (0.23529411764705882, 'Claudia Puig')]"
      ]
     },
     "execution_count": 47,
     "metadata": {},
     "output_type": "execute_result"
    }
   ],
   "source": [
    "topMatches(critics, 'Toby', n=3, similarity=sim_distance)"
   ]
  },
  {
   "cell_type": "markdown",
   "metadata": {
    "id": "epcfG-45_UPu"
   },
   "source": [
    "Выбор расстояния для подбора похожести зависит от конкретной задачи. Имеет смысл попробовать разные критерии и посмотреть, какой из них дает наилучший результат. "
   ]
  },
  {
   "cell_type": "markdown",
   "metadata": {
    "id": "Eus_ti7o_UPu"
   },
   "source": [
    "## Рекомендация фильмов (User-based подход)"
   ]
  },
  {
   "cell_type": "markdown",
   "metadata": {
    "id": "mGV5SoZH_UPv"
   },
   "source": [
    "Мы умеем находить людей с похожим мнением как у рассматриваемого человека. Но как получить конкретную рекомендацию с набором фильмов? Можно было бы просто посмотреть на то, какие фильмы понравились похожему человеку, и выбрать из них не просмотренные. Однако, такой способ не стабилен: можем, например, отобрать критика, которому по каким-то причинам понравился фильм, получивший негативные оценки от остальных. \n",
    "\n",
    "Чтобы разрешить эту проблему, можно ранжировать сами фильмы, вычисляя взвешенную сумму оценок критиков. Мы будем брать оценку фильма у критика и умножать его на коэффициент похожести с тем, для которого мы строим рекомендацию. Затем полученный результат суммировать и нормировать.  \n",
    "\n",
    "Идея такого подхода в том, что люди похожие на тебя вносят больший вклад в \"рейтинг\" фильма. "
   ]
  },
  {
   "cell_type": "markdown",
   "metadata": {
    "id": "Ps7-hjHV_UPw"
   },
   "source": [
    "\n",
    "<p align=\"center\">\n",
    "  <img src=\"https://drive.google.com/uc?id=1FllGQ-zOF_37EZs8GamE2LTV6rp5WGyn\" alt=\"Drawing\" style=\"width: 700px;\" width=\"700\"/>\n",
    "</p>\n"
   ]
  },
  {
   "cell_type": "markdown",
   "metadata": {
    "id": "zRfh4yer_UPx"
   },
   "source": [
    "Этот подход реализован в модуле **recommendations** в функции **getRecommendations()**. Функция принимает на вход следующие аргументы: \n",
    "* словарь критиков *critics\\_dict*\n",
    "* имя персоны *person*, для которой подбираем соответствия \n",
    "* имя функции-критерия для сравнения\n",
    "\n",
    "**Code 14:**"
   ]
  },
  {
   "cell_type": "code",
   "execution_count": 52,
   "metadata": {
    "ExecuteTime": {
     "end_time": "2021-05-17T18:15:30.059408Z",
     "start_time": "2021-05-17T18:15:30.055804Z"
    },
    "colab": {
     "base_uri": "https://localhost:8080/",
     "height": 69
    },
    "id": "zJh5vXT0_UPy",
    "outputId": "7cdb87de-e2c8-473b-d0b2-10a03d01592d"
   },
   "outputs": [
    {
     "data": {
      "text/plain": [
       "[(3.347789526713101, 'The Night Listener'),\n",
       " (2.832549918264162, 'Lady in the Water'),\n",
       " (2.5309807037655645, 'Just My Luck')]"
      ]
     },
     "execution_count": 52,
     "metadata": {},
     "output_type": "execute_result"
    }
   ],
   "source": [
    "getRecommendations(critics,'Toby', sim_pearson)"
   ]
  },
  {
   "cell_type": "code",
   "execution_count": 53,
   "metadata": {
    "ExecuteTime": {
     "end_time": "2021-05-17T18:16:00.336366Z",
     "start_time": "2021-05-17T18:16:00.333430Z"
    },
    "colab": {
     "base_uri": "https://localhost:8080/",
     "height": 35
    },
    "id": "-peDbStUHhFR",
    "outputId": "f13e88d6-6edc-4150-f259-90eb908cd823"
   },
   "outputs": [
    {
     "data": {
      "text/plain": [
       "{'Snakes on a Plane': 4.5, 'You, Me and Dupree': 1.0, 'Superman Returns': 4.0}"
      ]
     },
     "execution_count": 53,
     "metadata": {},
     "output_type": "execute_result"
    }
   ],
   "source": [
    "critics['Toby']"
   ]
  },
  {
   "cell_type": "markdown",
   "metadata": {
    "id": "3KtJ5piw_UP0"
   },
   "source": [
    "Как работает эта функция:\n",
    "*  считаем схожесть пользователя с каждым другим пользователем\n",
    "*  перебираем фильмы, которые смотрели другие пользователи, но не смотрел текущий пользователь\n",
    "*  нормируем рейтинг фильмов на основе того насколько он понравился другим пользователям, и того насколько каждый из других пользователей похож на текущего пользователя\n",
    "*  сортируем список"
   ]
  },
  {
   "cell_type": "markdown",
   "metadata": {
    "id": "ivfbEJYh_UP1"
   },
   "source": [
    "**Code 15:**"
   ]
  },
  {
   "cell_type": "code",
   "execution_count": 54,
   "metadata": {
    "ExecuteTime": {
     "end_time": "2021-05-17T18:16:09.820311Z",
     "start_time": "2021-05-17T18:16:09.817442Z"
    },
    "colab": {
     "base_uri": "https://localhost:8080/",
     "height": 73
    },
    "id": "bxb6b8UH_UP1",
    "outputId": "1e14b649-b4f1-4b0f-a397-aa2551bdef33"
   },
   "outputs": [
    {
     "data": {
      "text/plain": [
       "[(3.5002478401415877, 'The Night Listener'),\n",
       " (2.7561242939959363, 'Lady in the Water'),\n",
       " (2.461988486074374, 'Just My Luck')]"
      ]
     },
     "execution_count": 54,
     "metadata": {},
     "output_type": "execute_result"
    }
   ],
   "source": [
    "getRecommendations(critics,'Toby', sim_distance)"
   ]
  },
  {
   "cell_type": "markdown",
   "metadata": {
    "id": "DtdRcrIB_UP3"
   },
   "source": [
    "Мы получили ранжированный список фильмов, а также прогноз оценки, которую поставит Toby этим фильмам. "
   ]
  },
  {
   "cell_type": "markdown",
   "metadata": {
    "id": "ISMyknUc_UP4"
   },
   "source": [
    "## Коллаборативная фильтрация по сходству объектов (Item-based collaborative filtering)"
   ]
  },
  {
   "cell_type": "markdown",
   "metadata": {
    "id": "fZOvyDtL_UP4"
   },
   "source": [
    "Мы реализовали механизм выдачи рекомендаций таким образом, что для создания набора данных необходимы оценки, выставленные каждым\n",
    "пользователем. Для нескольких тысяч людей это, возможно, и будет работать, но, когда речь идет о миллионах пользователей и товаров, сравнение каждого пользователя со всеми другими, а затем сравнение товаров, займет недопустимо много времени. "
   ]
  },
  {
   "cell_type": "markdown",
   "metadata": {
    "id": "ydTEcVdM_UP5"
   },
   "source": [
    "<p align=\"center\">\n",
    "  <img src=\"https://drive.google.com/uc?id=1ojBsHkO0Do1MApgULhAJye3pVFDm_-bZ\" alt=\"Drawing\" style=\"width: 700px;\" width=\"700\"/>\n",
    "</p>\n"
   ]
  },
  {
   "cell_type": "markdown",
   "metadata": {
    "id": "ZQ2FwE5n_UP5"
   },
   "source": [
    "Техника, которую мы применяли до сих пор, называется **коллаборативной фильтрацией по схожести пользователей**. Альтернатива известна под названием **коллаборативная фильтрация по схожести образцов**. "
   ]
  },
  {
   "cell_type": "markdown",
   "metadata": {
    "id": "yI-zCVfA_UP6"
   },
   "source": [
    "Основная идея процедуры фильтрации по схожести образцов заключается в том, чтобы для каждого образца заранее вычислить большинство похожих на него. Тогда для выдачи рекомендаций алгоритму достаточно будет найти те образцы, которым пользователь выставил наивысшие оценки, а затем сформировать список образцов, максимально похожих на эти. \n",
    "\n",
    "Отметим одно существенное отличие: хотя на первом шаге необходимо исследовать все данные, результаты сравнения образцов изменяются не так часто, как результаты сравнения пользователей."
   ]
  },
  {
   "cell_type": "markdown",
   "metadata": {
    "id": "KXNQ2-vC_UP7"
   },
   "source": [
    "<p align=\"center\">\n",
    "  <img src=\"https://drive.google.com/uc?id=1FexrozBH2sZR3TCgVs1-eKGtwdEtdmaP\" alt=\"Drawing\" style=\"width: 100px;\" width=\"700\"/>\n",
    "</p>\n"
   ]
  },
  {
   "cell_type": "markdown",
   "metadata": {
    "collapsed": true,
    "id": "iKjMD6J8_UP8"
   },
   "source": [
    "Чтобы сравнивать образцы, нужно первым делом построить полный набор данных о похожих образцах. В первую очередь, нам нужно переделать словарь предпочтений критиков таким образом, чтобы теперь был словарь фильмов и их оценок: \n",
    "```python\n",
    "film_dict = {\n",
    "    'film_name_1': \n",
    "    {'critic_1': 'score_1', \n",
    "     'critic_2': 'score_2', \n",
    "     ...\n",
    "    }, \n",
    "    ...\n",
    "}\n",
    "```\n",
    "Далее для каждого фильма посчитать наиболее похожие образцы и коэффициенты похожести для них. Для подсчета схожести будем использовать евклидово расстояние. \n",
    "\n",
    "В модуле **recommendations** есть функция **calculateSimilarItems()**, которая делает сразу оба шага. На вход её нужно подать словарь с оценками критиков *critics* и число образцов, которые мы считаем наиболее похожими (остальные не выводим).\n",
    "\n",
    "**Code 16:**"
   ]
  },
  {
   "cell_type": "code",
   "execution_count": 55,
   "metadata": {
    "ExecuteTime": {
     "end_time": "2021-05-17T18:18:10.606718Z",
     "start_time": "2021-05-17T18:18:10.604492Z"
    },
    "id": "adYIzV9d_UP8"
   },
   "outputs": [],
   "source": [
    "itemsim = calculateSimilarItems(critics, n=10)"
   ]
  },
  {
   "cell_type": "code",
   "execution_count": 56,
   "metadata": {
    "ExecuteTime": {
     "end_time": "2021-05-17T18:18:11.010065Z",
     "start_time": "2021-05-17T18:18:11.006548Z"
    },
    "colab": {
     "base_uri": "https://localhost:8080/",
     "height": 537
    },
    "id": "jAbK3axg_UQA",
    "outputId": "05edfb52-9478-47f0-9799-6f25c15e8f03"
   },
   "outputs": [
    {
     "name": "stdout",
     "output_type": "stream",
     "text": [
      "{   'Just My Luck': [   (0.2222222222222222, 'Lady in the Water'),\n",
      "                        (0.18181818181818182, 'You, Me and Dupree'),\n",
      "                        (0.15384615384615385, 'The Night Listener'),\n",
      "                        (0.10526315789473684, 'Snakes on a Plane'),\n",
      "                        (0.06451612903225806, 'Superman Returns')],\n",
      "    'Lady in the Water': [   (0.4, 'You, Me and Dupree'),\n",
      "                             (0.2857142857142857, 'The Night Listener'),\n",
      "                             (0.2222222222222222, 'Snakes on a Plane'),\n",
      "                             (0.2222222222222222, 'Just My Luck'),\n",
      "                             (0.09090909090909091, 'Superman Returns')],\n",
      "    'Snakes on a Plane': [   (0.2222222222222222, 'Lady in the Water'),\n",
      "                             (0.18181818181818182, 'The Night Listener'),\n",
      "                             (0.16666666666666666, 'Superman Returns'),\n",
      "                             (0.10526315789473684, 'Just My Luck'),\n",
      "                             (0.05128205128205128, 'You, Me and Dupree')],\n",
      "    'Superman Returns': [   (0.16666666666666666, 'Snakes on a Plane'),\n",
      "                            (0.10256410256410256, 'The Night Listener'),\n",
      "                            (0.09090909090909091, 'Lady in the Water'),\n",
      "                            (0.06451612903225806, 'Just My Luck'),\n",
      "                            (0.05333333333333334, 'You, Me and Dupree')],\n",
      "    'The Night Listener': [   (0.2857142857142857, 'Lady in the Water'),\n",
      "                              (0.18181818181818182, 'Snakes on a Plane'),\n",
      "                              (0.15384615384615385, 'Just My Luck'),\n",
      "                              (0.14814814814814814, 'You, Me and Dupree'),\n",
      "                              (0.10256410256410256, 'Superman Returns')],\n",
      "    'You, Me and Dupree': [   (0.4, 'Lady in the Water'),\n",
      "                              (0.18181818181818182, 'Just My Luck'),\n",
      "                              (0.14814814814814814, 'The Night Listener'),\n",
      "                              (0.05333333333333334, 'Superman Returns'),\n",
      "                              (0.05128205128205128, 'Snakes on a Plane')]}\n"
     ]
    }
   ],
   "source": [
    "pp.pprint(itemsim)"
   ]
  },
  {
   "cell_type": "code",
   "execution_count": null,
   "metadata": {
    "colab": {
     "base_uri": "https://localhost:8080/",
     "height": 104
    },
    "id": "gRdOzNm9IQWl",
    "outputId": "65111b26-0dc2-4eba-efc1-a9711f5d77e8"
   },
   "outputs": [
    {
     "data": {
      "text/plain": [
       "[(0.16666666666666666, 'Snakes on a Plane'),\n",
       " (0.10256410256410256, 'The Night Listener'),\n",
       " (0.09090909090909091, 'Lady in the Water'),\n",
       " (0.06451612903225806, 'Just My Luck'),\n",
       " (0.05333333333333334, 'You, Me and Dupree')]"
      ]
     },
     "execution_count": 36,
     "metadata": {
      "tags": []
     },
     "output_type": "execute_result"
    }
   ],
   "source": [
    "itemsim['Superman Returns']"
   ]
  },
  {
   "cell_type": "markdown",
   "metadata": {
    "id": "cNqKm0c7_UQC"
   },
   "source": [
    "Получили вложенный словарь с фильмами и их похожестью на другие фильмы. "
   ]
  },
  {
   "cell_type": "markdown",
   "metadata": {
    "id": "Hfp_yAP8_UQC"
   },
   "source": [
    "Теперь мы готовы выдавать рекомендации, пользуясь словарем данных о схожести образцов. По аналогии с тем, что мы уже делали, необходимо получить список всех образцов, которым пользователь выставлял оценки, найти похожие и взвесить их с учетом коэффициентов подобия (умножить оценку на коэффициент подобия). "
   ]
  },
  {
   "cell_type": "markdown",
   "metadata": {
    "id": "w-1dRSQl_UQD"
   },
   "source": [
    "<p align=\"center\">\n",
    "  <img src=\"https://drive.google.com/uc?id=1KW6PdGw7D4tmln9BlTuqB7W3_svQBVl_\" alt=\"Drawing\" style=\"width: 700px;\" width=\"700\"/>\n",
    "</p>\n"
   ]
  },
  {
   "cell_type": "markdown",
   "metadata": {
    "id": "8f7bximq_UQE"
   },
   "source": [
    "Этот механизм реализован в функции **getRecommendedItems()** из **recommendations**. На вход подается:\n",
    "* словарь с оценками пользователя (в нашем случае это словарь критиков, *critics*)\n",
    "* словарь с данными о схожести образцов, *itemsim*\n",
    "* имя критика, для которого строим рекомендации"
   ]
  },
  {
   "cell_type": "markdown",
   "metadata": {
    "id": "32FRi714_UQE"
   },
   "source": [
    "Получим рекомендации для пользователя Toby:\n",
    "\n",
    "**Code 17:**"
   ]
  },
  {
   "cell_type": "code",
   "execution_count": 58,
   "metadata": {
    "ExecuteTime": {
     "end_time": "2021-05-17T18:20:56.221923Z",
     "start_time": "2021-05-17T18:20:56.219244Z"
    }
   },
   "outputs": [
    {
     "data": {
      "text/plain": [
       "{'Snakes on a Plane': 4.5, 'You, Me and Dupree': 1.0, 'Superman Returns': 4.0}"
      ]
     },
     "execution_count": 58,
     "metadata": {},
     "output_type": "execute_result"
    }
   ],
   "source": [
    "critics['Toby']"
   ]
  },
  {
   "cell_type": "code",
   "execution_count": 57,
   "metadata": {
    "ExecuteTime": {
     "end_time": "2021-05-17T18:20:06.290992Z",
     "start_time": "2021-05-17T18:20:06.288012Z"
    },
    "colab": {
     "base_uri": "https://localhost:8080/",
     "height": 69
    },
    "id": "Au-TzhYH_UQE",
    "outputId": "b8dd815c-a8bc-47ac-d28b-79d0d230c2cf"
   },
   "outputs": [
    {
     "data": {
      "text/plain": [
       "[(3.182634730538922, 'The Night Listener'),\n",
       " (2.5983318700614575, 'Just My Luck'),\n",
       " (2.4730878186968837, 'Lady in the Water')]"
      ]
     },
     "execution_count": 57,
     "metadata": {},
     "output_type": "execute_result"
    }
   ],
   "source": [
    "getRecommendedItems(critics, itemsim, 'Toby')"
   ]
  },
  {
   "cell_type": "markdown",
   "metadata": {
    "id": "kboZa2t0_UQH"
   },
   "source": [
    "## Метрики качества для рекомендательных систем"
   ]
  },
  {
   "cell_type": "markdown",
   "metadata": {
    "id": "F0w_cTkZ_UQJ"
   },
   "source": [
    "Для оценки качества работы рекомендательных систем можно рассмотреть две специальные метрики **Hit Rate** (HR) и **Mean Reciprocal Rank** (MRR).\n",
    "\n",
    "Определим как **попадание** (**hit**) - ситуацию, когда фильм был рекомендован пользователю в топ-N и пользователь посмотрел его. "
   ]
  },
  {
   "cell_type": "markdown",
   "metadata": {
    "id": "FRnU59A9_UQJ"
   },
   "source": [
    "**Hit Rate (HR)**"
   ]
  },
  {
   "cell_type": "markdown",
   "metadata": {
    "id": "0a00hpAy_UQL"
   },
   "source": [
    "**Hit Rate (процент попаданий)** определяется как общее число попаданий, нормированное на количество пользователей. \n",
    "\n",
    "$$\n",
    "\\text{HR} = \\frac{1}{\\text{# test users}} \\sum_{\\text{test users}}{\\text{hit}}, \\quad\n",
    "$$\n",
    "\n",
    "Чем больше процент попаданий, тем лучше будет наша система рекомендаций."
   ]
  },
  {
   "cell_type": "markdown",
   "metadata": {
    "id": "IOOoyFf5_UQL"
   },
   "source": [
    "*Замечание*: в некотором смысле, Hit Rate представляет собой производное от классических ML метрик precision и recall. "
   ]
  },
  {
   "cell_type": "markdown",
   "metadata": {
    "id": "7v4hQXwA_UQM"
   },
   "source": [
    "**Mean Reciprocal Rank (MRR)**"
   ]
  },
  {
   "cell_type": "markdown",
   "metadata": {
    "id": "0QxRMOr3_UQN"
   },
   "source": [
    "Отличие метрики **Mean Reciprocal Rank** от предыдущей в том, что мы учитываем не общее количество попаданий, а обратное рангу (месту в списке рекомендаций) **первое попадание**. Например, если фильм, просмотренный пользователем (попадание), стоял на втором месте, обратное рангу будет равно $\\frac{1}{2}$, а если бы стоял на третьем - $\\frac{1}{3}$ и так далее. "
   ]
  },
  {
   "cell_type": "markdown",
   "metadata": {
    "id": "UVD2kH7F_UQO"
   },
   "source": [
    "$$\n",
    "\\text{MRR} = \\frac{1}{\\text{# test users}} \\sum_{\\text{test users}}{\\frac{1}{\\text{hit rank}}}\n",
    "$$"
   ]
  },
  {
   "cell_type": "markdown",
   "metadata": {
    "id": "oGhFRoPU_UQO"
   },
   "source": [
    "Рассмотрим на примере. Toby получил следующий список рекомендаций: \n",
    "\n",
    "**Code 18:**"
   ]
  },
  {
   "cell_type": "code",
   "execution_count": null,
   "metadata": {
    "colab": {
     "base_uri": "https://localhost:8080/",
     "height": 73
    },
    "id": "xkD151Wi_UQP",
    "outputId": "5af9e2cc-fc44-43d8-93b5-4a27f6d068cb"
   },
   "outputs": [
    {
     "data": {
      "text/plain": [
       "[(3.347789526713101, 'The Night Listener'),\n",
       " (2.832549918264162, 'Lady in the Water'),\n",
       " (2.5309807037655645, 'Just My Luck')]"
      ]
     },
     "execution_count": 22,
     "metadata": {
      "tags": []
     },
     "output_type": "execute_result"
    }
   ],
   "source": [
    "getRecommendations(critics,'Toby', sim_pearson)"
   ]
  },
  {
   "cell_type": "markdown",
   "metadata": {
    "id": "NWid3AD0_UQS"
   },
   "source": [
    "Допустим, после этого Toby посмотрел 5 фильмов и выставил им следующие оценки:\n"
   ]
  },
  {
   "cell_type": "markdown",
   "metadata": {
    "id": "zg6Dkqn1_UQT"
   },
   "source": [
    "|Score|Film|\n",
    "|----|--------------------|\n",
    "|4.5 | The Departed |\n",
    "|4   | The Night Listener |\n",
    "|3.9 | Lady in the Water |\n",
    "|3.7 | The Firm |\n",
    "|3   | Just My Luck |"
   ]
  },
  {
   "cell_type": "markdown",
   "metadata": {
    "id": "Vb3ymJfX_UQT"
   },
   "source": [
    "Как мы видим, только два фильма из списка рекомендаций попали в личный топ-3 Toby. Получается, что **попадание (hits)** у него 2.\n",
    "\n",
    "**HR = $\\dfrac{1}{1} * 2 = 2$**, так как выборка тестовых пользователей (test\\_users) состоит из одного Toby.  "
   ]
  },
  {
   "cell_type": "markdown",
   "metadata": {
    "id": "b-jMqZ6g_UQU"
   },
   "source": [
    "* **$\\frac{1}{hit\\_rank}$** для фильма The Night Listener - это $\\dfrac{1}{2}$\n",
    "* **$\\frac{1}{hit\\_rank}$** для фильма Lady in the Water - это $\\dfrac{1}{3}$\n",
    "\n",
    "Но фильм **The Night Listener** стоит выше в рейтинге Toby, чем **Lady in the Water**, поэтому:\n",
    "\n",
    "**MRR = $\\dfrac{1}{1}*\\dfrac{1}{2} = \\dfrac{1}{2}$**, так как, опять же, выборка тестовых пользователей (test\\_users) состоит из одного Toby.  "
   ]
  },
  {
   "cell_type": "markdown",
   "metadata": {
    "id": "uVz--JCg_UQV"
   },
   "source": [
    "## Бонус* : Рекомендация на данных MovieLens"
   ]
  },
  {
   "cell_type": "markdown",
   "metadata": {
    "id": "hswKQL4m_UQW"
   },
   "source": [
    "В этом примере мы рассмотрим реальный набор данных с оценками фильмов, который называется MovieLens. Источник данных: http://grouplens.org/datasets/movielens/"
   ]
  },
  {
   "cell_type": "markdown",
   "metadata": {
    "id": "AZts6qpz_UQX"
   },
   "source": [
    "Датасет представляет собой набор фильмов, которые 162541 пользователей сайта MovieLens оценивали по 5-бальной шкале. В наборе также есть дополнительная информация такая как описание фильмов тегами, но в нашем упражнении мы её использовать не будем для упрощения. Также, чтобы уменьшить время вычислений, будем использовать данный только 943 пользователей. Каждый пользователь в датасете оценил минимум 20 фильмов.\n",
    "\n",
    "Загруженный датасет будет в следующем виде:\n",
    "\n",
    "```python\n",
    "\n",
    "preferences = {\n",
    "    'user_id_1' : {\n",
    "        'film_name_1' : rate,\n",
    "        'film_name_2' : rate,\n",
    "        ...\n",
    "        'film_name_21' : rate,\n",
    "    },\n",
    "    ...\n",
    "    'user_id_943' : {\n",
    "        'film_name_1' : rate,\n",
    "        'film_name_2' : rate,\n",
    "        ...\n",
    "        'film_name_30' : rate,\n",
    "    }\n",
    "}\n",
    "\n",
    "```\n"
   ]
  },
  {
   "cell_type": "markdown",
   "metadata": {
    "collapsed": true,
    "id": "sLW7AFQe_UQX"
   },
   "source": [
    "Чтобы загрузить набор данных MovieLens, в модуле **recommendations** есть функция **loadMovieLens()**. Она возвращает словарь предпочтений фильмов для набора людей. Пользователи зашифрованы идентификатором. Для каждого пользователя имеется название\n",
    "фильма, а также оценка, выставленная фильму данным пользователе.\n",
    "\n",
    "Перед запуском функции необходимо предварительно загрузить из внешнего источника файлы с данными с помощью **wget**. \n",
    "\n",
    "**Code 19:**"
   ]
  },
  {
   "cell_type": "code",
   "execution_count": null,
   "metadata": {
    "colab": {
     "base_uri": "https://localhost:8080/",
     "height": 731
    },
    "id": "mhF7cLORFOIK",
    "outputId": "f5bbab9d-0887-4417-f537-70b284236c88"
   },
   "outputs": [
    {
     "name": "stdout",
     "output_type": "stream",
     "text": [
      "--2020-02-18 12:00:36--  https://www.dropbox.com/s/e0nehgkgv3uoad3/u.item\n",
      "Resolving www.dropbox.com (www.dropbox.com)... 162.125.8.1, 2620:100:601f:1::a27d:901\n",
      "Connecting to www.dropbox.com (www.dropbox.com)|162.125.8.1|:443... connected.\n",
      "HTTP request sent, awaiting response... 301 Moved Permanently\n",
      "Location: /s/raw/e0nehgkgv3uoad3/u.item [following]\n",
      "--2020-02-18 12:00:36--  https://www.dropbox.com/s/raw/e0nehgkgv3uoad3/u.item\n",
      "Reusing existing connection to www.dropbox.com:443.\n",
      "HTTP request sent, awaiting response... 302 Found\n",
      "Location: https://uc80a4a8acda4f8a83537167ecb7.dl.dropboxusercontent.com/cd/0/inline/AyUVWsLDXZPoVYNSJeMt21Q4vINdd8b0DzzZJ8owSi7pMWukrQwK6fEI-6CMsjRE6L6KNTZ1LKNSQPYAx0GBjV0mD_9p_OG11P6FZdIXU8fIKBkdeajSPCO4dsjz_0Bo9I4/file# [following]\n",
      "--2020-02-18 12:00:36--  https://uc80a4a8acda4f8a83537167ecb7.dl.dropboxusercontent.com/cd/0/inline/AyUVWsLDXZPoVYNSJeMt21Q4vINdd8b0DzzZJ8owSi7pMWukrQwK6fEI-6CMsjRE6L6KNTZ1LKNSQPYAx0GBjV0mD_9p_OG11P6FZdIXU8fIKBkdeajSPCO4dsjz_0Bo9I4/file\n",
      "Resolving uc80a4a8acda4f8a83537167ecb7.dl.dropboxusercontent.com (uc80a4a8acda4f8a83537167ecb7.dl.dropboxusercontent.com)... 162.125.9.6, 2620:100:601b:6::a27d:806\n",
      "Connecting to uc80a4a8acda4f8a83537167ecb7.dl.dropboxusercontent.com (uc80a4a8acda4f8a83537167ecb7.dl.dropboxusercontent.com)|162.125.9.6|:443... connected.\n",
      "HTTP request sent, awaiting response... 200 OK\n",
      "Length: 236344 (231K) [text/plain]\n",
      "Saving to: ‘u.item’\n",
      "\n",
      "u.item              100%[===================>] 230.80K  --.-KB/s    in 0.08s   \n",
      "\n",
      "2020-02-18 12:00:37 (2.86 MB/s) - ‘u.item’ saved [236344/236344]\n",
      "\n",
      "--2020-02-18 12:00:38--  https://www.dropbox.com/s/7sy6mzs6d2skp8h/u.data\n",
      "Resolving www.dropbox.com (www.dropbox.com)... 162.125.8.1, 2620:100:601f:1::a27d:901\n",
      "Connecting to www.dropbox.com (www.dropbox.com)|162.125.8.1|:443... connected.\n",
      "HTTP request sent, awaiting response... 301 Moved Permanently\n",
      "Location: /s/raw/7sy6mzs6d2skp8h/u.data [following]\n",
      "--2020-02-18 12:00:38--  https://www.dropbox.com/s/raw/7sy6mzs6d2skp8h/u.data\n",
      "Reusing existing connection to www.dropbox.com:443.\n",
      "HTTP request sent, awaiting response... 302 Found\n",
      "Location: https://uc30623e45f824e89668cc389d69.dl.dropboxusercontent.com/cd/0/inline/AyWOp5S9WAFWuv6_KviLLcIAH8Fky85du3ls26wznBhcJLLT00SxBk3EE_O7zN-nfGsUDCgGWaoYe8jDK3hKa-_Al8o92cUOBoKSxMzaRaStw0BqZCWkCIIcIMFeIZLPZ_I/file# [following]\n",
      "--2020-02-18 12:00:38--  https://uc30623e45f824e89668cc389d69.dl.dropboxusercontent.com/cd/0/inline/AyWOp5S9WAFWuv6_KviLLcIAH8Fky85du3ls26wznBhcJLLT00SxBk3EE_O7zN-nfGsUDCgGWaoYe8jDK3hKa-_Al8o92cUOBoKSxMzaRaStw0BqZCWkCIIcIMFeIZLPZ_I/file\n",
      "Resolving uc30623e45f824e89668cc389d69.dl.dropboxusercontent.com (uc30623e45f824e89668cc389d69.dl.dropboxusercontent.com)... 162.125.9.6, 2620:100:601f:6::a27d:906\n",
      "Connecting to uc30623e45f824e89668cc389d69.dl.dropboxusercontent.com (uc30623e45f824e89668cc389d69.dl.dropboxusercontent.com)|162.125.9.6|:443... connected.\n",
      "HTTP request sent, awaiting response... 200 OK\n",
      "Length: 1979173 (1.9M) [text/plain]\n",
      "Saving to: ‘u.data’\n",
      "\n",
      "u.data              100%[===================>]   1.89M  --.-KB/s    in 0.1s    \n",
      "\n",
      "2020-02-18 12:00:39 (13.6 MB/s) - ‘u.data’ saved [1979173/1979173]\n",
      "\n"
     ]
    }
   ],
   "source": [
    "!wget https://www.dropbox.com/s/e0nehgkgv3uoad3/u.item\n",
    "!wget https://www.dropbox.com/s/7sy6mzs6d2skp8h/u.data"
   ]
  },
  {
   "cell_type": "code",
   "execution_count": null,
   "metadata": {
    "id": "e9gPRH23_UQZ"
   },
   "outputs": [],
   "source": [
    "preferences = loadMovieLens()"
   ]
  },
  {
   "cell_type": "markdown",
   "metadata": {
    "id": "71KUt9P7_UQc"
   },
   "source": [
    "Выведем фильмы для пользователя с ID 87 и рейтинги этих фильмов\n",
    "\n",
    "**Code 20:**"
   ]
  },
  {
   "cell_type": "code",
   "execution_count": null,
   "metadata": {
    "colab": {
     "base_uri": "https://localhost:8080/",
     "height": 1000
    },
    "id": "O6auJMKg_UQd",
    "outputId": "b914cdd4-3b53-4c59-9377-192568099aa3"
   },
   "outputs": [
    {
     "name": "stdout",
     "output_type": "stream",
     "text": [
      "{   '2001: A Space Odyssey (1968)': 5.0,\n",
      "    'Ace Ventura: Pet Detective (1994)': 4.0,\n",
      "    'Addams Family Values (1993)': 2.0,\n",
      "    'Addicted to Love (1997)': 4.0,\n",
      "    'Adventures of Priscilla, Queen of the Desert, The (1994)': 3.0,\n",
      "    'Adventures of Robin Hood, The (1938)': 5.0,\n",
      "    'Air Force One (1997)': 3.0,\n",
      "    'Air Up There, The (1994)': 3.0,\n",
      "    'Alien (1979)': 4.0,\n",
      "    'American President, The (1995)': 5.0,\n",
      "    'Annie Hall (1977)': 4.0,\n",
      "    'Apocalypse Now (1979)': 4.0,\n",
      "    'Babe (1995)': 5.0,\n",
      "    'Baby-Sitters Club, The (1995)': 2.0,\n",
      "    'Back to the Future (1985)': 5.0,\n",
      "    'Bad Boys (1995)': 4.0,\n",
      "    'Bananas (1971)': 5.0,\n",
      "    'Barcelona (1994)': 3.0,\n",
      "    'Batman & Robin (1997)': 4.0,\n",
      "    'Batman (1989)': 3.0,\n",
      "    'Batman Returns (1992)': 3.0,\n",
      "    'Big Green, The (1995)': 3.0,\n",
      "    'Big Squeeze, The (1996)': 2.0,\n",
      "    'Birdcage, The (1996)': 4.0,\n",
      "    'Blade Runner (1982)': 4.0,\n",
      "    'Blues Brothers, The (1980)': 5.0,\n",
      "    'Boomerang (1992)': 3.0,\n",
      "    'Boot, Das (1981)': 4.0,\n",
      "    'Brady Bunch Movie, The (1995)': 2.0,\n",
      "    'Braveheart (1995)': 4.0,\n",
      "    'Bridge on the River Kwai, The (1957)': 5.0,\n",
      "    'Broken Arrow (1996)': 3.0,\n",
      "    'Butch Cassidy and the Sundance Kid (1969)': 5.0,\n",
      "    'Citizen Kane (1941)': 4.0,\n",
      "    \"City Slickers II: The Legend of Curly's Gold (1994)\": 3.0,\n",
      "    'Clear and Present Danger (1994)': 5.0,\n",
      "    'Cliffhanger (1993)': 3.0,\n",
      "    'Clockwork Orange, A (1971)': 4.0,\n",
      "    'Clueless (1995)': 4.0,\n",
      "    'Con Air (1997)': 4.0,\n",
      "    'Conan the Barbarian (1981)': 3.0,\n",
      "    'Coneheads (1993)': 4.0,\n",
      "    'Cool Hand Luke (1967)': 5.0,\n",
      "    'Cops and Robbersons (1994)': 3.0,\n",
      "    'Cowboy Way, The (1994)': 3.0,\n",
      "    'Crow, The (1994)': 3.0,\n",
      "    'Dances with Wolves (1990)': 5.0,\n",
      "    \"Dante's Peak (1997)\": 3.0,\n",
      "    'Dave (1993)': 4.0,\n",
      "    'Days of Thunder (1990)': 5.0,\n",
      "    'Dead Man Walking (1995)': 4.0,\n",
      "    'Dead Poets Society (1989)': 5.0,\n",
      "    'Deer Hunter, The (1978)': 3.0,\n",
      "    'Demolition Man (1993)': 3.0,\n",
      "    'Desperado (1995)': 3.0,\n",
      "    'Die Hard (1988)': 4.0,\n",
      "    'Die Hard: With a Vengeance (1995)': 4.0,\n",
      "    'Down Periscope (1996)': 4.0,\n",
      "    'Dragonheart (1996)': 4.0,\n",
      "    'Dumb & Dumber (1994)': 4.0,\n",
      "    'Dunston Checks In (1996)': 1.0,\n",
      "    'E.T. the Extra-Terrestrial (1982)': 3.0,\n",
      "    'Ed Wood (1994)': 3.0,\n",
      "    'Empire Strikes Back, The (1980)': 5.0,\n",
      "    'Endless Summer 2, The (1994)': 3.0,\n",
      "    'Evil Dead II (1987)': 2.0,\n",
      "    'Executive Decision (1996)': 3.0,\n",
      "    'Fargo (1996)': 5.0,\n",
      "    'First Wives Club, The (1996)': 2.0,\n",
      "    'Fish Called Wanda, A (1988)': 5.0,\n",
      "    'Forget Paris (1995)': 4.0,\n",
      "    'Four Weddings and a Funeral (1994)': 5.0,\n",
      "    'French Kiss (1995)': 5.0,\n",
      "    'Fugitive, The (1993)': 5.0,\n",
      "    'Full Metal Jacket (1987)': 4.0,\n",
      "    'Get Shorty (1995)': 5.0,\n",
      "    'Glory (1989)': 4.0,\n",
      "    'Godfather, The (1972)': 4.0,\n",
      "    'GoldenEye (1995)': 4.0,\n",
      "    'Good, The Bad and The Ugly, The (1966)': 5.0,\n",
      "    'GoodFellas (1990)': 4.0,\n",
      "    'Grease (1978)': 4.0,\n",
      "    'Great White Hype, The (1996)': 3.0,\n",
      "    'Groundhog Day (1993)': 5.0,\n",
      "    'Grumpier Old Men (1995)': 4.0,\n",
      "    'Hard Target (1993)': 4.0,\n",
      "    'Heat (1995)': 3.0,\n",
      "    'Heathers (1989)': 3.0,\n",
      "    'Home Alone (1990)': 4.0,\n",
      "    'Hoop Dreams (1994)': 4.0,\n",
      "    'Hot Shots! Part Deux (1993)': 4.0,\n",
      "    'House Arrest (1996)': 3.0,\n",
      "    'I Love Trouble (1994)': 3.0,\n",
      "    'I.Q. (1994)': 5.0,\n",
      "    'In the Army Now (1994)': 4.0,\n",
      "    'In the Line of Fire (1993)': 5.0,\n",
      "    'Independence Day (ID4) (1996)': 5.0,\n",
      "    'Indiana Jones and the Last Crusade (1989)': 5.0,\n",
      "    'Inkwell, The (1994)': 3.0,\n",
      "    \"It's a Wonderful Life (1946)\": 5.0,\n",
      "    'Jack (1996)': 3.0,\n",
      "    'Jeffrey (1995)': 3.0,\n",
      "    'Jimmy Hollywood (1994)': 3.0,\n",
      "    \"Joe's Apartment (1996)\": 2.0,\n",
      "    'Junior (1994)': 4.0,\n",
      "    'Jurassic Park (1993)': 5.0,\n",
      "    'Kingpin (1996)': 4.0,\n",
      "    'Lightning Jack (1994)': 3.0,\n",
      "    'Lost World: Jurassic Park, The (1997)': 3.0,\n",
      "    'Low Down Dirty Shame, A (1994)': 3.0,\n",
      "    'M*A*S*H (1970)': 5.0,\n",
      "    'Magnificent Seven, The (1954)': 5.0,\n",
      "    'Major Payne (1994)': 3.0,\n",
      "    'Man of the House (1995)': 3.0,\n",
      "    'Manchurian Candidate, The (1962)': 4.0,\n",
      "    'Mars Attacks! (1996)': 3.0,\n",
      "    'Mask, The (1994)': 3.0,\n",
      "    'Matilda (1996)': 3.0,\n",
      "    'Maverick (1994)': 3.0,\n",
      "    'Michael (1996)': 4.0,\n",
      "    'Mighty Aphrodite (1995)': 3.0,\n",
      "    'Milk Money (1994)': 4.0,\n",
      "    'Mission: Impossible (1996)': 4.0,\n",
      "    \"Monty Python's Life of Brian (1979)\": 4.0,\n",
      "    'Mother (1996)': 2.0,\n",
      "    'Mrs. Doubtfire (1993)': 4.0,\n",
      "    'Multiplicity (1996)': 3.0,\n",
      "    'Muppet Treasure Island (1996)': 3.0,\n",
      "    'My Favorite Year (1982)': 3.0,\n",
      "    'Naked Gun 33 1/3: The Final Insult (1994)': 4.0,\n",
      "    'Net, The (1995)': 5.0,\n",
      "    'Nine Months (1995)': 4.0,\n",
      "    'Nutty Professor, The (1996)': 4.0,\n",
      "    'Platoon (1986)': 3.0,\n",
      "    'Prefontaine (1997)': 5.0,\n",
      "    'Private Benjamin (1980)': 4.0,\n",
      "    'Professional, The (1994)': 4.0,\n",
      "    'Program, The (1993)': 3.0,\n",
      "    'Pulp Fiction (1994)': 4.0,\n",
      "    \"Pyromaniac's Love Story, A (1995)\": 3.0,\n",
      "    'Quiet Man, The (1952)': 5.0,\n",
      "    'Raging Bull (1980)': 3.0,\n",
      "    'Raiders of the Lost Ark (1981)': 5.0,\n",
      "    'Raising Arizona (1987)': 3.0,\n",
      "    'Reality Bites (1994)': 3.0,\n",
      "    'Renaissance Man (1994)': 5.0,\n",
      "    'Return of the Jedi (1983)': 5.0,\n",
      "    'Return of the Pink Panther, The (1974)': 4.0,\n",
      "    'River Wild, The (1994)': 4.0,\n",
      "    'Sabrina (1995)': 4.0,\n",
      "    'Santa Clause, The (1994)': 4.0,\n",
      "    \"Schindler's List (1993)\": 4.0,\n",
      "    'Searching for Bobby Fischer (1993)': 4.0,\n",
      "    'Serial Mom (1994)': 1.0,\n",
      "    'Shadow, The (1994)': 3.0,\n",
      "    'Shawshank Redemption, The (1994)': 5.0,\n",
      "    \"Singin' in the Rain (1952)\": 4.0,\n",
      "    'Sleeper (1973)': 4.0,\n",
      "    'Sleepers (1996)': 4.0,\n",
      "    'Sleepless in Seattle (1993)': 5.0,\n",
      "    'Sneakers (1992)': 4.0,\n",
      "    'So I Married an Axe Murderer (1993)': 2.0,\n",
      "    'Something to Talk About (1995)': 2.0,\n",
      "    'Son in Law (1993)': 4.0,\n",
      "    'Speechless (1994)': 4.0,\n",
      "    'Speed (1994)': 5.0,\n",
      "    'Speed 2: Cruise Control (1997)': 3.0,\n",
      "    'Star Trek III: The Search for Spock (1984)': 4.0,\n",
      "    'Star Trek IV: The Voyage Home (1986)': 5.0,\n",
      "    'Star Trek: First Contact (1996)': 4.0,\n",
      "    'Star Trek: The Motion Picture (1979)': 3.0,\n",
      "    'Star Trek: The Wrath of Khan (1982)': 5.0,\n",
      "    'Star Wars (1977)': 5.0,\n",
      "    'Stargate (1994)': 5.0,\n",
      "    'Sting, The (1973)': 5.0,\n",
      "    'Strange Days (1995)': 3.0,\n",
      "    'Strictly Ballroom (1992)': 3.0,\n",
      "    'Striptease (1996)': 2.0,\n",
      "    'Supercop (1992)': 3.0,\n",
      "    'Swimming with Sharks (1995)': 3.0,\n",
      "    'Switchblade Sisters (1975)': 2.0,\n",
      "    'Terminator 2: Judgment Day (1991)': 5.0,\n",
      "    'Terminator, The (1984)': 5.0,\n",
      "    'That Old Feeling (1997)': 4.0,\n",
      "    'That Thing You Do! (1996)': 4.0,\n",
      "    'This Is Spinal Tap (1984)': 5.0,\n",
      "    'To Die For (1995)': 3.0,\n",
      "    'To Kill a Mockingbird (1962)': 4.0,\n",
      "    'To Wong Foo, Thanks for Everything! Julie Newmar (1995)': 3.0,\n",
      "    'Tommy Boy (1995)': 4.0,\n",
      "    'Top Gun (1986)': 5.0,\n",
      "    'Treasure of the Sierra Madre, The (1948)': 4.0,\n",
      "    'True Lies (1994)': 5.0,\n",
      "    'Truth About Cats & Dogs, The (1996)': 4.0,\n",
      "    'Twelve Monkeys (1995)': 4.0,\n",
      "    'Twister (1996)': 4.0,\n",
      "    \"Ulee's Gold (1997)\": 3.0,\n",
      "    'Under Siege (1992)': 4.0,\n",
      "    'Up in Smoke (1978)': 3.0,\n",
      "    'Vegas Vacation (1997)': 4.0,\n",
      "    'Victor/Victoria (1982)': 4.0,\n",
      "    'Waterworld (1995)': 4.0,\n",
      "    \"Weekend at Bernie's (1989)\": 3.0,\n",
      "    'When Harry Met Sally... (1989)': 5.0,\n",
      "    'While You Were Sleeping (1995)': 5.0,\n",
      "    'Wizard of Oz, The (1939)': 5.0,\n",
      "    'Wyatt Earp (1994)': 3.0,\n",
      "    'Young Frankenstein (1974)': 5.0,\n",
      "    'Young Guns (1988)': 3.0,\n",
      "    'Young Guns II (1990)': 2.0}\n"
     ]
    }
   ],
   "source": [
    "pp.pprint(preferences['87'])"
   ]
  },
  {
   "cell_type": "markdown",
   "metadata": {
    "id": "WJcyGO4c_UQf"
   },
   "source": [
    "Посмотрим, какие рекомендации получим с помощью коллаборативной фильтрации по схожести пользователей. Напомним, что для этого реализована функция **getRecommendations()**, которая выдает рекомендации для данного пользователя по похожести на других и предположительную его оценку фильму. \n",
    "\n",
    "Функция принимает на вход следующие аргументы: \n",
    "* словарь пользователей, в этом случае это *preferences*\n",
    "* имя персоны *person*, для которой подбираем соответствия \n",
    "* имя функции-критерия для сравнения\n",
    "\n",
    "Выведем первые топ-30 рекомендаций для пользователя с ID 87, для этого в квадратных скобочках укажем [0:30].\n",
    "\n",
    "*Замечание*: может появиться предупреждение RuntimeWarning, это связано с тем, что теперь мы работаем с большой выборкой и при подсчете корреляции Пирсона может возникать деление на ноль. В этом случае мы присваиваем корреляции значение ноль.\n",
    "\n",
    "**Code 21:**"
   ]
  },
  {
   "cell_type": "code",
   "execution_count": null,
   "metadata": {
    "colab": {
     "base_uri": "https://localhost:8080/",
     "height": 191
    },
    "id": "RBM810xK_UQg",
    "outputId": "1df6c7df-9e14-4019-deda-8a7e947df76d",
    "scrolled": true
   },
   "outputs": [
    {
     "data": {
      "text/plain": [
       "[(5.0, 'They Made Me a Criminal (1939)'),\n",
       " (5.0, 'Star Kid (1997)'),\n",
       " (5.0, 'Santa with Muscles (1996)'),\n",
       " (5.0, 'Saint of Fort Washington, The (1993)'),\n",
       " (5.0, 'Marlene Dietrich: Shadow and Light (1996) '),\n",
       " (5.0, 'Great Day in Harlem, A (1994)'),\n",
       " (5.0, 'Entertaining Angels: The Dorothy Day Story (1996)'),\n",
       " (5.0, 'Boys, Les (1997)'),\n",
       " (4.898844431289231, 'Legal Deceit (1997)'),\n",
       " (4.815019082242706, 'Letter From Death Row, A (1998)')]"
      ]
     },
     "execution_count": 43,
     "metadata": {
      "tags": []
     },
     "output_type": "execute_result"
    }
   ],
   "source": [
    "getRecommendations(preferences, '87', sim_pearson)[0:10]"
   ]
  },
  {
   "cell_type": "markdown",
   "metadata": {
    "id": "IQkH89RB_UQj"
   },
   "source": [
    "Интересно также сравнить полученный результат с рекомендациями по схожести образцов. Напомним, чтобы сравнить образцы, нужно в первую очередь перестроить наш набор данных из набора предпочтений пользователей в набор оценок фильмов. Для этого используем функцию **calculateSimilarItems()**. На вход её нужно подать словарь с оценками пользователей *prefernces*. Кроме этого, мы передадим аргумент *n = 50*, так как хотим оставить только 50 наиболее похожих образцов в новом словаре.  "
   ]
  },
  {
   "cell_type": "markdown",
   "metadata": {
    "id": "8zwZzp1U_UQj"
   },
   "source": [
    "В этот раз мы работаем с большим набором данных и вычисления могут занять некоторое время, поэтому функция также будет выводить сообщение о том, сколько фильмов она уже просмотрела. \n",
    "\n",
    "**Code 22:**"
   ]
  },
  {
   "cell_type": "code",
   "execution_count": null,
   "metadata": {
    "colab": {
     "base_uri": "https://localhost:8080/",
     "height": 295
    },
    "id": "CPt61njj_UQk",
    "outputId": "390e25bf-3c9d-4452-e953-e84eed701fc3"
   },
   "outputs": [
    {
     "name": "stdout",
     "output_type": "stream",
     "text": [
      "100 / 1664\n",
      "200 / 1664\n",
      "300 / 1664\n",
      "400 / 1664\n",
      "500 / 1664\n",
      "600 / 1664\n",
      "700 / 1664\n",
      "800 / 1664\n",
      "900 / 1664\n",
      "1000 / 1664\n",
      "1100 / 1664\n",
      "1200 / 1664\n",
      "1300 / 1664\n",
      "1400 / 1664\n",
      "1500 / 1664\n",
      "1600 / 1664\n"
     ]
    }
   ],
   "source": [
    "item_similarities = calculateSimilarItems(preferences, n=50)"
   ]
  },
  {
   "cell_type": "markdown",
   "metadata": {
    "id": "Ygkn4Aq2_UQm"
   },
   "source": [
    "Посмотрим на результат:\n",
    "\n",
    "**Code 23:**"
   ]
  },
  {
   "cell_type": "code",
   "execution_count": null,
   "metadata": {
    "colab": {
     "base_uri": "https://localhost:8080/",
     "height": 945
    },
    "id": "CSl0P34A_UQn",
    "outputId": "b485fb19-be6d-4854-d625-a9334094d570",
    "scrolled": true
   },
   "outputs": [
    {
     "data": {
      "text/plain": [
       "[(1.0, 'Yankee Zulu (1994)'),\n",
       " (1.0, 'Woman in Question, The (1950)'),\n",
       " (1.0, 'Witness (1985)'),\n",
       " (1.0, \"Wend Kuuni (God's Gift) (1982)\"),\n",
       " (1.0, 'Vie est belle, La (Life is Rosey) (1987)'),\n",
       " (1.0, 'Vermont Is For Lovers (1992)'),\n",
       " (1.0, 'Van, The (1996)'),\n",
       " (1.0, 'Two or Three Things I Know About Her (1966)'),\n",
       " (1.0, 'Two Much (1996)'),\n",
       " (1.0, 'Two Deaths (1995)'),\n",
       " (1.0, 'Two Bits (1995)'),\n",
       " (1.0, 'Touki Bouki (Journey of the Hyena) (1973)'),\n",
       " (1.0, 'Total Eclipse (1995)'),\n",
       " (1.0, 'To Have, or Not (1995)'),\n",
       " (1.0, 'To Cross the Rubicon (1991)'),\n",
       " (1.0, 'Tigrero: A Film That Was Never Made (1994)'),\n",
       " (1.0, 'The Courtyard (1995)'),\n",
       " (1.0, 'Terror in a Texas Town (1958)'),\n",
       " (1.0, 'Talking About Sex (1994)'),\n",
       " (1.0, 'T-Men (1947)'),\n",
       " (1.0, 'Symphonie pastorale, La (1946)'),\n",
       " (1.0, 'Swept from the Sea (1997)'),\n",
       " (1.0, 'Stranger in the House (1997)'),\n",
       " (1.0, 'Stonewall (1995)'),\n",
       " (1.0, 'Squeeze (1996)'),\n",
       " (1.0, 'Spirits of the Dead (Tre passi nel delirio) (1968)'),\n",
       " (1.0, 'Somebody to Love (1994)'),\n",
       " (1.0, 'So Dear to My Heart (1949)'),\n",
       " (1.0, 'Sliding Doors (1998)'),\n",
       " (1.0, 'Shooting Fish (1997)'),\n",
       " (1.0, 'Shadows (Cienie) (1988)'),\n",
       " (1.0, 'Secret Adventures of Tom Thumb, The (1993)'),\n",
       " (1.0, 'Scream of Stone (Schrei aus Stein) (1991)'),\n",
       " (1.0, 'Salut cousin! (1996)'),\n",
       " (1.0, 'Romper Stomper (1992)'),\n",
       " (1.0, 'Relative Fear (1994)'),\n",
       " (1.0, 'Quartier Mozart (1992)'),\n",
       " (1.0, 'Promise, The (Versprechen, Das) (1994)'),\n",
       " (1.0, 'Prefontaine (1997)'),\n",
       " (1.0, \"Pharaoh's Army (1995)\"),\n",
       " (1.0, 'Nosferatu a Venezia (1986)'),\n",
       " (1.0, 'Nina Takes a Lover (1994)'),\n",
       " (1.0, 'Niagara, Niagara (1997)'),\n",
       " (1.0, 'Mr. Jones (1993)'),\n",
       " (1.0, 'Mostro, Il (1994)'),\n",
       " (1.0, 'Modern Affair, A (1995)'),\n",
       " (1.0, 'Mighty, The (1998)'),\n",
       " (1.0, 'Metisse (Café au Lait) (1993)'),\n",
       " (1.0, 'Man from Down Under, The (1943)'),\n",
       " (1.0, 'Liebelei (1933)')]"
      ]
     },
     "execution_count": 28,
     "metadata": {
      "tags": []
     },
     "output_type": "execute_result"
    }
   ],
   "source": [
    "item_similarities[\"What's Eating Gilbert Grape (1993)\"]"
   ]
  },
  {
   "cell_type": "markdown",
   "metadata": {
    "id": "CljYM-UW_UQq"
   },
   "source": [
    "Теперь получим топ-30 рекомендаций для пользователя с учетом похожести фильмов. Используем функцию **getRecommendedItems()**, которой на вход подается:\n",
    "* словарь с оценками пользователя (*preferences*)\n",
    "* словарь с данными о схожести фильмов, *item_similarities*\n",
    "* ID пользователя, для которого строим рекомендации\n",
    "\n",
    "**Code 24:**"
   ]
  },
  {
   "cell_type": "code",
   "execution_count": null,
   "metadata": {
    "colab": {
     "base_uri": "https://localhost:8080/",
     "height": 574
    },
    "id": "PBBRcaPK_UQq",
    "outputId": "ca8bea29-a975-4bad-d9f9-b975c619b9be"
   },
   "outputs": [
    {
     "data": {
      "text/plain": [
       "[(5.0, \"What's Eating Gilbert Grape (1993)\"),\n",
       " (5.0, 'Vertigo (1958)'),\n",
       " (5.0, 'Usual Suspects, The (1995)'),\n",
       " (5.0, 'Toy Story (1995)'),\n",
       " (5.0, 'Titanic (1997)'),\n",
       " (5.0, 'Sword in the Stone, The (1963)'),\n",
       " (5.0, 'Stand by Me (1986)'),\n",
       " (5.0, 'Sling Blade (1996)'),\n",
       " (5.0, 'Silence of the Lambs, The (1991)'),\n",
       " (5.0, 'Shining, The (1980)'),\n",
       " (5.0, 'Shine (1996)'),\n",
       " (5.0, 'Sense and Sensibility (1995)'),\n",
       " (5.0, 'Scream (1996)'),\n",
       " (5.0, 'Rumble in the Bronx (1995)'),\n",
       " (5.0, 'Rock, The (1996)'),\n",
       " (5.0, 'Robin Hood: Prince of Thieves (1991)'),\n",
       " (5.0, 'Reservoir Dogs (1992)'),\n",
       " (5.0, 'Police Story 4: Project S (Chao ji ji hua) (1993)'),\n",
       " (5.0, 'House of the Spirits, The (1993)'),\n",
       " (5.0, 'Fresh (1994)'),\n",
       " (5.0, 'Denise Calls Up (1995)'),\n",
       " (5.0, 'Day the Sun Turned Cold, The (Tianguo niezi) (1994)'),\n",
       " (5.0, 'Before the Rain (Pred dozhdot) (1994)'),\n",
       " (5.0, 'Assignment, The (1997)'),\n",
       " (5.0, '1-900 (1994)'),\n",
       " (4.875, \"Ed's Next Move (1996)\"),\n",
       " (4.833333333333333, 'Anna (1996)'),\n",
       " (4.8, 'Dark City (1998)'),\n",
       " (4.75, 'Flower of My Secret, The (Flor de mi secreto, La) (1995)'),\n",
       " (4.75, 'Broken English (1996)')]"
      ]
     },
     "execution_count": 29,
     "metadata": {
      "tags": []
     },
     "output_type": "execute_result"
    }
   ],
   "source": [
    "getRecommendedItems(preferences, item_similarities, '87')[0:30]"
   ]
  },
  {
   "cell_type": "markdown",
   "metadata": {
    "id": "zNZtg9hy_UQt"
   },
   "source": [
    "Выведем список фильмов, которые пользователь с id `87` оценил максимальным баллом:\n",
    "\n",
    "**Code 25:**"
   ]
  },
  {
   "cell_type": "code",
   "execution_count": null,
   "metadata": {
    "colab": {
     "base_uri": "https://localhost:8080/",
     "height": 1000
    },
    "id": "K1BUEJFc_UQt",
    "outputId": "766e8d94-216f-479b-eae7-8ee3194ed921",
    "scrolled": true
   },
   "outputs": [
    {
     "data": {
      "text/plain": [
       "{'2001: A Space Odyssey (1968)': 5.0,\n",
       " 'Adventures of Robin Hood, The (1938)': 5.0,\n",
       " 'American President, The (1995)': 5.0,\n",
       " 'Babe (1995)': 5.0,\n",
       " 'Back to the Future (1985)': 5.0,\n",
       " 'Bananas (1971)': 5.0,\n",
       " 'Blues Brothers, The (1980)': 5.0,\n",
       " 'Bridge on the River Kwai, The (1957)': 5.0,\n",
       " 'Butch Cassidy and the Sundance Kid (1969)': 5.0,\n",
       " 'Clear and Present Danger (1994)': 5.0,\n",
       " 'Cool Hand Luke (1967)': 5.0,\n",
       " 'Dances with Wolves (1990)': 5.0,\n",
       " 'Days of Thunder (1990)': 5.0,\n",
       " 'Dead Poets Society (1989)': 5.0,\n",
       " 'Empire Strikes Back, The (1980)': 5.0,\n",
       " 'Fargo (1996)': 5.0,\n",
       " 'Fish Called Wanda, A (1988)': 5.0,\n",
       " 'Four Weddings and a Funeral (1994)': 5.0,\n",
       " 'French Kiss (1995)': 5.0,\n",
       " 'Fugitive, The (1993)': 5.0,\n",
       " 'Get Shorty (1995)': 5.0,\n",
       " 'Good, The Bad and The Ugly, The (1966)': 5.0,\n",
       " 'Groundhog Day (1993)': 5.0,\n",
       " 'I.Q. (1994)': 5.0,\n",
       " 'In the Line of Fire (1993)': 5.0,\n",
       " 'Independence Day (ID4) (1996)': 5.0,\n",
       " 'Indiana Jones and the Last Crusade (1989)': 5.0,\n",
       " \"It's a Wonderful Life (1946)\": 5.0,\n",
       " 'Jurassic Park (1993)': 5.0,\n",
       " 'M*A*S*H (1970)': 5.0,\n",
       " 'Magnificent Seven, The (1954)': 5.0,\n",
       " 'Net, The (1995)': 5.0,\n",
       " 'Prefontaine (1997)': 5.0,\n",
       " 'Quiet Man, The (1952)': 5.0,\n",
       " 'Raiders of the Lost Ark (1981)': 5.0,\n",
       " 'Renaissance Man (1994)': 5.0,\n",
       " 'Return of the Jedi (1983)': 5.0,\n",
       " 'Shawshank Redemption, The (1994)': 5.0,\n",
       " 'Sleepless in Seattle (1993)': 5.0,\n",
       " 'Speed (1994)': 5.0,\n",
       " 'Star Trek IV: The Voyage Home (1986)': 5.0,\n",
       " 'Star Trek: The Wrath of Khan (1982)': 5.0,\n",
       " 'Star Wars (1977)': 5.0,\n",
       " 'Stargate (1994)': 5.0,\n",
       " 'Sting, The (1973)': 5.0,\n",
       " 'Terminator 2: Judgment Day (1991)': 5.0,\n",
       " 'Terminator, The (1984)': 5.0,\n",
       " 'This Is Spinal Tap (1984)': 5.0,\n",
       " 'Top Gun (1986)': 5.0,\n",
       " 'True Lies (1994)': 5.0,\n",
       " 'When Harry Met Sally... (1989)': 5.0,\n",
       " 'While You Were Sleeping (1995)': 5.0,\n",
       " 'Wizard of Oz, The (1939)': 5.0,\n",
       " 'Young Frankenstein (1974)': 5.0}"
      ]
     },
     "execution_count": 30,
     "metadata": {
      "tags": []
     },
     "output_type": "execute_result"
    }
   ],
   "source": [
    "{x: preferences['87'][x] for x in preferences['87'] if preferences['87'][x] == 5}"
   ]
  },
  {
   "cell_type": "markdown",
   "metadata": {
    "id": "Z97RjzWY_UQz"
   },
   "source": [
    "Валидация для моделей рекомендательных систем устроена достаточно сложно. \n",
    "Например, нам нужно забыть часть рейтингов фильмов для пользователя, а потом попытаться восстановить их с \n",
    "помощью нашей модели.\n",
    "\n",
    "В данном случае, мы можем оценить адекватность полученных рекомендаций, просмотрев списки фильмов. Однако, на текущем датасете, из-за размера выборки, такое сделать сложно. \n",
    "\n",
    "Приведем примеры интерпретации:\n",
    "* В случае использования расстояния, основанного на коррелции, модель рекомендует в первую очередь боевики\n",
    "* В случае использование похожестей фильмов мы видим как общепризнанные шедевры, так и боевики\n",
    "* В реальности пользователю нравятся фильмы, которые нравятся всем, приключенческие фильмы и боевики\n",
    "\n",
    "С такой точки зрения оба списка рекомендаций кажутся адекватным, а то, что они не пересекаются связано с тем, \n",
    "что есть много похожих друг на друга фильмов - и мы не можем рекомендовать сразу все такие фильмы пользователю.\n"
   ]
  },
  {
   "cell_type": "markdown",
   "metadata": {
    "id": "vNcZplo7_UQz"
   },
   "source": [
    "Для рекомендательных систем есть специальные библиотеки, например, https://surprise.readthedocs.io/, однако, их применение требует более глубокого знакомства с темой. "
   ]
  },
  {
   "cell_type": "code",
   "execution_count": null,
   "metadata": {
    "id": "cfxwVA9jM5GG"
   },
   "outputs": [],
   "source": [
    "real = list({x: preferences['87'][x] for x in preferences['87'] if preferences['87'][x] == 5}.keys())"
   ]
  },
  {
   "cell_type": "code",
   "execution_count": null,
   "metadata": {
    "colab": {
     "base_uri": "https://localhost:8080/",
     "height": 884
    },
    "id": "Ww7DmG03NfnJ",
    "outputId": "9e0bf062-e977-4cc3-f4cd-fda2635b7382"
   },
   "outputs": [
    {
     "name": "stdout",
     "output_type": "stream",
     "text": [
      "False\n",
      "False\n",
      "False\n",
      "False\n",
      "False\n",
      "False\n",
      "False\n",
      "False\n",
      "False\n",
      "False\n",
      "False\n",
      "False\n",
      "False\n",
      "False\n",
      "False\n",
      "False\n",
      "False\n",
      "False\n",
      "False\n",
      "False\n",
      "False\n",
      "False\n",
      "False\n",
      "False\n",
      "False\n",
      "False\n",
      "False\n",
      "False\n",
      "False\n",
      "False\n",
      "False\n",
      "False\n",
      "False\n",
      "False\n",
      "False\n",
      "False\n",
      "False\n",
      "False\n",
      "False\n",
      "False\n",
      "False\n",
      "False\n",
      "False\n",
      "False\n",
      "False\n",
      "False\n",
      "False\n",
      "False\n",
      "False\n",
      "False\n"
     ]
    }
   ],
   "source": [
    "for i in range(0,50):\n",
    "  print(getRecommendedItems(preferences, item_similarities, '87')[:50][i][1] in real)"
   ]
  }
 ],
 "metadata": {
  "colab": {
   "collapsed_sections": [],
   "name": "level1_seminar3_recommender_system.ipynb",
   "provenance": [],
   "toc_visible": true
  },
  "kernelspec": {
   "display_name": "Python [conda env:ml-mipt]",
   "language": "python",
   "name": "conda-env-ml-mipt-py"
  },
  "language_info": {
   "codemirror_mode": {
    "name": "ipython",
    "version": 3
   },
   "file_extension": ".py",
   "mimetype": "text/x-python",
   "name": "python",
   "nbconvert_exporter": "python",
   "pygments_lexer": "ipython3",
   "version": "3.8.5"
  },
  "name": "lesson11_recsys.ipynb",
  "toc": {
   "base_numbering": 1,
   "nav_menu": {},
   "number_sections": true,
   "sideBar": true,
   "skip_h1_title": false,
   "title_cell": "Table of Contents",
   "title_sidebar": "Contents",
   "toc_cell": false,
   "toc_position": {},
   "toc_section_display": true,
   "toc_window_display": true
  }
 },
 "nbformat": 4,
 "nbformat_minor": 1
}
